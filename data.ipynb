{
 "cells": [
  {
   "cell_type": "code",
   "execution_count": 34,
   "metadata": {},
   "outputs": [],
   "source": [
    "from dash import Dash, html, dcc, Input, Output  # pip install dash\n",
    "import plotly.express as px\n",
    "import dash_ag_grid as dag                       # pip install dash-ag-grid\n",
    "import dash_bootstrap_components as dbc          # pip install dash-bootstrap-components\n",
    "import pandas as pd                              # pip install pandas\n",
    "\n",
    "import matplotlib                                # pip install matplotlib\n",
    "matplotlib.use('agg')\n",
    "import matplotlib.pyplot as plt\n",
    "import base64\n",
    "from io import BytesIO\n",
    "\n",
    "import requests\n",
    "import numpy as np\n",
    "\n",
    "import plotly.graph_objects as go"
   ]
  },
  {
   "cell_type": "code",
   "execution_count": 95,
   "metadata": {},
   "outputs": [],
   "source": [
    "df = pd.read_csv(\"spese.csv\", quotechar=\"'\")\n",
    "\n",
    "selected_columns = ['Territorio', 'COICOP', 'Coicop (DESC)', 'componenti', 'Anno', 'Spesa media']\n",
    "df = df[selected_columns]\n",
    "\n",
    "#spesa media\n",
    "df['Spesa media'] = pd.to_numeric(df['Spesa media'], errors='coerce')\n",
    "df['Spesa media'] = df['Spesa media'].replace(np.nan, -1, regex=True)\n",
    "df['Spesa media'] = df['Spesa media'].astype(float)\n",
    "df = df[df['Spesa media'] >= 0]\n",
    "\n",
    "#territorio\n",
    "df.replace(inplace=True, to_replace='Valle d\"Aosta / Vallée d\"\\'Aoste\\'', value='Valle d\\'Aosta/Vallée d\\'Aoste')\n",
    "df.replace(inplace=True, to_replace='Trentino Alto Adige / Südtirol', value='Trentino-Alto Adige/Südtirol')\n",
    "\n",
    "#categorie\n",
    "values_to_exclude = ['0220', '0461_MANUT_STR', '0520', '0540', '0630', '0810', '0820', '0830', '0960', '1010', '1020', '1030', '1040', '1050', '1120', '1240', '1262', '1270']\n",
    "df = df[~df['COICOP'].isin(values_to_exclude)]\n",
    "df.loc[df['COICOP'] == '046_MANUT_STR', 'COICOP'] = '046'\n",
    "\n",
    "#root\n",
    "df.loc[df['COICOP'] == 'NON_FOOD', 'Root'] = 'Non alimenti'\n",
    "df.loc[((df['COICOP'].str.len() == 2)) | (df['COICOP'] == 'ALL'), 'Root'] = df['Coicop (DESC)']\n",
    "\n",
    "##first level\n",
    "df.loc[((df['COICOP'].str.len() == 3) & (df['Root'].isna())), 'First_level'] = df['Coicop (DESC)']\n",
    "\n",
    "##second level\n",
    "df.loc[((df['COICOP'].str.len() == 4) & (df['First_level'].isna()) & (df['Root'].isna())), 'Second_level'] = df['Coicop (DESC)']\n",
    "\n",
    "#fill the gaps\n",
    "mask = df['Root'].isna()\n",
    "df['Root'] = df['Root'].fillna(method='ffill')\n",
    "df.loc[mask, 'First_level'] = df['First_level'].fillna(method='ffill')\n",
    "\n",
    "macro_category=df[df['First_level'].isna() & df['Second_level'].isna()]['Coicop (DESC)'].unique()"
   ]
  },
  {
   "cell_type": "code",
   "execution_count": 97,
   "metadata": {},
   "outputs": [
    {
     "data": {
      "text/plain": [
       "array(['Italia', 'Nord', 'Piemonte', 'Valle d\"Aosta / Vallée d\"\\'Aoste\\'',\n",
       "       'Liguria', 'Lombardia', 'Trentino-Alto Adige/Südtirol',\n",
       "       'Provincia Autonoma Bolzano / Bozen', 'Provincia Autonoma Trento',\n",
       "       'Veneto', 'Friuli-Venezia Giulia', 'Emilia-Romagna', 'Centro',\n",
       "       'Toscana', 'Umbria', 'Marche', 'Lazio', 'Mezzogiorno', 'Abruzzo',\n",
       "       'Molise', 'Campania', 'Puglia', 'Basilicata', 'Calabria',\n",
       "       'Sicilia', 'Sardegna'], dtype=object)"
      ]
     },
     "execution_count": 97,
     "metadata": {},
     "output_type": "execute_result"
    }
   ],
   "source": [
    "df['Territorio'].unique()"
   ]
  },
  {
   "cell_type": "code",
   "execution_count": 77,
   "metadata": {},
   "outputs": [
    {
     "data": {
      "text/html": [
       "<div>\n",
       "<style scoped>\n",
       "    .dataframe tbody tr th:only-of-type {\n",
       "        vertical-align: middle;\n",
       "    }\n",
       "\n",
       "    .dataframe tbody tr th {\n",
       "        vertical-align: top;\n",
       "    }\n",
       "\n",
       "    .dataframe thead th {\n",
       "        text-align: right;\n",
       "    }\n",
       "</style>\n",
       "<table border=\"1\" class=\"dataframe\">\n",
       "  <thead>\n",
       "    <tr style=\"text-align: right;\">\n",
       "      <th></th>\n",
       "      <th>Territorio</th>\n",
       "      <th>COICOP</th>\n",
       "      <th>Coicop (DESC)</th>\n",
       "      <th>componenti</th>\n",
       "      <th>Anno</th>\n",
       "      <th>Spesa media</th>\n",
       "      <th>Root</th>\n",
       "      <th>First_level</th>\n",
       "      <th>Second_level</th>\n",
       "    </tr>\n",
       "  </thead>\n",
       "  <tbody>\n",
       "    <tr>\n",
       "      <th>138</th>\n",
       "      <td>Italia</td>\n",
       "      <td>2</td>\n",
       "      <td>Bevande alcoliche e tabacchi</td>\n",
       "      <td>1</td>\n",
       "      <td>2022</td>\n",
       "      <td>30.75</td>\n",
       "      <td>Non alimenti</td>\n",
       "      <td>Servizi per la trasformazione delle materie pr...</td>\n",
       "      <td>NaN</td>\n",
       "    </tr>\n",
       "    <tr>\n",
       "      <th>732</th>\n",
       "      <td>Italia</td>\n",
       "      <td>8</td>\n",
       "      <td>Informazione e comunicazione</td>\n",
       "      <td>1</td>\n",
       "      <td>2022</td>\n",
       "      <td>49.13</td>\n",
       "      <td>Non alimenti</td>\n",
       "      <td>Servizi di trasporto merci</td>\n",
       "      <td>NaN</td>\n",
       "    </tr>\n",
       "    <tr>\n",
       "      <th>198</th>\n",
       "      <td>Italia</td>\n",
       "      <td>3</td>\n",
       "      <td>Abbigliamento e calzature</td>\n",
       "      <td>1</td>\n",
       "      <td>2022</td>\n",
       "      <td>61.84</td>\n",
       "      <td>Non alimenti</td>\n",
       "      <td>Tabacchi</td>\n",
       "      <td>NaN</td>\n",
       "    </tr>\n",
       "    <tr>\n",
       "      <th>390</th>\n",
       "      <td>Italia</td>\n",
       "      <td>5</td>\n",
       "      <td>Mobili, articoli e servizi per la casa</td>\n",
       "      <td>1</td>\n",
       "      <td>2022</td>\n",
       "      <td>76.89</td>\n",
       "      <td>Non alimenti</td>\n",
       "      <td>Interventi di ristrutturazione</td>\n",
       "      <td>NaN</td>\n",
       "    </tr>\n",
       "    <tr>\n",
       "      <th>510</th>\n",
       "      <td>Italia</td>\n",
       "      <td>6</td>\n",
       "      <td>Salute</td>\n",
       "      <td>1</td>\n",
       "      <td>2022</td>\n",
       "      <td>80.64</td>\n",
       "      <td>Non alimenti</td>\n",
       "      <td>Beni e servizi per la manutenzione ordinaria d...</td>\n",
       "      <td>NaN</td>\n",
       "    </tr>\n",
       "    <tr>\n",
       "      <th>606</th>\n",
       "      <td>Italia</td>\n",
       "      <td>7</td>\n",
       "      <td>Trasporti</td>\n",
       "      <td>1</td>\n",
       "      <td>2022</td>\n",
       "      <td>152.42</td>\n",
       "      <td>Non alimenti</td>\n",
       "      <td>Altri servizi sanitari</td>\n",
       "      <td>NaN</td>\n",
       "    </tr>\n",
       "    <tr>\n",
       "      <th>6</th>\n",
       "      <td>Italia</td>\n",
       "      <td>1</td>\n",
       "      <td>Prodotti alimentari e bevande analcoliche</td>\n",
       "      <td>1</td>\n",
       "      <td>2022</td>\n",
       "      <td>313.52</td>\n",
       "      <td>Totale</td>\n",
       "      <td>NaN</td>\n",
       "      <td>NaN</td>\n",
       "    </tr>\n",
       "    <tr>\n",
       "      <th>252</th>\n",
       "      <td>Italia</td>\n",
       "      <td>4</td>\n",
       "      <td>Abitazione, acqua, elettricità, gas e altri co...</td>\n",
       "      <td>1</td>\n",
       "      <td>2022</td>\n",
       "      <td>889.97</td>\n",
       "      <td>Non alimenti</td>\n",
       "      <td>Calzature</td>\n",
       "      <td>NaN</td>\n",
       "    </tr>\n",
       "  </tbody>\n",
       "</table>\n",
       "</div>"
      ],
      "text/plain": [
       "    Territorio COICOP                                      Coicop (DESC)  \\\n",
       "138     Italia      2                       Bevande alcoliche e tabacchi   \n",
       "732     Italia      8                       Informazione e comunicazione   \n",
       "198     Italia      3                          Abbigliamento e calzature   \n",
       "390     Italia      5             Mobili, articoli e servizi per la casa   \n",
       "510     Italia      6                                             Salute   \n",
       "606     Italia      7                                          Trasporti   \n",
       "6       Italia      1          Prodotti alimentari e bevande analcoliche   \n",
       "252     Italia      4  Abitazione, acqua, elettricità, gas e altri co...   \n",
       "\n",
       "    componenti  Anno  Spesa media          Root  \\\n",
       "138          1  2022        30.75  Non alimenti   \n",
       "732          1  2022        49.13  Non alimenti   \n",
       "198          1  2022        61.84  Non alimenti   \n",
       "390          1  2022        76.89  Non alimenti   \n",
       "510          1  2022        80.64  Non alimenti   \n",
       "606          1  2022       152.42  Non alimenti   \n",
       "6            1  2022       313.52        Totale   \n",
       "252          1  2022       889.97  Non alimenti   \n",
       "\n",
       "                                           First_level Second_level  \n",
       "138  Servizi per la trasformazione delle materie pr...          NaN  \n",
       "732                         Servizi di trasporto merci          NaN  \n",
       "198                                           Tabacchi          NaN  \n",
       "390                     Interventi di ristrutturazione          NaN  \n",
       "510  Beni e servizi per la manutenzione ordinaria d...          NaN  \n",
       "606                             Altri servizi sanitari          NaN  \n",
       "6                                                  NaN          NaN  \n",
       "252                                          Calzature          NaN  "
      ]
     },
     "metadata": {},
     "output_type": "display_data"
    }
   ],
   "source": [
    "region = 'Italia'\n",
    "components = '1'\n",
    "value_list = [str(i) for i in range(1, 9)]\n",
    "mask = df[(df['Territorio'] == region) & (df['componenti'] == components) & (df['COICOP'].isin(value_list))]\n",
    "mask = mask.sort_values(by=['Anno', 'Spesa media'])\n",
    "display(mask)"
   ]
  },
  {
   "cell_type": "code",
   "execution_count": 78,
   "metadata": {},
   "outputs": [
    {
     "data": {
      "text/html": [
       "<div>\n",
       "<style scoped>\n",
       "    .dataframe tbody tr th:only-of-type {\n",
       "        vertical-align: middle;\n",
       "    }\n",
       "\n",
       "    .dataframe tbody tr th {\n",
       "        vertical-align: top;\n",
       "    }\n",
       "\n",
       "    .dataframe thead th {\n",
       "        text-align: right;\n",
       "    }\n",
       "</style>\n",
       "<table border=\"1\" class=\"dataframe\">\n",
       "  <thead>\n",
       "    <tr style=\"text-align: right;\">\n",
       "      <th></th>\n",
       "      <th>componenti</th>\n",
       "      <th>Coicop (DESC)</th>\n",
       "      <th>mean_value</th>\n",
       "    </tr>\n",
       "  </thead>\n",
       "  <tbody>\n",
       "  </tbody>\n",
       "</table>\n",
       "</div>"
      ],
      "text/plain": [
       "Empty DataFrame\n",
       "Columns: [componenti, Coicop (DESC), mean_value]\n",
       "Index: []"
      ]
     },
     "metadata": {},
     "output_type": "display_data"
    },
    {
     "data": {
      "text/html": [
       "<div>\n",
       "<style scoped>\n",
       "    .dataframe tbody tr th:only-of-type {\n",
       "        vertical-align: middle;\n",
       "    }\n",
       "\n",
       "    .dataframe tbody tr th {\n",
       "        vertical-align: top;\n",
       "    }\n",
       "\n",
       "    .dataframe thead th {\n",
       "        text-align: right;\n",
       "    }\n",
       "</style>\n",
       "<table border=\"1\" class=\"dataframe\">\n",
       "  <thead>\n",
       "    <tr style=\"text-align: right;\">\n",
       "      <th></th>\n",
       "      <th>Coicop (DESC)</th>\n",
       "      <th>mean_value</th>\n",
       "    </tr>\n",
       "  </thead>\n",
       "  <tbody>\n",
       "  </tbody>\n",
       "</table>\n",
       "</div>"
      ],
      "text/plain": [
       "Empty DataFrame\n",
       "Columns: [Coicop (DESC), mean_value]\n",
       "Index: []"
      ]
     },
     "metadata": {},
     "output_type": "display_data"
    }
   ],
   "source": [
    "value_list = [str(i) for i in range(1, 10)]\n",
    "region = 'Italia'\n",
    "year=2020\n",
    "mask = df[(df['Territorio'] == region) & (df['Anno'] == year) & (df['COICOP'].isin(value_list))]\n",
    "\n",
    "grouped_data = mask.groupby(['componenti', 'Coicop (DESC)']).agg(mean_value=('Spesa media', 'mean')).reset_index()\n",
    "mean_values = grouped_data.groupby(['Coicop (DESC)']).agg(mean_value=('mean_value', 'mean')).reset_index()\n",
    "\n",
    "display(grouped_data)\n",
    "display(mean_values)"
   ]
  },
  {
   "cell_type": "code",
   "execution_count": 79,
   "metadata": {},
   "outputs": [
    {
     "data": {
      "application/vnd.plotly.v1+json": {
       "config": {
        "plotlyServerURL": "https://plot.ly"
       },
       "data": [
        {
         "coloraxis": "coloraxis",
         "featureidkey": "properties.reg_name",
         "geo": "geo",
         "geojson": "https://raw.githubusercontent.com/openpolis/geojson-italy/master/geojson/limits_IT_regions.geojson",
         "hovertemplate": "Territorio=%{location}<br>Spesa media=%{z}<extra></extra>",
         "locations": [],
         "name": "",
         "type": "choropleth",
         "z": []
        }
       ],
       "layout": {
        "coloraxis": {
         "colorbar": {
          "title": {
           "text": "Spesa media"
          }
         },
         "colorscale": [
          [
           0,
           "#000004"
          ],
          [
           0.1111111111111111,
           "#180f3d"
          ],
          [
           0.2222222222222222,
           "#440f76"
          ],
          [
           0.3333333333333333,
           "#721f81"
          ],
          [
           0.4444444444444444,
           "#9e2f7f"
          ],
          [
           0.5555555555555556,
           "#cd4071"
          ],
          [
           0.6666666666666666,
           "#f1605d"
          ],
          [
           0.7777777777777778,
           "#fd9668"
          ],
          [
           0.8888888888888888,
           "#feca8d"
          ],
          [
           1,
           "#fcfdbf"
          ]
         ]
        },
        "geo": {
         "center": {},
         "domain": {
          "x": [
           0,
           1
          ],
          "y": [
           0,
           1
          ]
         },
         "fitbounds": "locations",
         "scope": "europe",
         "visible": false
        },
        "legend": {
         "tracegroupgap": 0
        },
        "margin": {
         "b": 0,
         "l": 0,
         "r": 0,
         "t": 0
        },
        "template": {
         "data": {
          "bar": [
           {
            "error_x": {
             "color": "#2a3f5f"
            },
            "error_y": {
             "color": "#2a3f5f"
            },
            "marker": {
             "line": {
              "color": "#E5ECF6",
              "width": 0.5
             },
             "pattern": {
              "fillmode": "overlay",
              "size": 10,
              "solidity": 0.2
             }
            },
            "type": "bar"
           }
          ],
          "barpolar": [
           {
            "marker": {
             "line": {
              "color": "#E5ECF6",
              "width": 0.5
             },
             "pattern": {
              "fillmode": "overlay",
              "size": 10,
              "solidity": 0.2
             }
            },
            "type": "barpolar"
           }
          ],
          "carpet": [
           {
            "aaxis": {
             "endlinecolor": "#2a3f5f",
             "gridcolor": "white",
             "linecolor": "white",
             "minorgridcolor": "white",
             "startlinecolor": "#2a3f5f"
            },
            "baxis": {
             "endlinecolor": "#2a3f5f",
             "gridcolor": "white",
             "linecolor": "white",
             "minorgridcolor": "white",
             "startlinecolor": "#2a3f5f"
            },
            "type": "carpet"
           }
          ],
          "choropleth": [
           {
            "colorbar": {
             "outlinewidth": 0,
             "ticks": ""
            },
            "type": "choropleth"
           }
          ],
          "contour": [
           {
            "colorbar": {
             "outlinewidth": 0,
             "ticks": ""
            },
            "colorscale": [
             [
              0,
              "#0d0887"
             ],
             [
              0.1111111111111111,
              "#46039f"
             ],
             [
              0.2222222222222222,
              "#7201a8"
             ],
             [
              0.3333333333333333,
              "#9c179e"
             ],
             [
              0.4444444444444444,
              "#bd3786"
             ],
             [
              0.5555555555555556,
              "#d8576b"
             ],
             [
              0.6666666666666666,
              "#ed7953"
             ],
             [
              0.7777777777777778,
              "#fb9f3a"
             ],
             [
              0.8888888888888888,
              "#fdca26"
             ],
             [
              1,
              "#f0f921"
             ]
            ],
            "type": "contour"
           }
          ],
          "contourcarpet": [
           {
            "colorbar": {
             "outlinewidth": 0,
             "ticks": ""
            },
            "type": "contourcarpet"
           }
          ],
          "heatmap": [
           {
            "colorbar": {
             "outlinewidth": 0,
             "ticks": ""
            },
            "colorscale": [
             [
              0,
              "#0d0887"
             ],
             [
              0.1111111111111111,
              "#46039f"
             ],
             [
              0.2222222222222222,
              "#7201a8"
             ],
             [
              0.3333333333333333,
              "#9c179e"
             ],
             [
              0.4444444444444444,
              "#bd3786"
             ],
             [
              0.5555555555555556,
              "#d8576b"
             ],
             [
              0.6666666666666666,
              "#ed7953"
             ],
             [
              0.7777777777777778,
              "#fb9f3a"
             ],
             [
              0.8888888888888888,
              "#fdca26"
             ],
             [
              1,
              "#f0f921"
             ]
            ],
            "type": "heatmap"
           }
          ],
          "heatmapgl": [
           {
            "colorbar": {
             "outlinewidth": 0,
             "ticks": ""
            },
            "colorscale": [
             [
              0,
              "#0d0887"
             ],
             [
              0.1111111111111111,
              "#46039f"
             ],
             [
              0.2222222222222222,
              "#7201a8"
             ],
             [
              0.3333333333333333,
              "#9c179e"
             ],
             [
              0.4444444444444444,
              "#bd3786"
             ],
             [
              0.5555555555555556,
              "#d8576b"
             ],
             [
              0.6666666666666666,
              "#ed7953"
             ],
             [
              0.7777777777777778,
              "#fb9f3a"
             ],
             [
              0.8888888888888888,
              "#fdca26"
             ],
             [
              1,
              "#f0f921"
             ]
            ],
            "type": "heatmapgl"
           }
          ],
          "histogram": [
           {
            "marker": {
             "pattern": {
              "fillmode": "overlay",
              "size": 10,
              "solidity": 0.2
             }
            },
            "type": "histogram"
           }
          ],
          "histogram2d": [
           {
            "colorbar": {
             "outlinewidth": 0,
             "ticks": ""
            },
            "colorscale": [
             [
              0,
              "#0d0887"
             ],
             [
              0.1111111111111111,
              "#46039f"
             ],
             [
              0.2222222222222222,
              "#7201a8"
             ],
             [
              0.3333333333333333,
              "#9c179e"
             ],
             [
              0.4444444444444444,
              "#bd3786"
             ],
             [
              0.5555555555555556,
              "#d8576b"
             ],
             [
              0.6666666666666666,
              "#ed7953"
             ],
             [
              0.7777777777777778,
              "#fb9f3a"
             ],
             [
              0.8888888888888888,
              "#fdca26"
             ],
             [
              1,
              "#f0f921"
             ]
            ],
            "type": "histogram2d"
           }
          ],
          "histogram2dcontour": [
           {
            "colorbar": {
             "outlinewidth": 0,
             "ticks": ""
            },
            "colorscale": [
             [
              0,
              "#0d0887"
             ],
             [
              0.1111111111111111,
              "#46039f"
             ],
             [
              0.2222222222222222,
              "#7201a8"
             ],
             [
              0.3333333333333333,
              "#9c179e"
             ],
             [
              0.4444444444444444,
              "#bd3786"
             ],
             [
              0.5555555555555556,
              "#d8576b"
             ],
             [
              0.6666666666666666,
              "#ed7953"
             ],
             [
              0.7777777777777778,
              "#fb9f3a"
             ],
             [
              0.8888888888888888,
              "#fdca26"
             ],
             [
              1,
              "#f0f921"
             ]
            ],
            "type": "histogram2dcontour"
           }
          ],
          "mesh3d": [
           {
            "colorbar": {
             "outlinewidth": 0,
             "ticks": ""
            },
            "type": "mesh3d"
           }
          ],
          "parcoords": [
           {
            "line": {
             "colorbar": {
              "outlinewidth": 0,
              "ticks": ""
             }
            },
            "type": "parcoords"
           }
          ],
          "pie": [
           {
            "automargin": true,
            "type": "pie"
           }
          ],
          "scatter": [
           {
            "fillpattern": {
             "fillmode": "overlay",
             "size": 10,
             "solidity": 0.2
            },
            "type": "scatter"
           }
          ],
          "scatter3d": [
           {
            "line": {
             "colorbar": {
              "outlinewidth": 0,
              "ticks": ""
             }
            },
            "marker": {
             "colorbar": {
              "outlinewidth": 0,
              "ticks": ""
             }
            },
            "type": "scatter3d"
           }
          ],
          "scattercarpet": [
           {
            "marker": {
             "colorbar": {
              "outlinewidth": 0,
              "ticks": ""
             }
            },
            "type": "scattercarpet"
           }
          ],
          "scattergeo": [
           {
            "marker": {
             "colorbar": {
              "outlinewidth": 0,
              "ticks": ""
             }
            },
            "type": "scattergeo"
           }
          ],
          "scattergl": [
           {
            "marker": {
             "colorbar": {
              "outlinewidth": 0,
              "ticks": ""
             }
            },
            "type": "scattergl"
           }
          ],
          "scattermapbox": [
           {
            "marker": {
             "colorbar": {
              "outlinewidth": 0,
              "ticks": ""
             }
            },
            "type": "scattermapbox"
           }
          ],
          "scatterpolar": [
           {
            "marker": {
             "colorbar": {
              "outlinewidth": 0,
              "ticks": ""
             }
            },
            "type": "scatterpolar"
           }
          ],
          "scatterpolargl": [
           {
            "marker": {
             "colorbar": {
              "outlinewidth": 0,
              "ticks": ""
             }
            },
            "type": "scatterpolargl"
           }
          ],
          "scatterternary": [
           {
            "marker": {
             "colorbar": {
              "outlinewidth": 0,
              "ticks": ""
             }
            },
            "type": "scatterternary"
           }
          ],
          "surface": [
           {
            "colorbar": {
             "outlinewidth": 0,
             "ticks": ""
            },
            "colorscale": [
             [
              0,
              "#0d0887"
             ],
             [
              0.1111111111111111,
              "#46039f"
             ],
             [
              0.2222222222222222,
              "#7201a8"
             ],
             [
              0.3333333333333333,
              "#9c179e"
             ],
             [
              0.4444444444444444,
              "#bd3786"
             ],
             [
              0.5555555555555556,
              "#d8576b"
             ],
             [
              0.6666666666666666,
              "#ed7953"
             ],
             [
              0.7777777777777778,
              "#fb9f3a"
             ],
             [
              0.8888888888888888,
              "#fdca26"
             ],
             [
              1,
              "#f0f921"
             ]
            ],
            "type": "surface"
           }
          ],
          "table": [
           {
            "cells": {
             "fill": {
              "color": "#EBF0F8"
             },
             "line": {
              "color": "white"
             }
            },
            "header": {
             "fill": {
              "color": "#C8D4E3"
             },
             "line": {
              "color": "white"
             }
            },
            "type": "table"
           }
          ]
         },
         "layout": {
          "annotationdefaults": {
           "arrowcolor": "#2a3f5f",
           "arrowhead": 0,
           "arrowwidth": 1
          },
          "autotypenumbers": "strict",
          "coloraxis": {
           "colorbar": {
            "outlinewidth": 0,
            "ticks": ""
           }
          },
          "colorscale": {
           "diverging": [
            [
             0,
             "#8e0152"
            ],
            [
             0.1,
             "#c51b7d"
            ],
            [
             0.2,
             "#de77ae"
            ],
            [
             0.3,
             "#f1b6da"
            ],
            [
             0.4,
             "#fde0ef"
            ],
            [
             0.5,
             "#f7f7f7"
            ],
            [
             0.6,
             "#e6f5d0"
            ],
            [
             0.7,
             "#b8e186"
            ],
            [
             0.8,
             "#7fbc41"
            ],
            [
             0.9,
             "#4d9221"
            ],
            [
             1,
             "#276419"
            ]
           ],
           "sequential": [
            [
             0,
             "#0d0887"
            ],
            [
             0.1111111111111111,
             "#46039f"
            ],
            [
             0.2222222222222222,
             "#7201a8"
            ],
            [
             0.3333333333333333,
             "#9c179e"
            ],
            [
             0.4444444444444444,
             "#bd3786"
            ],
            [
             0.5555555555555556,
             "#d8576b"
            ],
            [
             0.6666666666666666,
             "#ed7953"
            ],
            [
             0.7777777777777778,
             "#fb9f3a"
            ],
            [
             0.8888888888888888,
             "#fdca26"
            ],
            [
             1,
             "#f0f921"
            ]
           ],
           "sequentialminus": [
            [
             0,
             "#0d0887"
            ],
            [
             0.1111111111111111,
             "#46039f"
            ],
            [
             0.2222222222222222,
             "#7201a8"
            ],
            [
             0.3333333333333333,
             "#9c179e"
            ],
            [
             0.4444444444444444,
             "#bd3786"
            ],
            [
             0.5555555555555556,
             "#d8576b"
            ],
            [
             0.6666666666666666,
             "#ed7953"
            ],
            [
             0.7777777777777778,
             "#fb9f3a"
            ],
            [
             0.8888888888888888,
             "#fdca26"
            ],
            [
             1,
             "#f0f921"
            ]
           ]
          },
          "colorway": [
           "#636efa",
           "#EF553B",
           "#00cc96",
           "#ab63fa",
           "#FFA15A",
           "#19d3f3",
           "#FF6692",
           "#B6E880",
           "#FF97FF",
           "#FECB52"
          ],
          "font": {
           "color": "#2a3f5f"
          },
          "geo": {
           "bgcolor": "white",
           "lakecolor": "white",
           "landcolor": "#E5ECF6",
           "showlakes": true,
           "showland": true,
           "subunitcolor": "white"
          },
          "hoverlabel": {
           "align": "left"
          },
          "hovermode": "closest",
          "mapbox": {
           "style": "light"
          },
          "paper_bgcolor": "white",
          "plot_bgcolor": "#E5ECF6",
          "polar": {
           "angularaxis": {
            "gridcolor": "white",
            "linecolor": "white",
            "ticks": ""
           },
           "bgcolor": "#E5ECF6",
           "radialaxis": {
            "gridcolor": "white",
            "linecolor": "white",
            "ticks": ""
           }
          },
          "scene": {
           "xaxis": {
            "backgroundcolor": "#E5ECF6",
            "gridcolor": "white",
            "gridwidth": 2,
            "linecolor": "white",
            "showbackground": true,
            "ticks": "",
            "zerolinecolor": "white"
           },
           "yaxis": {
            "backgroundcolor": "#E5ECF6",
            "gridcolor": "white",
            "gridwidth": 2,
            "linecolor": "white",
            "showbackground": true,
            "ticks": "",
            "zerolinecolor": "white"
           },
           "zaxis": {
            "backgroundcolor": "#E5ECF6",
            "gridcolor": "white",
            "gridwidth": 2,
            "linecolor": "white",
            "showbackground": true,
            "ticks": "",
            "zerolinecolor": "white"
           }
          },
          "shapedefaults": {
           "line": {
            "color": "#2a3f5f"
           }
          },
          "ternary": {
           "aaxis": {
            "gridcolor": "white",
            "linecolor": "white",
            "ticks": ""
           },
           "baxis": {
            "gridcolor": "white",
            "linecolor": "white",
            "ticks": ""
           },
           "bgcolor": "#E5ECF6",
           "caxis": {
            "gridcolor": "white",
            "linecolor": "white",
            "ticks": ""
           }
          },
          "title": {
           "x": 0.05
          },
          "xaxis": {
           "automargin": true,
           "gridcolor": "white",
           "linecolor": "white",
           "ticks": "",
           "title": {
            "standoff": 15
           },
           "zerolinecolor": "white",
           "zerolinewidth": 2
          },
          "yaxis": {
           "automargin": true,
           "gridcolor": "white",
           "linecolor": "white",
           "ticks": "",
           "title": {
            "standoff": 15
           },
           "zerolinecolor": "white",
           "zerolinewidth": 2
          }
         }
        }
       }
      },
      "text/html": [
       "<div>                            <div id=\"06b4e921-d0a7-4060-b8f6-68748ab64ae7\" class=\"plotly-graph-div\" style=\"height:525px; width:100%;\"></div>            <script type=\"text/javascript\">                require([\"plotly\"], function(Plotly) {                    window.PLOTLYENV=window.PLOTLYENV || {};                                    if (document.getElementById(\"06b4e921-d0a7-4060-b8f6-68748ab64ae7\")) {                    Plotly.newPlot(                        \"06b4e921-d0a7-4060-b8f6-68748ab64ae7\",                        [{\"coloraxis\":\"coloraxis\",\"featureidkey\":\"properties.reg_name\",\"geo\":\"geo\",\"geojson\":\"https://raw.githubusercontent.com/openpolis/geojson-italy/master/geojson/limits_IT_regions.geojson\",\"hovertemplate\":\"Territorio=%{location}<br>Spesa media=%{z}<extra></extra>\",\"locations\":[],\"name\":\"\",\"z\":[],\"type\":\"choropleth\"}],                        {\"template\":{\"data\":{\"histogram2dcontour\":[{\"type\":\"histogram2dcontour\",\"colorbar\":{\"outlinewidth\":0,\"ticks\":\"\"},\"colorscale\":[[0.0,\"#0d0887\"],[0.1111111111111111,\"#46039f\"],[0.2222222222222222,\"#7201a8\"],[0.3333333333333333,\"#9c179e\"],[0.4444444444444444,\"#bd3786\"],[0.5555555555555556,\"#d8576b\"],[0.6666666666666666,\"#ed7953\"],[0.7777777777777778,\"#fb9f3a\"],[0.8888888888888888,\"#fdca26\"],[1.0,\"#f0f921\"]]}],\"choropleth\":[{\"type\":\"choropleth\",\"colorbar\":{\"outlinewidth\":0,\"ticks\":\"\"}}],\"histogram2d\":[{\"type\":\"histogram2d\",\"colorbar\":{\"outlinewidth\":0,\"ticks\":\"\"},\"colorscale\":[[0.0,\"#0d0887\"],[0.1111111111111111,\"#46039f\"],[0.2222222222222222,\"#7201a8\"],[0.3333333333333333,\"#9c179e\"],[0.4444444444444444,\"#bd3786\"],[0.5555555555555556,\"#d8576b\"],[0.6666666666666666,\"#ed7953\"],[0.7777777777777778,\"#fb9f3a\"],[0.8888888888888888,\"#fdca26\"],[1.0,\"#f0f921\"]]}],\"heatmap\":[{\"type\":\"heatmap\",\"colorbar\":{\"outlinewidth\":0,\"ticks\":\"\"},\"colorscale\":[[0.0,\"#0d0887\"],[0.1111111111111111,\"#46039f\"],[0.2222222222222222,\"#7201a8\"],[0.3333333333333333,\"#9c179e\"],[0.4444444444444444,\"#bd3786\"],[0.5555555555555556,\"#d8576b\"],[0.6666666666666666,\"#ed7953\"],[0.7777777777777778,\"#fb9f3a\"],[0.8888888888888888,\"#fdca26\"],[1.0,\"#f0f921\"]]}],\"heatmapgl\":[{\"type\":\"heatmapgl\",\"colorbar\":{\"outlinewidth\":0,\"ticks\":\"\"},\"colorscale\":[[0.0,\"#0d0887\"],[0.1111111111111111,\"#46039f\"],[0.2222222222222222,\"#7201a8\"],[0.3333333333333333,\"#9c179e\"],[0.4444444444444444,\"#bd3786\"],[0.5555555555555556,\"#d8576b\"],[0.6666666666666666,\"#ed7953\"],[0.7777777777777778,\"#fb9f3a\"],[0.8888888888888888,\"#fdca26\"],[1.0,\"#f0f921\"]]}],\"contourcarpet\":[{\"type\":\"contourcarpet\",\"colorbar\":{\"outlinewidth\":0,\"ticks\":\"\"}}],\"contour\":[{\"type\":\"contour\",\"colorbar\":{\"outlinewidth\":0,\"ticks\":\"\"},\"colorscale\":[[0.0,\"#0d0887\"],[0.1111111111111111,\"#46039f\"],[0.2222222222222222,\"#7201a8\"],[0.3333333333333333,\"#9c179e\"],[0.4444444444444444,\"#bd3786\"],[0.5555555555555556,\"#d8576b\"],[0.6666666666666666,\"#ed7953\"],[0.7777777777777778,\"#fb9f3a\"],[0.8888888888888888,\"#fdca26\"],[1.0,\"#f0f921\"]]}],\"surface\":[{\"type\":\"surface\",\"colorbar\":{\"outlinewidth\":0,\"ticks\":\"\"},\"colorscale\":[[0.0,\"#0d0887\"],[0.1111111111111111,\"#46039f\"],[0.2222222222222222,\"#7201a8\"],[0.3333333333333333,\"#9c179e\"],[0.4444444444444444,\"#bd3786\"],[0.5555555555555556,\"#d8576b\"],[0.6666666666666666,\"#ed7953\"],[0.7777777777777778,\"#fb9f3a\"],[0.8888888888888888,\"#fdca26\"],[1.0,\"#f0f921\"]]}],\"mesh3d\":[{\"type\":\"mesh3d\",\"colorbar\":{\"outlinewidth\":0,\"ticks\":\"\"}}],\"scatter\":[{\"fillpattern\":{\"fillmode\":\"overlay\",\"size\":10,\"solidity\":0.2},\"type\":\"scatter\"}],\"parcoords\":[{\"type\":\"parcoords\",\"line\":{\"colorbar\":{\"outlinewidth\":0,\"ticks\":\"\"}}}],\"scatterpolargl\":[{\"type\":\"scatterpolargl\",\"marker\":{\"colorbar\":{\"outlinewidth\":0,\"ticks\":\"\"}}}],\"bar\":[{\"error_x\":{\"color\":\"#2a3f5f\"},\"error_y\":{\"color\":\"#2a3f5f\"},\"marker\":{\"line\":{\"color\":\"#E5ECF6\",\"width\":0.5},\"pattern\":{\"fillmode\":\"overlay\",\"size\":10,\"solidity\":0.2}},\"type\":\"bar\"}],\"scattergeo\":[{\"type\":\"scattergeo\",\"marker\":{\"colorbar\":{\"outlinewidth\":0,\"ticks\":\"\"}}}],\"scatterpolar\":[{\"type\":\"scatterpolar\",\"marker\":{\"colorbar\":{\"outlinewidth\":0,\"ticks\":\"\"}}}],\"histogram\":[{\"marker\":{\"pattern\":{\"fillmode\":\"overlay\",\"size\":10,\"solidity\":0.2}},\"type\":\"histogram\"}],\"scattergl\":[{\"type\":\"scattergl\",\"marker\":{\"colorbar\":{\"outlinewidth\":0,\"ticks\":\"\"}}}],\"scatter3d\":[{\"type\":\"scatter3d\",\"line\":{\"colorbar\":{\"outlinewidth\":0,\"ticks\":\"\"}},\"marker\":{\"colorbar\":{\"outlinewidth\":0,\"ticks\":\"\"}}}],\"scattermapbox\":[{\"type\":\"scattermapbox\",\"marker\":{\"colorbar\":{\"outlinewidth\":0,\"ticks\":\"\"}}}],\"scatterternary\":[{\"type\":\"scatterternary\",\"marker\":{\"colorbar\":{\"outlinewidth\":0,\"ticks\":\"\"}}}],\"scattercarpet\":[{\"type\":\"scattercarpet\",\"marker\":{\"colorbar\":{\"outlinewidth\":0,\"ticks\":\"\"}}}],\"carpet\":[{\"aaxis\":{\"endlinecolor\":\"#2a3f5f\",\"gridcolor\":\"white\",\"linecolor\":\"white\",\"minorgridcolor\":\"white\",\"startlinecolor\":\"#2a3f5f\"},\"baxis\":{\"endlinecolor\":\"#2a3f5f\",\"gridcolor\":\"white\",\"linecolor\":\"white\",\"minorgridcolor\":\"white\",\"startlinecolor\":\"#2a3f5f\"},\"type\":\"carpet\"}],\"table\":[{\"cells\":{\"fill\":{\"color\":\"#EBF0F8\"},\"line\":{\"color\":\"white\"}},\"header\":{\"fill\":{\"color\":\"#C8D4E3\"},\"line\":{\"color\":\"white\"}},\"type\":\"table\"}],\"barpolar\":[{\"marker\":{\"line\":{\"color\":\"#E5ECF6\",\"width\":0.5},\"pattern\":{\"fillmode\":\"overlay\",\"size\":10,\"solidity\":0.2}},\"type\":\"barpolar\"}],\"pie\":[{\"automargin\":true,\"type\":\"pie\"}]},\"layout\":{\"autotypenumbers\":\"strict\",\"colorway\":[\"#636efa\",\"#EF553B\",\"#00cc96\",\"#ab63fa\",\"#FFA15A\",\"#19d3f3\",\"#FF6692\",\"#B6E880\",\"#FF97FF\",\"#FECB52\"],\"font\":{\"color\":\"#2a3f5f\"},\"hovermode\":\"closest\",\"hoverlabel\":{\"align\":\"left\"},\"paper_bgcolor\":\"white\",\"plot_bgcolor\":\"#E5ECF6\",\"polar\":{\"bgcolor\":\"#E5ECF6\",\"angularaxis\":{\"gridcolor\":\"white\",\"linecolor\":\"white\",\"ticks\":\"\"},\"radialaxis\":{\"gridcolor\":\"white\",\"linecolor\":\"white\",\"ticks\":\"\"}},\"ternary\":{\"bgcolor\":\"#E5ECF6\",\"aaxis\":{\"gridcolor\":\"white\",\"linecolor\":\"white\",\"ticks\":\"\"},\"baxis\":{\"gridcolor\":\"white\",\"linecolor\":\"white\",\"ticks\":\"\"},\"caxis\":{\"gridcolor\":\"white\",\"linecolor\":\"white\",\"ticks\":\"\"}},\"coloraxis\":{\"colorbar\":{\"outlinewidth\":0,\"ticks\":\"\"}},\"colorscale\":{\"sequential\":[[0.0,\"#0d0887\"],[0.1111111111111111,\"#46039f\"],[0.2222222222222222,\"#7201a8\"],[0.3333333333333333,\"#9c179e\"],[0.4444444444444444,\"#bd3786\"],[0.5555555555555556,\"#d8576b\"],[0.6666666666666666,\"#ed7953\"],[0.7777777777777778,\"#fb9f3a\"],[0.8888888888888888,\"#fdca26\"],[1.0,\"#f0f921\"]],\"sequentialminus\":[[0.0,\"#0d0887\"],[0.1111111111111111,\"#46039f\"],[0.2222222222222222,\"#7201a8\"],[0.3333333333333333,\"#9c179e\"],[0.4444444444444444,\"#bd3786\"],[0.5555555555555556,\"#d8576b\"],[0.6666666666666666,\"#ed7953\"],[0.7777777777777778,\"#fb9f3a\"],[0.8888888888888888,\"#fdca26\"],[1.0,\"#f0f921\"]],\"diverging\":[[0,\"#8e0152\"],[0.1,\"#c51b7d\"],[0.2,\"#de77ae\"],[0.3,\"#f1b6da\"],[0.4,\"#fde0ef\"],[0.5,\"#f7f7f7\"],[0.6,\"#e6f5d0\"],[0.7,\"#b8e186\"],[0.8,\"#7fbc41\"],[0.9,\"#4d9221\"],[1,\"#276419\"]]},\"xaxis\":{\"gridcolor\":\"white\",\"linecolor\":\"white\",\"ticks\":\"\",\"title\":{\"standoff\":15},\"zerolinecolor\":\"white\",\"automargin\":true,\"zerolinewidth\":2},\"yaxis\":{\"gridcolor\":\"white\",\"linecolor\":\"white\",\"ticks\":\"\",\"title\":{\"standoff\":15},\"zerolinecolor\":\"white\",\"automargin\":true,\"zerolinewidth\":2},\"scene\":{\"xaxis\":{\"backgroundcolor\":\"#E5ECF6\",\"gridcolor\":\"white\",\"linecolor\":\"white\",\"showbackground\":true,\"ticks\":\"\",\"zerolinecolor\":\"white\",\"gridwidth\":2},\"yaxis\":{\"backgroundcolor\":\"#E5ECF6\",\"gridcolor\":\"white\",\"linecolor\":\"white\",\"showbackground\":true,\"ticks\":\"\",\"zerolinecolor\":\"white\",\"gridwidth\":2},\"zaxis\":{\"backgroundcolor\":\"#E5ECF6\",\"gridcolor\":\"white\",\"linecolor\":\"white\",\"showbackground\":true,\"ticks\":\"\",\"zerolinecolor\":\"white\",\"gridwidth\":2}},\"shapedefaults\":{\"line\":{\"color\":\"#2a3f5f\"}},\"annotationdefaults\":{\"arrowcolor\":\"#2a3f5f\",\"arrowhead\":0,\"arrowwidth\":1},\"geo\":{\"bgcolor\":\"white\",\"landcolor\":\"#E5ECF6\",\"subunitcolor\":\"white\",\"showland\":true,\"showlakes\":true,\"lakecolor\":\"white\"},\"title\":{\"x\":0.05},\"mapbox\":{\"style\":\"light\"}}},\"geo\":{\"domain\":{\"x\":[0.0,1.0],\"y\":[0.0,1.0]},\"center\":{},\"scope\":\"europe\",\"fitbounds\":\"locations\",\"visible\":false},\"coloraxis\":{\"colorbar\":{\"title\":{\"text\":\"Spesa media\"}},\"colorscale\":[[0.0,\"#000004\"],[0.1111111111111111,\"#180f3d\"],[0.2222222222222222,\"#440f76\"],[0.3333333333333333,\"#721f81\"],[0.4444444444444444,\"#9e2f7f\"],[0.5555555555555556,\"#cd4071\"],[0.6666666666666666,\"#f1605d\"],[0.7777777777777778,\"#fd9668\"],[0.8888888888888888,\"#feca8d\"],[1.0,\"#fcfdbf\"]]},\"legend\":{\"tracegroupgap\":0},\"margin\":{\"t\":0,\"r\":0,\"l\":0,\"b\":0}},                        {\"responsive\": true}                    ).then(function(){\n",
       "                            \n",
       "var gd = document.getElementById('06b4e921-d0a7-4060-b8f6-68748ab64ae7');\n",
       "var x = new MutationObserver(function (mutations, observer) {{\n",
       "        var display = window.getComputedStyle(gd).display;\n",
       "        if (!display || display === 'none') {{\n",
       "            console.log([gd, 'removed!']);\n",
       "            Plotly.purge(gd);\n",
       "            observer.disconnect();\n",
       "        }}\n",
       "}});\n",
       "\n",
       "// Listen for the removal of the full notebook cells\n",
       "var notebookContainer = gd.closest('#notebook-container');\n",
       "if (notebookContainer) {{\n",
       "    x.observe(notebookContainer, {childList: true});\n",
       "}}\n",
       "\n",
       "// Listen for the clearing of the current output cell\n",
       "var outputEl = gd.closest('.output');\n",
       "if (outputEl) {{\n",
       "    x.observe(outputEl, {childList: true});\n",
       "}}\n",
       "\n",
       "                        })                };                });            </script>        </div>"
      ]
     },
     "metadata": {},
     "output_type": "display_data"
    }
   ],
   "source": [
    "value_list = [str(i) for i in range(1, 2)]\n",
    "components = '1'\n",
    "year=2020\n",
    "\n",
    "mask = df[(df['componenti'] == components) & (df['Anno'] == year) & (df['COICOP'].isin(value_list))]\n",
    "geojson_italy = 'https://raw.githubusercontent.com/openpolis/geojson-italy/master/geojson/limits_IT_regions.geojson'\n",
    "#italy_regions_geo = requests.get(repo_url).json()\n",
    "#display(mask)\n",
    "# Choropleth representing the length of region names\n",
    "fig = px.choropleth(mask, \n",
    "                    geojson=geojson_italy, \n",
    "                    locations='Territorio', # name of dataframe column\n",
    "                    featureidkey='properties.reg_name',  # path to field in GeoJSON feature object with which to match the values passed in to locations\n",
    "                    color='Spesa media',\n",
    "                    color_continuous_scale=\"Magma\",\n",
    "                    scope=\"europe\",\n",
    "                    labels={'Spesa media':'Spesa media'}\n",
    "                   )\n",
    "fig.update_geos(fitbounds=\"locations\", visible=False)\n",
    "fig.update_layout(margin={\"r\":0,\"t\":0,\"l\":0,\"b\":0})\n",
    "fig.show()"
   ]
  },
  {
   "cell_type": "code",
   "execution_count": 32,
   "metadata": {},
   "outputs": [
    {
     "data": {
      "text/html": [
       "<div>\n",
       "<style scoped>\n",
       "    .dataframe tbody tr th:only-of-type {\n",
       "        vertical-align: middle;\n",
       "    }\n",
       "\n",
       "    .dataframe tbody tr th {\n",
       "        vertical-align: top;\n",
       "    }\n",
       "\n",
       "    .dataframe thead th {\n",
       "        text-align: right;\n",
       "    }\n",
       "</style>\n",
       "<table border=\"1\" class=\"dataframe\">\n",
       "  <thead>\n",
       "    <tr style=\"text-align: right;\">\n",
       "      <th></th>\n",
       "      <th>Territorio</th>\n",
       "      <th>COICOP</th>\n",
       "      <th>Coicop (DESC)</th>\n",
       "      <th>componenti</th>\n",
       "      <th>Anno</th>\n",
       "      <th>Spesa media</th>\n",
       "    </tr>\n",
       "  </thead>\n",
       "  <tbody>\n",
       "    <tr>\n",
       "      <th>9086</th>\n",
       "      <td>Nord</td>\n",
       "      <td>7</td>\n",
       "      <td>-- trasporti</td>\n",
       "      <td>1</td>\n",
       "      <td>2020</td>\n",
       "      <td>143.39</td>\n",
       "    </tr>\n",
       "    <tr>\n",
       "      <th>15941</th>\n",
       "      <td>Centro</td>\n",
       "      <td>7</td>\n",
       "      <td>-- trasporti</td>\n",
       "      <td>1</td>\n",
       "      <td>2020</td>\n",
       "      <td>128.33</td>\n",
       "    </tr>\n",
       "    <tr>\n",
       "      <th>19436</th>\n",
       "      <td>Mezzogiorno</td>\n",
       "      <td>7</td>\n",
       "      <td>-- trasporti</td>\n",
       "      <td>1</td>\n",
       "      <td>2020</td>\n",
       "      <td>79.85</td>\n",
       "    </tr>\n",
       "  </tbody>\n",
       "</table>\n",
       "</div>"
      ],
      "text/plain": [
       "        Territorio COICOP Coicop (DESC) componenti  Anno  Spesa media\n",
       "9086          Nord      7  -- trasporti          1  2020       143.39\n",
       "15941       Centro      7  -- trasporti          1  2020       128.33\n",
       "19436  Mezzogiorno      7  -- trasporti          1  2020        79.85"
      ]
     },
     "metadata": {},
     "output_type": "display_data"
    }
   ],
   "source": [
    "category = '-- trasporti'\n",
    "components = '1'\n",
    "year=2020\n",
    "\n",
    "macro_region = df[(df['componenti'] == components) & (df['Anno'] == year) & (df['Coicop (DESC)']==category) \n",
    "                      & (df['Territorio'].isin(['Nord','Mezzogiorno', 'Centro']))]\n",
    "display(macro_region)"
   ]
  },
  {
   "cell_type": "code",
   "execution_count": 47,
   "metadata": {},
   "outputs": [],
   "source": []
  },
  {
   "cell_type": "code",
   "execution_count": 48,
   "metadata": {},
   "outputs": [
    {
     "data": {
      "text/plain": [
       "array(['1', '11', '111', '112', '113', '114', '115', '116', '117', '118',\n",
       "       '119', '12', '121', '122', 'NON_FOOD', '2', '21', '211', '212',\n",
       "       '213', '22', '3', '31', '311', '312', '313', '314', '32', '321',\n",
       "       '322', '4', '41', '411', '412', '42', '421', '422', '43', '431',\n",
       "       '432', '44', '441', '442', '443', '444', '45', '451', '452', '453',\n",
       "       '454', '455', '46', '5', '51', '511', '512', '513', '52', '53',\n",
       "       '531', '532', '533', '54', '55', '551', '552', '56', '561', '562',\n",
       "       '6', '61', '611', '612', '613', '62', '621', '622', '623', '63',\n",
       "       '7', '71', '711', '712', '713', '72', '721', '722', '723', '724',\n",
       "       '73', '731', '732', '733', '734', '735', '736', '8', '81', '82',\n",
       "       '83', '9', '91', '911', '912', '913', '914', '915', '92', '922',\n",
       "       '923', '93', '931', '932', '933', '934', '935', '94', '941', '942',\n",
       "       '943', '95', '951', '952', '953', '954', '96', '10', '101', '102',\n",
       "       '103', '104', '105', '1111', '1112', '1211', '1212', '1213', '123',\n",
       "       '1231', '1232', '124', '125', '1251', '1252', '1253', '1254',\n",
       "       '1255', '126', '127', 'ALL'], dtype=object)"
      ]
     },
     "execution_count": 48,
     "metadata": {},
     "output_type": "execute_result"
    }
   ],
   "source": [
    "df['COICOP'].unique()\n"
   ]
  },
  {
   "cell_type": "code",
   "execution_count": 6,
   "metadata": {},
   "outputs": [
    {
     "name": "stdout",
     "output_type": "stream",
     "text": [
      "['-- prodotti alimentari e bevande analcoliche' 'Non alimentari'\n",
      " '-- bevande alcoliche e tabacchi' '-- abbigliamento e calzature'\n",
      " '-- abitazione, acqua, elettricità, gas e altri combustibili'\n",
      " '-- mobili, articoli e servizi per la casa'\n",
      " '-- servizi sanitari e spese per la salute' '-- trasporti'\n",
      " '-- comunicazioni' '-- ricreazione, spettacoli e cultura' '-- istruzione'\n",
      " '-- servizi ricettivi e di ristorazione' '-- altri beni e servizi'\n",
      " 'Totale']\n"
     ]
    }
   ],
   "source": [
    "macro_category=df[df['First_level'].isna() & df['Second_level'].isna()]['Coicop (DESC)'].unique()\n",
    "print(macro_category)"
   ]
  },
  {
   "cell_type": "code",
   "execution_count": 10,
   "metadata": {},
   "outputs": [],
   "source": [
    "region = 'Italia'\n",
    "year=2020\n",
    "mask = df[(df['Territorio'] == region) & (df['Anno'] == year) & (df['Coicop (DESC)'].isin(macro_category))]\n",
    "grouped_data = mask.groupby(['componenti', 'Coicop (DESC)']).agg(spesa_media=('Spesa media', 'mean')).reset_index()\n",
    "mean_values = mask.groupby('Coicop (DESC)')['Spesa media'].mean().reset_index()"
   ]
  },
  {
   "cell_type": "code",
   "execution_count": null,
   "metadata": {},
   "outputs": [],
   "source": [
    "for _, mean_row in mean_values.iterrows():\n",
    "    print([mean_row['Spesa media']])"
   ]
  },
  {
   "cell_type": "code",
   "execution_count": 28,
   "metadata": {},
   "outputs": [
    {
     "data": {
      "text/html": [
       "<div>\n",
       "<style scoped>\n",
       "    .dataframe tbody tr th:only-of-type {\n",
       "        vertical-align: middle;\n",
       "    }\n",
       "\n",
       "    .dataframe tbody tr th {\n",
       "        vertical-align: top;\n",
       "    }\n",
       "\n",
       "    .dataframe thead th {\n",
       "        text-align: right;\n",
       "    }\n",
       "</style>\n",
       "<table border=\"1\" class=\"dataframe\">\n",
       "  <thead>\n",
       "    <tr style=\"text-align: right;\">\n",
       "      <th></th>\n",
       "      <th>Coicop (DESC)</th>\n",
       "      <th>Spesa media</th>\n",
       "    </tr>\n",
       "  </thead>\n",
       "  <tbody>\n",
       "    <tr>\n",
       "      <th>0</th>\n",
       "      <td>-- abbigliamento e calzature</td>\n",
       "      <td>113.248</td>\n",
       "    </tr>\n",
       "    <tr>\n",
       "      <th>1</th>\n",
       "      <td>-- abitazione, acqua, elettricità, gas e altri...</td>\n",
       "      <td>905.466</td>\n",
       "    </tr>\n",
       "    <tr>\n",
       "      <th>2</th>\n",
       "      <td>-- altri beni e servizi</td>\n",
       "      <td>186.116</td>\n",
       "    </tr>\n",
       "    <tr>\n",
       "      <th>3</th>\n",
       "      <td>-- bevande alcoliche e tabacchi</td>\n",
       "      <td>46.846</td>\n",
       "    </tr>\n",
       "    <tr>\n",
       "      <th>4</th>\n",
       "      <td>-- comunicazioni</td>\n",
       "      <td>61.944</td>\n",
       "    </tr>\n",
       "    <tr>\n",
       "      <th>5</th>\n",
       "      <td>-- istruzione</td>\n",
       "      <td>20.208</td>\n",
       "    </tr>\n",
       "    <tr>\n",
       "      <th>6</th>\n",
       "      <td>-- mobili, articoli e servizi per la casa</td>\n",
       "      <td>114.426</td>\n",
       "    </tr>\n",
       "    <tr>\n",
       "      <th>7</th>\n",
       "      <td>-- prodotti alimentari e bevande analcoliche</td>\n",
       "      <td>542.494</td>\n",
       "    </tr>\n",
       "    <tr>\n",
       "      <th>8</th>\n",
       "      <td>-- ricreazione, spettacoli e cultura</td>\n",
       "      <td>109.214</td>\n",
       "    </tr>\n",
       "    <tr>\n",
       "      <th>9</th>\n",
       "      <td>-- servizi ricettivi e di ristorazione</td>\n",
       "      <td>90.224</td>\n",
       "    </tr>\n",
       "    <tr>\n",
       "      <th>10</th>\n",
       "      <td>-- servizi sanitari e spese per la salute</td>\n",
       "      <td>112.244</td>\n",
       "    </tr>\n",
       "    <tr>\n",
       "      <th>11</th>\n",
       "      <td>-- trasporti</td>\n",
       "      <td>256.498</td>\n",
       "    </tr>\n",
       "    <tr>\n",
       "      <th>12</th>\n",
       "      <td>Non alimentari</td>\n",
       "      <td>2016.428</td>\n",
       "    </tr>\n",
       "    <tr>\n",
       "      <th>13</th>\n",
       "      <td>Totale</td>\n",
       "      <td>2558.922</td>\n",
       "    </tr>\n",
       "  </tbody>\n",
       "</table>\n",
       "</div>"
      ],
      "text/plain": [
       "                                        Coicop (DESC)  Spesa media\n",
       "0                        -- abbigliamento e calzature      113.248\n",
       "1   -- abitazione, acqua, elettricità, gas e altri...      905.466\n",
       "2                             -- altri beni e servizi      186.116\n",
       "3                     -- bevande alcoliche e tabacchi       46.846\n",
       "4                                    -- comunicazioni       61.944\n",
       "5                                       -- istruzione       20.208\n",
       "6           -- mobili, articoli e servizi per la casa      114.426\n",
       "7        -- prodotti alimentari e bevande analcoliche      542.494\n",
       "8                -- ricreazione, spettacoli e cultura      109.214\n",
       "9              -- servizi ricettivi e di ristorazione       90.224\n",
       "10          -- servizi sanitari e spese per la salute      112.244\n",
       "11                                       -- trasporti      256.498\n",
       "12                                     Non alimentari     2016.428\n",
       "13                                             Totale     2558.922"
      ]
     },
     "metadata": {},
     "output_type": "display_data"
    }
   ],
   "source": [
    "display(mean_values)"
   ]
  },
  {
   "cell_type": "code",
   "execution_count": 29,
   "metadata": {},
   "outputs": [
    {
     "data": {
      "application/vnd.plotly.v1+json": {
       "config": {
        "plotlyServerURL": "https://plot.ly"
       },
       "data": [
        {
         "name": "1",
         "type": "bar",
         "width": 0.2,
         "x": [
          "-- abbigliamento e calzature",
          "-- abitazione, acqua, elettricità, gas e altri combustibili",
          "-- altri beni e servizi",
          "-- bevande alcoliche e tabacchi",
          "-- comunicazioni",
          "-- istruzione",
          "-- mobili, articoli e servizi per la casa",
          "-- prodotti alimentari e bevande analcoliche",
          "-- ricreazione, spettacoli e cultura",
          "-- servizi ricettivi e di ristorazione",
          "-- servizi sanitari e spese per la salute",
          "-- trasporti",
          "Non alimentari",
          "Totale"
         ],
         "y": [
          45.3,
          802.57,
          107.4,
          30.51,
          36.83,
          3.17,
          79.11,
          298.39,
          56.07,
          54.49,
          79.5,
          122.47,
          1417.41,
          1715.8
         ]
        },
        {
         "name": "2",
         "type": "bar",
         "width": 0.2,
         "x": [
          "-- abbigliamento e calzature",
          "-- abitazione, acqua, elettricità, gas e altri combustibili",
          "-- altri beni e servizi",
          "-- bevande alcoliche e tabacchi",
          "-- comunicazioni",
          "-- istruzione",
          "-- mobili, articoli e servizi per la casa",
          "-- prodotti alimentari e bevande analcoliche",
          "-- ricreazione, spettacoli e cultura",
          "-- servizi ricettivi e di ristorazione",
          "-- servizi sanitari e spese per la salute",
          "-- trasporti",
          "Non alimentari",
          "Totale"
         ],
         "y": [
          74.63,
          942.44,
          176.91,
          45.23,
          53.38,
          5.73,
          109.34,
          468.74,
          90.63,
          72.41,
          123.84,
          209.02,
          1903.55,
          2372.29
         ]
        },
        {
         "name": "3",
         "type": "bar",
         "width": 0.2,
         "x": [
          "-- abbigliamento e calzature",
          "-- abitazione, acqua, elettricità, gas e altri combustibili",
          "-- altri beni e servizi",
          "-- bevande alcoliche e tabacchi",
          "-- comunicazioni",
          "-- istruzione",
          "-- mobili, articoli e servizi per la casa",
          "-- prodotti alimentari e bevande analcoliche",
          "-- ricreazione, spettacoli e cultura",
          "-- servizi ricettivi e di ristorazione",
          "-- servizi sanitari e spese per la salute",
          "-- trasporti",
          "Non alimentari",
          "Totale"
         ],
         "y": [
          110.24,
          941.93,
          209.22,
          51.15,
          65.62,
          23.53,
          117.22,
          568.16,
          115.57,
          99.73,
          123.7,
          291.39,
          2149.31,
          2717.47
         ]
        },
        {
         "name": "4",
         "type": "bar",
         "width": 0.2,
         "x": [
          "-- abbigliamento e calzature",
          "-- abitazione, acqua, elettricità, gas e altri combustibili",
          "-- altri beni e servizi",
          "-- bevande alcoliche e tabacchi",
          "-- comunicazioni",
          "-- istruzione",
          "-- mobili, articoli e servizi per la casa",
          "-- prodotti alimentari e bevande analcoliche",
          "-- ricreazione, spettacoli e cultura",
          "-- servizi ricettivi e di ristorazione",
          "-- servizi sanitari e spese per la salute",
          "-- trasporti",
          "Non alimentari",
          "Totale"
         ],
         "y": [
          154.97,
          935.39,
          212.16,
          48.89,
          72.3,
          34.51,
          117.25,
          640.74,
          141.28,
          115.27,
          120.04,
          319.88,
          2271.93,
          2912.67
         ]
        },
        {
         "name": "5 e più",
         "type": "bar",
         "width": 0.2,
         "x": [
          "-- abbigliamento e calzature",
          "-- abitazione, acqua, elettricità, gas e altri combustibili",
          "-- altri beni e servizi",
          "-- bevande alcoliche e tabacchi",
          "-- comunicazioni",
          "-- istruzione",
          "-- mobili, articoli e servizi per la casa",
          "-- prodotti alimentari e bevande analcoliche",
          "-- ricreazione, spettacoli e cultura",
          "-- servizi ricettivi e di ristorazione",
          "-- servizi sanitari e spese per la salute",
          "-- trasporti",
          "Non alimentari",
          "Totale"
         ],
         "y": [
          181.1,
          905,
          224.89,
          58.45,
          81.59,
          34.1,
          149.21,
          736.44,
          142.52,
          109.22,
          114.14,
          339.73,
          2339.94,
          3076.38
         ]
        },
        {
         "hovertemplate": "Coicop (DESC)=%{x}<br>Spesa media=%{y}<extra></extra>",
         "legendgroup": "",
         "line": {
          "color": "red",
          "dash": "solid"
         },
         "marker": {
          "symbol": "circle"
         },
         "mode": "lines",
         "name": "",
         "orientation": "v",
         "showlegend": false,
         "type": "scatter",
         "x": [
          "-- abbigliamento e calzature",
          "-- abitazione, acqua, elettricità, gas e altri combustibili",
          "-- altri beni e servizi",
          "-- bevande alcoliche e tabacchi",
          "-- comunicazioni",
          "-- istruzione",
          "-- mobili, articoli e servizi per la casa",
          "-- prodotti alimentari e bevande analcoliche",
          "-- ricreazione, spettacoli e cultura",
          "-- servizi ricettivi e di ristorazione",
          "-- servizi sanitari e spese per la salute",
          "-- trasporti",
          "Non alimentari",
          "Totale"
         ],
         "xaxis": "x",
         "y": [
          113.248,
          905.466,
          186.11599999999999,
          46.846000000000004,
          61.944,
          20.208,
          114.426,
          542.494,
          109.21399999999998,
          90.224,
          112.244,
          256.498,
          2016.4279999999999,
          2558.922
         ],
         "yaxis": "y"
        }
       ],
       "layout": {
        "barmode": "group",
        "template": {
         "data": {
          "bar": [
           {
            "error_x": {
             "color": "#2a3f5f"
            },
            "error_y": {
             "color": "#2a3f5f"
            },
            "marker": {
             "line": {
              "color": "#E5ECF6",
              "width": 0.5
             },
             "pattern": {
              "fillmode": "overlay",
              "size": 10,
              "solidity": 0.2
             }
            },
            "type": "bar"
           }
          ],
          "barpolar": [
           {
            "marker": {
             "line": {
              "color": "#E5ECF6",
              "width": 0.5
             },
             "pattern": {
              "fillmode": "overlay",
              "size": 10,
              "solidity": 0.2
             }
            },
            "type": "barpolar"
           }
          ],
          "carpet": [
           {
            "aaxis": {
             "endlinecolor": "#2a3f5f",
             "gridcolor": "white",
             "linecolor": "white",
             "minorgridcolor": "white",
             "startlinecolor": "#2a3f5f"
            },
            "baxis": {
             "endlinecolor": "#2a3f5f",
             "gridcolor": "white",
             "linecolor": "white",
             "minorgridcolor": "white",
             "startlinecolor": "#2a3f5f"
            },
            "type": "carpet"
           }
          ],
          "choropleth": [
           {
            "colorbar": {
             "outlinewidth": 0,
             "ticks": ""
            },
            "type": "choropleth"
           }
          ],
          "contour": [
           {
            "colorbar": {
             "outlinewidth": 0,
             "ticks": ""
            },
            "colorscale": [
             [
              0,
              "#0d0887"
             ],
             [
              0.1111111111111111,
              "#46039f"
             ],
             [
              0.2222222222222222,
              "#7201a8"
             ],
             [
              0.3333333333333333,
              "#9c179e"
             ],
             [
              0.4444444444444444,
              "#bd3786"
             ],
             [
              0.5555555555555556,
              "#d8576b"
             ],
             [
              0.6666666666666666,
              "#ed7953"
             ],
             [
              0.7777777777777778,
              "#fb9f3a"
             ],
             [
              0.8888888888888888,
              "#fdca26"
             ],
             [
              1,
              "#f0f921"
             ]
            ],
            "type": "contour"
           }
          ],
          "contourcarpet": [
           {
            "colorbar": {
             "outlinewidth": 0,
             "ticks": ""
            },
            "type": "contourcarpet"
           }
          ],
          "heatmap": [
           {
            "colorbar": {
             "outlinewidth": 0,
             "ticks": ""
            },
            "colorscale": [
             [
              0,
              "#0d0887"
             ],
             [
              0.1111111111111111,
              "#46039f"
             ],
             [
              0.2222222222222222,
              "#7201a8"
             ],
             [
              0.3333333333333333,
              "#9c179e"
             ],
             [
              0.4444444444444444,
              "#bd3786"
             ],
             [
              0.5555555555555556,
              "#d8576b"
             ],
             [
              0.6666666666666666,
              "#ed7953"
             ],
             [
              0.7777777777777778,
              "#fb9f3a"
             ],
             [
              0.8888888888888888,
              "#fdca26"
             ],
             [
              1,
              "#f0f921"
             ]
            ],
            "type": "heatmap"
           }
          ],
          "heatmapgl": [
           {
            "colorbar": {
             "outlinewidth": 0,
             "ticks": ""
            },
            "colorscale": [
             [
              0,
              "#0d0887"
             ],
             [
              0.1111111111111111,
              "#46039f"
             ],
             [
              0.2222222222222222,
              "#7201a8"
             ],
             [
              0.3333333333333333,
              "#9c179e"
             ],
             [
              0.4444444444444444,
              "#bd3786"
             ],
             [
              0.5555555555555556,
              "#d8576b"
             ],
             [
              0.6666666666666666,
              "#ed7953"
             ],
             [
              0.7777777777777778,
              "#fb9f3a"
             ],
             [
              0.8888888888888888,
              "#fdca26"
             ],
             [
              1,
              "#f0f921"
             ]
            ],
            "type": "heatmapgl"
           }
          ],
          "histogram": [
           {
            "marker": {
             "pattern": {
              "fillmode": "overlay",
              "size": 10,
              "solidity": 0.2
             }
            },
            "type": "histogram"
           }
          ],
          "histogram2d": [
           {
            "colorbar": {
             "outlinewidth": 0,
             "ticks": ""
            },
            "colorscale": [
             [
              0,
              "#0d0887"
             ],
             [
              0.1111111111111111,
              "#46039f"
             ],
             [
              0.2222222222222222,
              "#7201a8"
             ],
             [
              0.3333333333333333,
              "#9c179e"
             ],
             [
              0.4444444444444444,
              "#bd3786"
             ],
             [
              0.5555555555555556,
              "#d8576b"
             ],
             [
              0.6666666666666666,
              "#ed7953"
             ],
             [
              0.7777777777777778,
              "#fb9f3a"
             ],
             [
              0.8888888888888888,
              "#fdca26"
             ],
             [
              1,
              "#f0f921"
             ]
            ],
            "type": "histogram2d"
           }
          ],
          "histogram2dcontour": [
           {
            "colorbar": {
             "outlinewidth": 0,
             "ticks": ""
            },
            "colorscale": [
             [
              0,
              "#0d0887"
             ],
             [
              0.1111111111111111,
              "#46039f"
             ],
             [
              0.2222222222222222,
              "#7201a8"
             ],
             [
              0.3333333333333333,
              "#9c179e"
             ],
             [
              0.4444444444444444,
              "#bd3786"
             ],
             [
              0.5555555555555556,
              "#d8576b"
             ],
             [
              0.6666666666666666,
              "#ed7953"
             ],
             [
              0.7777777777777778,
              "#fb9f3a"
             ],
             [
              0.8888888888888888,
              "#fdca26"
             ],
             [
              1,
              "#f0f921"
             ]
            ],
            "type": "histogram2dcontour"
           }
          ],
          "mesh3d": [
           {
            "colorbar": {
             "outlinewidth": 0,
             "ticks": ""
            },
            "type": "mesh3d"
           }
          ],
          "parcoords": [
           {
            "line": {
             "colorbar": {
              "outlinewidth": 0,
              "ticks": ""
             }
            },
            "type": "parcoords"
           }
          ],
          "pie": [
           {
            "automargin": true,
            "type": "pie"
           }
          ],
          "scatter": [
           {
            "fillpattern": {
             "fillmode": "overlay",
             "size": 10,
             "solidity": 0.2
            },
            "type": "scatter"
           }
          ],
          "scatter3d": [
           {
            "line": {
             "colorbar": {
              "outlinewidth": 0,
              "ticks": ""
             }
            },
            "marker": {
             "colorbar": {
              "outlinewidth": 0,
              "ticks": ""
             }
            },
            "type": "scatter3d"
           }
          ],
          "scattercarpet": [
           {
            "marker": {
             "colorbar": {
              "outlinewidth": 0,
              "ticks": ""
             }
            },
            "type": "scattercarpet"
           }
          ],
          "scattergeo": [
           {
            "marker": {
             "colorbar": {
              "outlinewidth": 0,
              "ticks": ""
             }
            },
            "type": "scattergeo"
           }
          ],
          "scattergl": [
           {
            "marker": {
             "colorbar": {
              "outlinewidth": 0,
              "ticks": ""
             }
            },
            "type": "scattergl"
           }
          ],
          "scattermapbox": [
           {
            "marker": {
             "colorbar": {
              "outlinewidth": 0,
              "ticks": ""
             }
            },
            "type": "scattermapbox"
           }
          ],
          "scatterpolar": [
           {
            "marker": {
             "colorbar": {
              "outlinewidth": 0,
              "ticks": ""
             }
            },
            "type": "scatterpolar"
           }
          ],
          "scatterpolargl": [
           {
            "marker": {
             "colorbar": {
              "outlinewidth": 0,
              "ticks": ""
             }
            },
            "type": "scatterpolargl"
           }
          ],
          "scatterternary": [
           {
            "marker": {
             "colorbar": {
              "outlinewidth": 0,
              "ticks": ""
             }
            },
            "type": "scatterternary"
           }
          ],
          "surface": [
           {
            "colorbar": {
             "outlinewidth": 0,
             "ticks": ""
            },
            "colorscale": [
             [
              0,
              "#0d0887"
             ],
             [
              0.1111111111111111,
              "#46039f"
             ],
             [
              0.2222222222222222,
              "#7201a8"
             ],
             [
              0.3333333333333333,
              "#9c179e"
             ],
             [
              0.4444444444444444,
              "#bd3786"
             ],
             [
              0.5555555555555556,
              "#d8576b"
             ],
             [
              0.6666666666666666,
              "#ed7953"
             ],
             [
              0.7777777777777778,
              "#fb9f3a"
             ],
             [
              0.8888888888888888,
              "#fdca26"
             ],
             [
              1,
              "#f0f921"
             ]
            ],
            "type": "surface"
           }
          ],
          "table": [
           {
            "cells": {
             "fill": {
              "color": "#EBF0F8"
             },
             "line": {
              "color": "white"
             }
            },
            "header": {
             "fill": {
              "color": "#C8D4E3"
             },
             "line": {
              "color": "white"
             }
            },
            "type": "table"
           }
          ]
         },
         "layout": {
          "annotationdefaults": {
           "arrowcolor": "#2a3f5f",
           "arrowhead": 0,
           "arrowwidth": 1
          },
          "autotypenumbers": "strict",
          "coloraxis": {
           "colorbar": {
            "outlinewidth": 0,
            "ticks": ""
           }
          },
          "colorscale": {
           "diverging": [
            [
             0,
             "#8e0152"
            ],
            [
             0.1,
             "#c51b7d"
            ],
            [
             0.2,
             "#de77ae"
            ],
            [
             0.3,
             "#f1b6da"
            ],
            [
             0.4,
             "#fde0ef"
            ],
            [
             0.5,
             "#f7f7f7"
            ],
            [
             0.6,
             "#e6f5d0"
            ],
            [
             0.7,
             "#b8e186"
            ],
            [
             0.8,
             "#7fbc41"
            ],
            [
             0.9,
             "#4d9221"
            ],
            [
             1,
             "#276419"
            ]
           ],
           "sequential": [
            [
             0,
             "#0d0887"
            ],
            [
             0.1111111111111111,
             "#46039f"
            ],
            [
             0.2222222222222222,
             "#7201a8"
            ],
            [
             0.3333333333333333,
             "#9c179e"
            ],
            [
             0.4444444444444444,
             "#bd3786"
            ],
            [
             0.5555555555555556,
             "#d8576b"
            ],
            [
             0.6666666666666666,
             "#ed7953"
            ],
            [
             0.7777777777777778,
             "#fb9f3a"
            ],
            [
             0.8888888888888888,
             "#fdca26"
            ],
            [
             1,
             "#f0f921"
            ]
           ],
           "sequentialminus": [
            [
             0,
             "#0d0887"
            ],
            [
             0.1111111111111111,
             "#46039f"
            ],
            [
             0.2222222222222222,
             "#7201a8"
            ],
            [
             0.3333333333333333,
             "#9c179e"
            ],
            [
             0.4444444444444444,
             "#bd3786"
            ],
            [
             0.5555555555555556,
             "#d8576b"
            ],
            [
             0.6666666666666666,
             "#ed7953"
            ],
            [
             0.7777777777777778,
             "#fb9f3a"
            ],
            [
             0.8888888888888888,
             "#fdca26"
            ],
            [
             1,
             "#f0f921"
            ]
           ]
          },
          "colorway": [
           "#636efa",
           "#EF553B",
           "#00cc96",
           "#ab63fa",
           "#FFA15A",
           "#19d3f3",
           "#FF6692",
           "#B6E880",
           "#FF97FF",
           "#FECB52"
          ],
          "font": {
           "color": "#2a3f5f"
          },
          "geo": {
           "bgcolor": "white",
           "lakecolor": "white",
           "landcolor": "#E5ECF6",
           "showlakes": true,
           "showland": true,
           "subunitcolor": "white"
          },
          "hoverlabel": {
           "align": "left"
          },
          "hovermode": "closest",
          "mapbox": {
           "style": "light"
          },
          "paper_bgcolor": "white",
          "plot_bgcolor": "#E5ECF6",
          "polar": {
           "angularaxis": {
            "gridcolor": "white",
            "linecolor": "white",
            "ticks": ""
           },
           "bgcolor": "#E5ECF6",
           "radialaxis": {
            "gridcolor": "white",
            "linecolor": "white",
            "ticks": ""
           }
          },
          "scene": {
           "xaxis": {
            "backgroundcolor": "#E5ECF6",
            "gridcolor": "white",
            "gridwidth": 2,
            "linecolor": "white",
            "showbackground": true,
            "ticks": "",
            "zerolinecolor": "white"
           },
           "yaxis": {
            "backgroundcolor": "#E5ECF6",
            "gridcolor": "white",
            "gridwidth": 2,
            "linecolor": "white",
            "showbackground": true,
            "ticks": "",
            "zerolinecolor": "white"
           },
           "zaxis": {
            "backgroundcolor": "#E5ECF6",
            "gridcolor": "white",
            "gridwidth": 2,
            "linecolor": "white",
            "showbackground": true,
            "ticks": "",
            "zerolinecolor": "white"
           }
          },
          "shapedefaults": {
           "line": {
            "color": "#2a3f5f"
           }
          },
          "ternary": {
           "aaxis": {
            "gridcolor": "white",
            "linecolor": "white",
            "ticks": ""
           },
           "baxis": {
            "gridcolor": "white",
            "linecolor": "white",
            "ticks": ""
           },
           "bgcolor": "#E5ECF6",
           "caxis": {
            "gridcolor": "white",
            "linecolor": "white",
            "ticks": ""
           }
          },
          "title": {
           "x": 0.05
          },
          "xaxis": {
           "automargin": true,
           "gridcolor": "white",
           "linecolor": "white",
           "ticks": "",
           "title": {
            "standoff": 15
           },
           "zerolinecolor": "white",
           "zerolinewidth": 2
          },
          "yaxis": {
           "automargin": true,
           "gridcolor": "white",
           "linecolor": "white",
           "ticks": "",
           "title": {
            "standoff": 15
           },
           "zerolinecolor": "white",
           "zerolinewidth": 2
          }
         }
        },
        "yaxis": {
         "title": {
          "text": "Spesa media"
         },
         "type": "log"
        }
       }
      },
      "text/html": [
       "<div>                            <div id=\"eca081c7-99eb-4a31-8188-a6bf3fbb006b\" class=\"plotly-graph-div\" style=\"height:525px; width:100%;\"></div>            <script type=\"text/javascript\">                require([\"plotly\"], function(Plotly) {                    window.PLOTLYENV=window.PLOTLYENV || {};                                    if (document.getElementById(\"eca081c7-99eb-4a31-8188-a6bf3fbb006b\")) {                    Plotly.newPlot(                        \"eca081c7-99eb-4a31-8188-a6bf3fbb006b\",                        [{\"name\":\"1\",\"width\":0.2,\"x\":[\"-- abbigliamento e calzature\",\"-- abitazione, acqua, elettricit\\u00e0, gas e altri combustibili\",\"-- altri beni e servizi\",\"-- bevande alcoliche e tabacchi\",\"-- comunicazioni\",\"-- istruzione\",\"-- mobili, articoli e servizi per la casa\",\"-- prodotti alimentari e bevande analcoliche\",\"-- ricreazione, spettacoli e cultura\",\"-- servizi ricettivi e di ristorazione\",\"-- servizi sanitari e spese per la salute\",\"-- trasporti\",\"Non alimentari\",\"Totale\"],\"y\":[45.3,802.57,107.4,30.51,36.83,3.17,79.11,298.39,56.07,54.49,79.5,122.47,1417.41,1715.8],\"type\":\"bar\"},{\"name\":\"2\",\"width\":0.2,\"x\":[\"-- abbigliamento e calzature\",\"-- abitazione, acqua, elettricit\\u00e0, gas e altri combustibili\",\"-- altri beni e servizi\",\"-- bevande alcoliche e tabacchi\",\"-- comunicazioni\",\"-- istruzione\",\"-- mobili, articoli e servizi per la casa\",\"-- prodotti alimentari e bevande analcoliche\",\"-- ricreazione, spettacoli e cultura\",\"-- servizi ricettivi e di ristorazione\",\"-- servizi sanitari e spese per la salute\",\"-- trasporti\",\"Non alimentari\",\"Totale\"],\"y\":[74.63,942.44,176.91,45.23,53.38,5.73,109.34,468.74,90.63,72.41,123.84,209.02,1903.55,2372.29],\"type\":\"bar\"},{\"name\":\"3\",\"width\":0.2,\"x\":[\"-- abbigliamento e calzature\",\"-- abitazione, acqua, elettricit\\u00e0, gas e altri combustibili\",\"-- altri beni e servizi\",\"-- bevande alcoliche e tabacchi\",\"-- comunicazioni\",\"-- istruzione\",\"-- mobili, articoli e servizi per la casa\",\"-- prodotti alimentari e bevande analcoliche\",\"-- ricreazione, spettacoli e cultura\",\"-- servizi ricettivi e di ristorazione\",\"-- servizi sanitari e spese per la salute\",\"-- trasporti\",\"Non alimentari\",\"Totale\"],\"y\":[110.24,941.93,209.22,51.15,65.62,23.53,117.22,568.16,115.57,99.73,123.7,291.39,2149.31,2717.47],\"type\":\"bar\"},{\"name\":\"4\",\"width\":0.2,\"x\":[\"-- abbigliamento e calzature\",\"-- abitazione, acqua, elettricit\\u00e0, gas e altri combustibili\",\"-- altri beni e servizi\",\"-- bevande alcoliche e tabacchi\",\"-- comunicazioni\",\"-- istruzione\",\"-- mobili, articoli e servizi per la casa\",\"-- prodotti alimentari e bevande analcoliche\",\"-- ricreazione, spettacoli e cultura\",\"-- servizi ricettivi e di ristorazione\",\"-- servizi sanitari e spese per la salute\",\"-- trasporti\",\"Non alimentari\",\"Totale\"],\"y\":[154.97,935.39,212.16,48.89,72.3,34.51,117.25,640.74,141.28,115.27,120.04,319.88,2271.93,2912.67],\"type\":\"bar\"},{\"name\":\"5 e pi\\u00f9\",\"width\":0.2,\"x\":[\"-- abbigliamento e calzature\",\"-- abitazione, acqua, elettricit\\u00e0, gas e altri combustibili\",\"-- altri beni e servizi\",\"-- bevande alcoliche e tabacchi\",\"-- comunicazioni\",\"-- istruzione\",\"-- mobili, articoli e servizi per la casa\",\"-- prodotti alimentari e bevande analcoliche\",\"-- ricreazione, spettacoli e cultura\",\"-- servizi ricettivi e di ristorazione\",\"-- servizi sanitari e spese per la salute\",\"-- trasporti\",\"Non alimentari\",\"Totale\"],\"y\":[181.1,905.0,224.89,58.45,81.59,34.1,149.21,736.44,142.52,109.22,114.14,339.73,2339.94,3076.38],\"type\":\"bar\"},{\"hovertemplate\":\"Coicop (DESC)=%{x}<br>Spesa media=%{y}<extra></extra>\",\"legendgroup\":\"\",\"line\":{\"color\":\"red\",\"dash\":\"solid\"},\"marker\":{\"symbol\":\"circle\"},\"mode\":\"lines\",\"name\":\"\",\"orientation\":\"v\",\"showlegend\":false,\"x\":[\"-- abbigliamento e calzature\",\"-- abitazione, acqua, elettricit\\u00e0, gas e altri combustibili\",\"-- altri beni e servizi\",\"-- bevande alcoliche e tabacchi\",\"-- comunicazioni\",\"-- istruzione\",\"-- mobili, articoli e servizi per la casa\",\"-- prodotti alimentari e bevande analcoliche\",\"-- ricreazione, spettacoli e cultura\",\"-- servizi ricettivi e di ristorazione\",\"-- servizi sanitari e spese per la salute\",\"-- trasporti\",\"Non alimentari\",\"Totale\"],\"xaxis\":\"x\",\"y\":[113.248,905.466,186.11599999999999,46.846000000000004,61.944,20.208,114.426,542.494,109.21399999999998,90.224,112.244,256.498,2016.4279999999999,2558.922],\"yaxis\":\"y\",\"type\":\"scatter\"}],                        {\"template\":{\"data\":{\"histogram2dcontour\":[{\"type\":\"histogram2dcontour\",\"colorbar\":{\"outlinewidth\":0,\"ticks\":\"\"},\"colorscale\":[[0.0,\"#0d0887\"],[0.1111111111111111,\"#46039f\"],[0.2222222222222222,\"#7201a8\"],[0.3333333333333333,\"#9c179e\"],[0.4444444444444444,\"#bd3786\"],[0.5555555555555556,\"#d8576b\"],[0.6666666666666666,\"#ed7953\"],[0.7777777777777778,\"#fb9f3a\"],[0.8888888888888888,\"#fdca26\"],[1.0,\"#f0f921\"]]}],\"choropleth\":[{\"type\":\"choropleth\",\"colorbar\":{\"outlinewidth\":0,\"ticks\":\"\"}}],\"histogram2d\":[{\"type\":\"histogram2d\",\"colorbar\":{\"outlinewidth\":0,\"ticks\":\"\"},\"colorscale\":[[0.0,\"#0d0887\"],[0.1111111111111111,\"#46039f\"],[0.2222222222222222,\"#7201a8\"],[0.3333333333333333,\"#9c179e\"],[0.4444444444444444,\"#bd3786\"],[0.5555555555555556,\"#d8576b\"],[0.6666666666666666,\"#ed7953\"],[0.7777777777777778,\"#fb9f3a\"],[0.8888888888888888,\"#fdca26\"],[1.0,\"#f0f921\"]]}],\"heatmap\":[{\"type\":\"heatmap\",\"colorbar\":{\"outlinewidth\":0,\"ticks\":\"\"},\"colorscale\":[[0.0,\"#0d0887\"],[0.1111111111111111,\"#46039f\"],[0.2222222222222222,\"#7201a8\"],[0.3333333333333333,\"#9c179e\"],[0.4444444444444444,\"#bd3786\"],[0.5555555555555556,\"#d8576b\"],[0.6666666666666666,\"#ed7953\"],[0.7777777777777778,\"#fb9f3a\"],[0.8888888888888888,\"#fdca26\"],[1.0,\"#f0f921\"]]}],\"heatmapgl\":[{\"type\":\"heatmapgl\",\"colorbar\":{\"outlinewidth\":0,\"ticks\":\"\"},\"colorscale\":[[0.0,\"#0d0887\"],[0.1111111111111111,\"#46039f\"],[0.2222222222222222,\"#7201a8\"],[0.3333333333333333,\"#9c179e\"],[0.4444444444444444,\"#bd3786\"],[0.5555555555555556,\"#d8576b\"],[0.6666666666666666,\"#ed7953\"],[0.7777777777777778,\"#fb9f3a\"],[0.8888888888888888,\"#fdca26\"],[1.0,\"#f0f921\"]]}],\"contourcarpet\":[{\"type\":\"contourcarpet\",\"colorbar\":{\"outlinewidth\":0,\"ticks\":\"\"}}],\"contour\":[{\"type\":\"contour\",\"colorbar\":{\"outlinewidth\":0,\"ticks\":\"\"},\"colorscale\":[[0.0,\"#0d0887\"],[0.1111111111111111,\"#46039f\"],[0.2222222222222222,\"#7201a8\"],[0.3333333333333333,\"#9c179e\"],[0.4444444444444444,\"#bd3786\"],[0.5555555555555556,\"#d8576b\"],[0.6666666666666666,\"#ed7953\"],[0.7777777777777778,\"#fb9f3a\"],[0.8888888888888888,\"#fdca26\"],[1.0,\"#f0f921\"]]}],\"surface\":[{\"type\":\"surface\",\"colorbar\":{\"outlinewidth\":0,\"ticks\":\"\"},\"colorscale\":[[0.0,\"#0d0887\"],[0.1111111111111111,\"#46039f\"],[0.2222222222222222,\"#7201a8\"],[0.3333333333333333,\"#9c179e\"],[0.4444444444444444,\"#bd3786\"],[0.5555555555555556,\"#d8576b\"],[0.6666666666666666,\"#ed7953\"],[0.7777777777777778,\"#fb9f3a\"],[0.8888888888888888,\"#fdca26\"],[1.0,\"#f0f921\"]]}],\"mesh3d\":[{\"type\":\"mesh3d\",\"colorbar\":{\"outlinewidth\":0,\"ticks\":\"\"}}],\"scatter\":[{\"fillpattern\":{\"fillmode\":\"overlay\",\"size\":10,\"solidity\":0.2},\"type\":\"scatter\"}],\"parcoords\":[{\"type\":\"parcoords\",\"line\":{\"colorbar\":{\"outlinewidth\":0,\"ticks\":\"\"}}}],\"scatterpolargl\":[{\"type\":\"scatterpolargl\",\"marker\":{\"colorbar\":{\"outlinewidth\":0,\"ticks\":\"\"}}}],\"bar\":[{\"error_x\":{\"color\":\"#2a3f5f\"},\"error_y\":{\"color\":\"#2a3f5f\"},\"marker\":{\"line\":{\"color\":\"#E5ECF6\",\"width\":0.5},\"pattern\":{\"fillmode\":\"overlay\",\"size\":10,\"solidity\":0.2}},\"type\":\"bar\"}],\"scattergeo\":[{\"type\":\"scattergeo\",\"marker\":{\"colorbar\":{\"outlinewidth\":0,\"ticks\":\"\"}}}],\"scatterpolar\":[{\"type\":\"scatterpolar\",\"marker\":{\"colorbar\":{\"outlinewidth\":0,\"ticks\":\"\"}}}],\"histogram\":[{\"marker\":{\"pattern\":{\"fillmode\":\"overlay\",\"size\":10,\"solidity\":0.2}},\"type\":\"histogram\"}],\"scattergl\":[{\"type\":\"scattergl\",\"marker\":{\"colorbar\":{\"outlinewidth\":0,\"ticks\":\"\"}}}],\"scatter3d\":[{\"type\":\"scatter3d\",\"line\":{\"colorbar\":{\"outlinewidth\":0,\"ticks\":\"\"}},\"marker\":{\"colorbar\":{\"outlinewidth\":0,\"ticks\":\"\"}}}],\"scattermapbox\":[{\"type\":\"scattermapbox\",\"marker\":{\"colorbar\":{\"outlinewidth\":0,\"ticks\":\"\"}}}],\"scatterternary\":[{\"type\":\"scatterternary\",\"marker\":{\"colorbar\":{\"outlinewidth\":0,\"ticks\":\"\"}}}],\"scattercarpet\":[{\"type\":\"scattercarpet\",\"marker\":{\"colorbar\":{\"outlinewidth\":0,\"ticks\":\"\"}}}],\"carpet\":[{\"aaxis\":{\"endlinecolor\":\"#2a3f5f\",\"gridcolor\":\"white\",\"linecolor\":\"white\",\"minorgridcolor\":\"white\",\"startlinecolor\":\"#2a3f5f\"},\"baxis\":{\"endlinecolor\":\"#2a3f5f\",\"gridcolor\":\"white\",\"linecolor\":\"white\",\"minorgridcolor\":\"white\",\"startlinecolor\":\"#2a3f5f\"},\"type\":\"carpet\"}],\"table\":[{\"cells\":{\"fill\":{\"color\":\"#EBF0F8\"},\"line\":{\"color\":\"white\"}},\"header\":{\"fill\":{\"color\":\"#C8D4E3\"},\"line\":{\"color\":\"white\"}},\"type\":\"table\"}],\"barpolar\":[{\"marker\":{\"line\":{\"color\":\"#E5ECF6\",\"width\":0.5},\"pattern\":{\"fillmode\":\"overlay\",\"size\":10,\"solidity\":0.2}},\"type\":\"barpolar\"}],\"pie\":[{\"automargin\":true,\"type\":\"pie\"}]},\"layout\":{\"autotypenumbers\":\"strict\",\"colorway\":[\"#636efa\",\"#EF553B\",\"#00cc96\",\"#ab63fa\",\"#FFA15A\",\"#19d3f3\",\"#FF6692\",\"#B6E880\",\"#FF97FF\",\"#FECB52\"],\"font\":{\"color\":\"#2a3f5f\"},\"hovermode\":\"closest\",\"hoverlabel\":{\"align\":\"left\"},\"paper_bgcolor\":\"white\",\"plot_bgcolor\":\"#E5ECF6\",\"polar\":{\"bgcolor\":\"#E5ECF6\",\"angularaxis\":{\"gridcolor\":\"white\",\"linecolor\":\"white\",\"ticks\":\"\"},\"radialaxis\":{\"gridcolor\":\"white\",\"linecolor\":\"white\",\"ticks\":\"\"}},\"ternary\":{\"bgcolor\":\"#E5ECF6\",\"aaxis\":{\"gridcolor\":\"white\",\"linecolor\":\"white\",\"ticks\":\"\"},\"baxis\":{\"gridcolor\":\"white\",\"linecolor\":\"white\",\"ticks\":\"\"},\"caxis\":{\"gridcolor\":\"white\",\"linecolor\":\"white\",\"ticks\":\"\"}},\"coloraxis\":{\"colorbar\":{\"outlinewidth\":0,\"ticks\":\"\"}},\"colorscale\":{\"sequential\":[[0.0,\"#0d0887\"],[0.1111111111111111,\"#46039f\"],[0.2222222222222222,\"#7201a8\"],[0.3333333333333333,\"#9c179e\"],[0.4444444444444444,\"#bd3786\"],[0.5555555555555556,\"#d8576b\"],[0.6666666666666666,\"#ed7953\"],[0.7777777777777778,\"#fb9f3a\"],[0.8888888888888888,\"#fdca26\"],[1.0,\"#f0f921\"]],\"sequentialminus\":[[0.0,\"#0d0887\"],[0.1111111111111111,\"#46039f\"],[0.2222222222222222,\"#7201a8\"],[0.3333333333333333,\"#9c179e\"],[0.4444444444444444,\"#bd3786\"],[0.5555555555555556,\"#d8576b\"],[0.6666666666666666,\"#ed7953\"],[0.7777777777777778,\"#fb9f3a\"],[0.8888888888888888,\"#fdca26\"],[1.0,\"#f0f921\"]],\"diverging\":[[0,\"#8e0152\"],[0.1,\"#c51b7d\"],[0.2,\"#de77ae\"],[0.3,\"#f1b6da\"],[0.4,\"#fde0ef\"],[0.5,\"#f7f7f7\"],[0.6,\"#e6f5d0\"],[0.7,\"#b8e186\"],[0.8,\"#7fbc41\"],[0.9,\"#4d9221\"],[1,\"#276419\"]]},\"xaxis\":{\"gridcolor\":\"white\",\"linecolor\":\"white\",\"ticks\":\"\",\"title\":{\"standoff\":15},\"zerolinecolor\":\"white\",\"automargin\":true,\"zerolinewidth\":2},\"yaxis\":{\"gridcolor\":\"white\",\"linecolor\":\"white\",\"ticks\":\"\",\"title\":{\"standoff\":15},\"zerolinecolor\":\"white\",\"automargin\":true,\"zerolinewidth\":2},\"scene\":{\"xaxis\":{\"backgroundcolor\":\"#E5ECF6\",\"gridcolor\":\"white\",\"linecolor\":\"white\",\"showbackground\":true,\"ticks\":\"\",\"zerolinecolor\":\"white\",\"gridwidth\":2},\"yaxis\":{\"backgroundcolor\":\"#E5ECF6\",\"gridcolor\":\"white\",\"linecolor\":\"white\",\"showbackground\":true,\"ticks\":\"\",\"zerolinecolor\":\"white\",\"gridwidth\":2},\"zaxis\":{\"backgroundcolor\":\"#E5ECF6\",\"gridcolor\":\"white\",\"linecolor\":\"white\",\"showbackground\":true,\"ticks\":\"\",\"zerolinecolor\":\"white\",\"gridwidth\":2}},\"shapedefaults\":{\"line\":{\"color\":\"#2a3f5f\"}},\"annotationdefaults\":{\"arrowcolor\":\"#2a3f5f\",\"arrowhead\":0,\"arrowwidth\":1},\"geo\":{\"bgcolor\":\"white\",\"landcolor\":\"#E5ECF6\",\"subunitcolor\":\"white\",\"showland\":true,\"showlakes\":true,\"lakecolor\":\"white\"},\"title\":{\"x\":0.05},\"mapbox\":{\"style\":\"light\"}}},\"yaxis\":{\"title\":{\"text\":\"Spesa media\"},\"type\":\"log\"},\"barmode\":\"group\"},                        {\"responsive\": true}                    ).then(function(){\n",
       "                            \n",
       "var gd = document.getElementById('eca081c7-99eb-4a31-8188-a6bf3fbb006b');\n",
       "var x = new MutationObserver(function (mutations, observer) {{\n",
       "        var display = window.getComputedStyle(gd).display;\n",
       "        if (!display || display === 'none') {{\n",
       "            console.log([gd, 'removed!']);\n",
       "            Plotly.purge(gd);\n",
       "            observer.disconnect();\n",
       "        }}\n",
       "}});\n",
       "\n",
       "// Listen for the removal of the full notebook cells\n",
       "var notebookContainer = gd.closest('#notebook-container');\n",
       "if (notebookContainer) {{\n",
       "    x.observe(notebookContainer, {childList: true});\n",
       "}}\n",
       "\n",
       "// Listen for the clearing of the current output cell\n",
       "var outputEl = gd.closest('.output');\n",
       "if (outputEl) {{\n",
       "    x.observe(outputEl, {childList: true});\n",
       "}}\n",
       "\n",
       "                        })                };                });            </script>        </div>"
      ]
     },
     "metadata": {},
     "output_type": "display_data"
    }
   ],
   "source": [
    "fig = go.Figure() #= px.histogram(grouped_data, x='Coicop (DESC)', y='spesa_media', color='componenti', barmode='group')\n",
    "\n",
    "\n",
    "\n",
    "for i, group_df in grouped_data.groupby('componenti'):\n",
    "        fig.add_trace(go.Bar(\n",
    "            x=group_df['Coicop (DESC)'], \n",
    "            y=group_df['spesa_media'], \n",
    "            name=str(i),\n",
    "            width=0.2\n",
    "        ))\n",
    "\n",
    "\n",
    "\n",
    "fig.update_layout(\n",
    "        barmode='group', \n",
    "        yaxis_title_text = 'Spesa media', \n",
    "        #bargroupgap=0.1, \n",
    "        #bargap=0.2, \n",
    "    ) \n",
    "fig.update_yaxes(type=\"log\")\n",
    "\n",
    "l = px.line(\n",
    "    mean_values, x=\"Coicop (DESC)\", y=\"Spesa media\"\n",
    ").update_traces(line_color=\"red\")\n",
    "\n",
    "fig.add_traces(l.data)\n",
    "\n",
    "fig.show()"
   ]
  },
  {
   "cell_type": "code",
   "execution_count": 39,
   "metadata": {},
   "outputs": [
    {
     "data": {
      "application/vnd.plotly.v1+json": {
       "config": {
        "plotlyServerURL": "https://plot.ly"
       },
       "data": [
        {
         "branchvalues": "total",
         "domain": {
          "x": [
           0,
           1
          ],
          "y": [
           0,
           1
          ]
         },
         "hovertemplate": "labels=%{label}<br>Spesa media=%{value}<br>parent=%{parent}<br>id=%{id}<extra></extra>",
         "ids": [
          "ALL/1/2/Acque minerali, bevande analcoliche, succhi di frutta e verdura",
          "ALL/7/3/Acquisto di altri servizi di trasporto",
          "ALL/4/1/Affitti reali per l\"'abitazione principale",
          "ALL/2/1/Alcolici",
          "ALL/12/6/Altre assicurazioni",
          "ALL/4/1/Altri affitti reali",
          "ALL/12/6/Altri apparecchi non elettrici, articoli e prodotti per la cura della persona",
          "ALL/3/1/Altri articoli d\"'abbigliamento e accessori per l\"'abbigliamento",
          "ALL/12/6/Altri effetti personali",
          "ALL/4/2/Altri fitti imputati",
          "ALL/6/1/Altri prodotti medicali",
          "ALL/12/6/Altri servizi n.a.c.",
          "ALL/4/4/Altri servizi per l\"'abitazione n.a.c.",
          "ALL/7/2/Altri servizi relativi ai mezzi di trasporto privati",
          "ALL/9/3/Animali domestici e relativi prodotti",
          "ALL/9/1/Apparecchi di ricezione, registrazione e riproduzione di suoni e immagini",
          "ALL/12/6/Apparecchi elettrici per la cura della persona",
          "ALL/9/1/Apparecchi fotografici e cinematografici e strumenti ottici",
          "ALL/9/1/Apparecchi per il trattamento dell\"'informazione",
          "ALL/9/5/Articoli di cartoleria e materiale da disegno",
          "ALL/9/3/Articoli per giardinaggio, piante e fiori",
          "ALL/9/3/Articoli sportivi, per campeggio e attività ricreative all\"'aperto",
          "ALL/12/6/Assicurazione connessa all\"'abitazione",
          "ALL/12/6/Assicurazione sulla vita",
          "ALL/12/6/Assicurazioni",
          "ALL/12/6/Assicurazioni sui mezzi di trasporto",
          "ALL/12/6/Assistenza sociale",
          "ALL/6/1/Attrezzature ed apparecchi terapeutici",
          "ALL/7/1/Automobili",
          "ALL/12/6/Beni e servizi per la cura della persona",
          "ALL/5/6/Beni non durevoli per la casa",
          "ALL/7/1/Biciclette",
          "ALL/2/1/Birra",
          "ALL/1/2/Caffè, tè e cacao",
          "ALL/7/2/Carburanti e lubrificanti per mezzi di trasporto privati",
          "ALL/1/1/Carni",
          "ALL/4/5/Combustibili solidi",
          "ALL/10/6/Corsi d\"'istruzione e di formazione",
          "ALL/12/6/Effetti personali n.a.c.",
          "ALL/4/5/Energia elettrica",
          "ALL/4/5/Energia termica",
          "ALL/4/2/Fitti imputati proprietari",
          "ALL/4/4/Fornitura acqua",
          "ALL/1/1/Frutta",
          "ALL/4/5/Gas",
          "ALL/4/5/Gasolio per riscaldamento",
          "ALL/9/3/Giochi, giocattoli e hobby",
          "ALL/9/4/Giochi, lotterie e scommesse",
          "ALL/12/6/Gioielleria ed orologeria",
          "ALL/9/5/Giornali e periodici",
          "ALL/5/3/Grandi apparecchi domestici elettrici e non",
          "ALL/5/5/Grandi utensili ed attrezzature per la casa ed il giardino",
          "ALL/3/1/Indumenti",
          "ALL/10/6/Istruzione secondaria",
          "ALL/10/6/Istruzione universitaria",
          "ALL/1/1/Latte, formaggi e uova",
          "ALL/9/5/Libri",
          "ALL/7/2/Manutenzione e riparazione mezzi di trasporto privati",
          "ALL/9/5/Materiale stampato vario",
          "ALL/4/3/Materiali per la riparazione e la manutenzione della casa",
          "ALL/11/6/Mense",
          "ALL/5/1/Mobili e arredi",
          "ALL/7/1/Motocicli e ciclomotori",
          "ALL/1/1/Oli e grassi",
          "ALL/1/1/Pane e cereali",
          "ALL/1/1/Pesci e prodotti ittici",
          "ALL/7/2/Pezzi di ricambio e accessori per mezzi di trasporto privati",
          "ALL/5/3/Piccoli elettrodomestici",
          "ALL/5/5/Piccoli utensili ed accessori vari",
          "ALL/1/1/Prodotti alimentari n.a.c.",
          "ALL/6/1/Prodotti farmaceutici",
          "ALL/4/4/Raccolta acque di scarico",
          "ALL/4/4/Raccolta rifiuti",
          "ALL/9/1/Riparazione di apparecchi audiovisivi, fotografici e informatici",
          "ALL/5/3/Riparazione di apparecchi per la casa",
          "ALL/3/2/Riparazione e noleggio calzature",
          "ALL/11/6/Ristoranti, bar e simili",
          "ALL/3/2/Scarpe ed altre calzature",
          "ALL/12/6/Servizi assicurativi connessi alla salute",
          "ALL/9/4/Servizi culturali",
          "ALL/6/2/Servizi dentistici",
          "ALL/11/6/Servizi di alloggio",
          "ALL/3/1/Servizi di lavanderia, riparazione e noleggio abiti",
          "ALL/12/6/Servizi di parrucchiere e trattamenti  di bellezza",
          "ALL/11/6/Servizi di ristorazione",
          "ALL/12/6/Servizi finanziari n.a.c.",
          "ALL/6/2/Servizi medici",
          "ALL/6/2/Servizi paramedici",
          "ALL/5/6/Servizi per la pulizia e la manutenzione della casa",
          "ALL/4/3/Servizi per la riparazione e manutenzione della casa",
          "ALL/9/4/Servizi ricreativi e sportivi",
          "ALL/9/3/Servizi veterinari e altri servizi per animali domestici",
          "ALL/9/2/Strumenti musicali e beni durevoli per ricreazione al coperto",
          "ALL/9/1/Supporti di registrazione",
          "ALL/5/1/Tappeti e altri rivestimenti per pavimenti",
          "ALL/7/3/Trasporto aereo passeggeri",
          "ALL/7/3/Trasporto marittimo e per vie d\"'acqua interne",
          "ALL/7/3/Trasporto multimodale passeggeri",
          "ALL/7/3/Trasporto passeggeri su rotaia",
          "ALL/7/3/Trasporto passeggeri su strada",
          "ALL/1/1/Vegetali",
          "ALL/2/1/Vini",
          "ALL/1/1/Zucchero, confetture, miele, cioccolato e dolciumi",
          "ALL/1/1",
          "ALL/2/1",
          "ALL/3/1",
          "ALL/4/1",
          "ALL/5/1",
          "ALL/6/1",
          "ALL/7/1",
          "ALL/9/1",
          "ALL/1/2",
          "ALL/3/2",
          "ALL/4/2",
          "ALL/6/2",
          "ALL/7/2",
          "ALL/9/2",
          "ALL/4/3",
          "ALL/5/3",
          "ALL/7/3",
          "ALL/9/3",
          "ALL/4/4",
          "ALL/9/4",
          "ALL/4/5",
          "ALL/5/5",
          "ALL/9/5",
          "ALL/10/6",
          "ALL/11/6",
          "ALL/12/6",
          "ALL/5/6",
          "ALL/1",
          "ALL/10",
          "ALL/11",
          "ALL/12",
          "ALL/2",
          "ALL/3",
          "ALL/4",
          "ALL/5",
          "ALL/6",
          "ALL/7",
          "ALL/9",
          "ALL"
         ],
         "labels": [
          "Acque minerali, bevande analcoliche, succhi di frutta e verdura",
          "Acquisto di altri servizi di trasporto",
          "Affitti reali per l\"'abitazione principale",
          "Alcolici",
          "Altre assicurazioni",
          "Altri affitti reali",
          "Altri apparecchi non elettrici, articoli e prodotti per la cura della persona",
          "Altri articoli d\"'abbigliamento e accessori per l\"'abbigliamento",
          "Altri effetti personali",
          "Altri fitti imputati",
          "Altri prodotti medicali",
          "Altri servizi n.a.c.",
          "Altri servizi per l\"'abitazione n.a.c.",
          "Altri servizi relativi ai mezzi di trasporto privati",
          "Animali domestici e relativi prodotti",
          "Apparecchi di ricezione, registrazione e riproduzione di suoni e immagini",
          "Apparecchi elettrici per la cura della persona",
          "Apparecchi fotografici e cinematografici e strumenti ottici",
          "Apparecchi per il trattamento dell\"'informazione",
          "Articoli di cartoleria e materiale da disegno",
          "Articoli per giardinaggio, piante e fiori",
          "Articoli sportivi, per campeggio e attività ricreative all\"'aperto",
          "Assicurazione connessa all\"'abitazione",
          "Assicurazione sulla vita",
          "Assicurazioni",
          "Assicurazioni sui mezzi di trasporto",
          "Assistenza sociale",
          "Attrezzature ed apparecchi terapeutici",
          "Automobili",
          "Beni e servizi per la cura della persona",
          "Beni non durevoli per la casa",
          "Biciclette",
          "Birra",
          "Caffè, tè e cacao",
          "Carburanti e lubrificanti per mezzi di trasporto privati",
          "Carni",
          "Combustibili solidi",
          "Corsi d\"'istruzione e di formazione",
          "Effetti personali n.a.c.",
          "Energia elettrica",
          "Energia termica",
          "Fitti imputati proprietari",
          "Fornitura acqua",
          "Frutta",
          "Gas",
          "Gasolio per riscaldamento",
          "Giochi, giocattoli e hobby",
          "Giochi, lotterie e scommesse",
          "Gioielleria ed orologeria",
          "Giornali e periodici",
          "Grandi apparecchi domestici elettrici e non",
          "Grandi utensili ed attrezzature per la casa ed il giardino",
          "Indumenti",
          "Istruzione secondaria",
          "Istruzione universitaria",
          "Latte, formaggi e uova",
          "Libri",
          "Manutenzione e riparazione mezzi di trasporto privati",
          "Materiale stampato vario",
          "Materiali per la riparazione e la manutenzione della casa",
          "Mense",
          "Mobili e arredi",
          "Motocicli e ciclomotori",
          "Oli e grassi",
          "Pane e cereali",
          "Pesci e prodotti ittici",
          "Pezzi di ricambio e accessori per mezzi di trasporto privati",
          "Piccoli elettrodomestici",
          "Piccoli utensili ed accessori vari",
          "Prodotti alimentari n.a.c.",
          "Prodotti farmaceutici",
          "Raccolta acque di scarico",
          "Raccolta rifiuti",
          "Riparazione di apparecchi audiovisivi, fotografici e informatici",
          "Riparazione di apparecchi per la casa",
          "Riparazione e noleggio calzature",
          "Ristoranti, bar e simili",
          "Scarpe ed altre calzature",
          "Servizi assicurativi connessi alla salute",
          "Servizi culturali",
          "Servizi dentistici",
          "Servizi di alloggio",
          "Servizi di lavanderia, riparazione e noleggio abiti",
          "Servizi di parrucchiere e trattamenti  di bellezza",
          "Servizi di ristorazione",
          "Servizi finanziari n.a.c.",
          "Servizi medici",
          "Servizi paramedici",
          "Servizi per la pulizia e la manutenzione della casa",
          "Servizi per la riparazione e manutenzione della casa",
          "Servizi ricreativi e sportivi",
          "Servizi veterinari e altri servizi per animali domestici",
          "Strumenti musicali e beni durevoli per ricreazione al coperto",
          "Supporti di registrazione",
          "Tappeti e altri rivestimenti per pavimenti",
          "Trasporto aereo passeggeri",
          "Trasporto marittimo e per vie d\"'acqua interne",
          "Trasporto multimodale passeggeri",
          "Trasporto passeggeri su rotaia",
          "Trasporto passeggeri su strada",
          "Vegetali",
          "Vini",
          "Zucchero, confetture, miele, cioccolato e dolciumi",
          "1",
          "1",
          "1",
          "1",
          "1",
          "1",
          "1",
          "1",
          "2",
          "2",
          "2",
          "2",
          "2",
          "2",
          "3",
          "3",
          "3",
          "3",
          "4",
          "4",
          "5",
          "5",
          "5",
          "6",
          "6",
          "6",
          "6",
          "1",
          "10",
          "11",
          "12",
          "2",
          "3",
          "4",
          "5",
          "6",
          "7",
          "9",
          "ALL"
         ],
         "name": "",
         "parents": [
          "ALL/1/2",
          "ALL/7/3",
          "ALL/4/1",
          "ALL/2/1",
          "ALL/12/6",
          "ALL/4/1",
          "ALL/12/6",
          "ALL/3/1",
          "ALL/12/6",
          "ALL/4/2",
          "ALL/6/1",
          "ALL/12/6",
          "ALL/4/4",
          "ALL/7/2",
          "ALL/9/3",
          "ALL/9/1",
          "ALL/12/6",
          "ALL/9/1",
          "ALL/9/1",
          "ALL/9/5",
          "ALL/9/3",
          "ALL/9/3",
          "ALL/12/6",
          "ALL/12/6",
          "ALL/12/6",
          "ALL/12/6",
          "ALL/12/6",
          "ALL/6/1",
          "ALL/7/1",
          "ALL/12/6",
          "ALL/5/6",
          "ALL/7/1",
          "ALL/2/1",
          "ALL/1/2",
          "ALL/7/2",
          "ALL/1/1",
          "ALL/4/5",
          "ALL/10/6",
          "ALL/12/6",
          "ALL/4/5",
          "ALL/4/5",
          "ALL/4/2",
          "ALL/4/4",
          "ALL/1/1",
          "ALL/4/5",
          "ALL/4/5",
          "ALL/9/3",
          "ALL/9/4",
          "ALL/12/6",
          "ALL/9/5",
          "ALL/5/3",
          "ALL/5/5",
          "ALL/3/1",
          "ALL/10/6",
          "ALL/10/6",
          "ALL/1/1",
          "ALL/9/5",
          "ALL/7/2",
          "ALL/9/5",
          "ALL/4/3",
          "ALL/11/6",
          "ALL/5/1",
          "ALL/7/1",
          "ALL/1/1",
          "ALL/1/1",
          "ALL/1/1",
          "ALL/7/2",
          "ALL/5/3",
          "ALL/5/5",
          "ALL/1/1",
          "ALL/6/1",
          "ALL/4/4",
          "ALL/4/4",
          "ALL/9/1",
          "ALL/5/3",
          "ALL/3/2",
          "ALL/11/6",
          "ALL/3/2",
          "ALL/12/6",
          "ALL/9/4",
          "ALL/6/2",
          "ALL/11/6",
          "ALL/3/1",
          "ALL/12/6",
          "ALL/11/6",
          "ALL/12/6",
          "ALL/6/2",
          "ALL/6/2",
          "ALL/5/6",
          "ALL/4/3",
          "ALL/9/4",
          "ALL/9/3",
          "ALL/9/2",
          "ALL/9/1",
          "ALL/5/1",
          "ALL/7/3",
          "ALL/7/3",
          "ALL/7/3",
          "ALL/7/3",
          "ALL/7/3",
          "ALL/1/1",
          "ALL/2/1",
          "ALL/1/1",
          "ALL/1",
          "ALL/2",
          "ALL/3",
          "ALL/4",
          "ALL/5",
          "ALL/6",
          "ALL/7",
          "ALL/9",
          "ALL/1",
          "ALL/3",
          "ALL/4",
          "ALL/6",
          "ALL/7",
          "ALL/9",
          "ALL/4",
          "ALL/5",
          "ALL/7",
          "ALL/9",
          "ALL/4",
          "ALL/9",
          "ALL/4",
          "ALL/5",
          "ALL/9",
          "ALL/10",
          "ALL/11",
          "ALL/12",
          "ALL/5",
          "ALL",
          "ALL",
          "ALL",
          "ALL",
          "ALL",
          "ALL",
          "ALL",
          "ALL",
          "ALL",
          "ALL",
          "ALL",
          ""
         ],
         "type": "treemap",
         "values": [
          13.83,
          0.41,
          78.99,
          1.92,
          1.19,
          2.26,
          18.2,
          1.78,
          2.89,
          99.14,
          4.25,
          22.16,
          47.2,
          8.01,
          7.48,
          1.62,
          0.52,
          0.18,
          2.05,
          1.76,
          6.06,
          2.05,
          4.04,
          3.93,
          37.16,
          25.76,
          2.74,
          6.65,
          36.29,
          39.4,
          20,
          0.8,
          3.88,
          9.39,
          50.06,
          60.29,
          3.54,
          1.09,
          5.01,
          39.09,
          1.11,
          437.5,
          10.38,
          30.06,
          42.31,
          1.14,
          2.95,
          1.64,
          2.12,
          3.76,
          7.08,
          0.27,
          29.66,
          0.17,
          1.75,
          39.95,
          4.62,
          9.4,
          0.2,
          0.8,
          0.6,
          12.64,
          1.59,
          10.11,
          47.45,
          24.7,
          8.13,
          2.8,
          4.9,
          7.62,
          35.19,
          0.16,
          13.57,
          0.05,
          0.17,
          0.42,
          48.42,
          10.41,
          2.23,
          7.01,
          15.65,
          5.47,
          2.93,
          20.68,
          49.02,
          0.94,
          9.87,
          5.85,
          26.97,
          7.23,
          6.6,
          2.14,
          0.18,
          0.57,
          0.41,
          1.96,
          0.16,
          0.89,
          2.92,
          1.85,
          44.01,
          10.62,
          10.98,
          275.17,
          16.419999999999998,
          34.37,
          81.25,
          13.05,
          46.089999999999996,
          38.68,
          4.47,
          23.22,
          10.83,
          536.64,
          31.369999999999997,
          75.60000000000001,
          0.18,
          8.030000000000001,
          10.05,
          8.19,
          20.68,
          71.31,
          15.25,
          87.19000000000001,
          5.17,
          10.34,
          3.01,
          103.51,
          188.97,
          46.97,
          298.39,
          3.01,
          103.51,
          188.97,
          16.419999999999998,
          45.2,
          784.42,
          75.24000000000001,
          77.46,
          122.47,
          50.92,
          1766.01
         ]
        }
       ],
       "layout": {
        "legend": {
         "tracegroupgap": 0
        },
        "margin": {
         "t": 60
        },
        "template": {
         "data": {
          "bar": [
           {
            "error_x": {
             "color": "#2a3f5f"
            },
            "error_y": {
             "color": "#2a3f5f"
            },
            "marker": {
             "line": {
              "color": "#E5ECF6",
              "width": 0.5
             },
             "pattern": {
              "fillmode": "overlay",
              "size": 10,
              "solidity": 0.2
             }
            },
            "type": "bar"
           }
          ],
          "barpolar": [
           {
            "marker": {
             "line": {
              "color": "#E5ECF6",
              "width": 0.5
             },
             "pattern": {
              "fillmode": "overlay",
              "size": 10,
              "solidity": 0.2
             }
            },
            "type": "barpolar"
           }
          ],
          "carpet": [
           {
            "aaxis": {
             "endlinecolor": "#2a3f5f",
             "gridcolor": "white",
             "linecolor": "white",
             "minorgridcolor": "white",
             "startlinecolor": "#2a3f5f"
            },
            "baxis": {
             "endlinecolor": "#2a3f5f",
             "gridcolor": "white",
             "linecolor": "white",
             "minorgridcolor": "white",
             "startlinecolor": "#2a3f5f"
            },
            "type": "carpet"
           }
          ],
          "choropleth": [
           {
            "colorbar": {
             "outlinewidth": 0,
             "ticks": ""
            },
            "type": "choropleth"
           }
          ],
          "contour": [
           {
            "colorbar": {
             "outlinewidth": 0,
             "ticks": ""
            },
            "colorscale": [
             [
              0,
              "#0d0887"
             ],
             [
              0.1111111111111111,
              "#46039f"
             ],
             [
              0.2222222222222222,
              "#7201a8"
             ],
             [
              0.3333333333333333,
              "#9c179e"
             ],
             [
              0.4444444444444444,
              "#bd3786"
             ],
             [
              0.5555555555555556,
              "#d8576b"
             ],
             [
              0.6666666666666666,
              "#ed7953"
             ],
             [
              0.7777777777777778,
              "#fb9f3a"
             ],
             [
              0.8888888888888888,
              "#fdca26"
             ],
             [
              1,
              "#f0f921"
             ]
            ],
            "type": "contour"
           }
          ],
          "contourcarpet": [
           {
            "colorbar": {
             "outlinewidth": 0,
             "ticks": ""
            },
            "type": "contourcarpet"
           }
          ],
          "heatmap": [
           {
            "colorbar": {
             "outlinewidth": 0,
             "ticks": ""
            },
            "colorscale": [
             [
              0,
              "#0d0887"
             ],
             [
              0.1111111111111111,
              "#46039f"
             ],
             [
              0.2222222222222222,
              "#7201a8"
             ],
             [
              0.3333333333333333,
              "#9c179e"
             ],
             [
              0.4444444444444444,
              "#bd3786"
             ],
             [
              0.5555555555555556,
              "#d8576b"
             ],
             [
              0.6666666666666666,
              "#ed7953"
             ],
             [
              0.7777777777777778,
              "#fb9f3a"
             ],
             [
              0.8888888888888888,
              "#fdca26"
             ],
             [
              1,
              "#f0f921"
             ]
            ],
            "type": "heatmap"
           }
          ],
          "heatmapgl": [
           {
            "colorbar": {
             "outlinewidth": 0,
             "ticks": ""
            },
            "colorscale": [
             [
              0,
              "#0d0887"
             ],
             [
              0.1111111111111111,
              "#46039f"
             ],
             [
              0.2222222222222222,
              "#7201a8"
             ],
             [
              0.3333333333333333,
              "#9c179e"
             ],
             [
              0.4444444444444444,
              "#bd3786"
             ],
             [
              0.5555555555555556,
              "#d8576b"
             ],
             [
              0.6666666666666666,
              "#ed7953"
             ],
             [
              0.7777777777777778,
              "#fb9f3a"
             ],
             [
              0.8888888888888888,
              "#fdca26"
             ],
             [
              1,
              "#f0f921"
             ]
            ],
            "type": "heatmapgl"
           }
          ],
          "histogram": [
           {
            "marker": {
             "pattern": {
              "fillmode": "overlay",
              "size": 10,
              "solidity": 0.2
             }
            },
            "type": "histogram"
           }
          ],
          "histogram2d": [
           {
            "colorbar": {
             "outlinewidth": 0,
             "ticks": ""
            },
            "colorscale": [
             [
              0,
              "#0d0887"
             ],
             [
              0.1111111111111111,
              "#46039f"
             ],
             [
              0.2222222222222222,
              "#7201a8"
             ],
             [
              0.3333333333333333,
              "#9c179e"
             ],
             [
              0.4444444444444444,
              "#bd3786"
             ],
             [
              0.5555555555555556,
              "#d8576b"
             ],
             [
              0.6666666666666666,
              "#ed7953"
             ],
             [
              0.7777777777777778,
              "#fb9f3a"
             ],
             [
              0.8888888888888888,
              "#fdca26"
             ],
             [
              1,
              "#f0f921"
             ]
            ],
            "type": "histogram2d"
           }
          ],
          "histogram2dcontour": [
           {
            "colorbar": {
             "outlinewidth": 0,
             "ticks": ""
            },
            "colorscale": [
             [
              0,
              "#0d0887"
             ],
             [
              0.1111111111111111,
              "#46039f"
             ],
             [
              0.2222222222222222,
              "#7201a8"
             ],
             [
              0.3333333333333333,
              "#9c179e"
             ],
             [
              0.4444444444444444,
              "#bd3786"
             ],
             [
              0.5555555555555556,
              "#d8576b"
             ],
             [
              0.6666666666666666,
              "#ed7953"
             ],
             [
              0.7777777777777778,
              "#fb9f3a"
             ],
             [
              0.8888888888888888,
              "#fdca26"
             ],
             [
              1,
              "#f0f921"
             ]
            ],
            "type": "histogram2dcontour"
           }
          ],
          "mesh3d": [
           {
            "colorbar": {
             "outlinewidth": 0,
             "ticks": ""
            },
            "type": "mesh3d"
           }
          ],
          "parcoords": [
           {
            "line": {
             "colorbar": {
              "outlinewidth": 0,
              "ticks": ""
             }
            },
            "type": "parcoords"
           }
          ],
          "pie": [
           {
            "automargin": true,
            "type": "pie"
           }
          ],
          "scatter": [
           {
            "fillpattern": {
             "fillmode": "overlay",
             "size": 10,
             "solidity": 0.2
            },
            "type": "scatter"
           }
          ],
          "scatter3d": [
           {
            "line": {
             "colorbar": {
              "outlinewidth": 0,
              "ticks": ""
             }
            },
            "marker": {
             "colorbar": {
              "outlinewidth": 0,
              "ticks": ""
             }
            },
            "type": "scatter3d"
           }
          ],
          "scattercarpet": [
           {
            "marker": {
             "colorbar": {
              "outlinewidth": 0,
              "ticks": ""
             }
            },
            "type": "scattercarpet"
           }
          ],
          "scattergeo": [
           {
            "marker": {
             "colorbar": {
              "outlinewidth": 0,
              "ticks": ""
             }
            },
            "type": "scattergeo"
           }
          ],
          "scattergl": [
           {
            "marker": {
             "colorbar": {
              "outlinewidth": 0,
              "ticks": ""
             }
            },
            "type": "scattergl"
           }
          ],
          "scattermapbox": [
           {
            "marker": {
             "colorbar": {
              "outlinewidth": 0,
              "ticks": ""
             }
            },
            "type": "scattermapbox"
           }
          ],
          "scatterpolar": [
           {
            "marker": {
             "colorbar": {
              "outlinewidth": 0,
              "ticks": ""
             }
            },
            "type": "scatterpolar"
           }
          ],
          "scatterpolargl": [
           {
            "marker": {
             "colorbar": {
              "outlinewidth": 0,
              "ticks": ""
             }
            },
            "type": "scatterpolargl"
           }
          ],
          "scatterternary": [
           {
            "marker": {
             "colorbar": {
              "outlinewidth": 0,
              "ticks": ""
             }
            },
            "type": "scatterternary"
           }
          ],
          "surface": [
           {
            "colorbar": {
             "outlinewidth": 0,
             "ticks": ""
            },
            "colorscale": [
             [
              0,
              "#0d0887"
             ],
             [
              0.1111111111111111,
              "#46039f"
             ],
             [
              0.2222222222222222,
              "#7201a8"
             ],
             [
              0.3333333333333333,
              "#9c179e"
             ],
             [
              0.4444444444444444,
              "#bd3786"
             ],
             [
              0.5555555555555556,
              "#d8576b"
             ],
             [
              0.6666666666666666,
              "#ed7953"
             ],
             [
              0.7777777777777778,
              "#fb9f3a"
             ],
             [
              0.8888888888888888,
              "#fdca26"
             ],
             [
              1,
              "#f0f921"
             ]
            ],
            "type": "surface"
           }
          ],
          "table": [
           {
            "cells": {
             "fill": {
              "color": "#EBF0F8"
             },
             "line": {
              "color": "white"
             }
            },
            "header": {
             "fill": {
              "color": "#C8D4E3"
             },
             "line": {
              "color": "white"
             }
            },
            "type": "table"
           }
          ]
         },
         "layout": {
          "annotationdefaults": {
           "arrowcolor": "#2a3f5f",
           "arrowhead": 0,
           "arrowwidth": 1
          },
          "autotypenumbers": "strict",
          "coloraxis": {
           "colorbar": {
            "outlinewidth": 0,
            "ticks": ""
           }
          },
          "colorscale": {
           "diverging": [
            [
             0,
             "#8e0152"
            ],
            [
             0.1,
             "#c51b7d"
            ],
            [
             0.2,
             "#de77ae"
            ],
            [
             0.3,
             "#f1b6da"
            ],
            [
             0.4,
             "#fde0ef"
            ],
            [
             0.5,
             "#f7f7f7"
            ],
            [
             0.6,
             "#e6f5d0"
            ],
            [
             0.7,
             "#b8e186"
            ],
            [
             0.8,
             "#7fbc41"
            ],
            [
             0.9,
             "#4d9221"
            ],
            [
             1,
             "#276419"
            ]
           ],
           "sequential": [
            [
             0,
             "#0d0887"
            ],
            [
             0.1111111111111111,
             "#46039f"
            ],
            [
             0.2222222222222222,
             "#7201a8"
            ],
            [
             0.3333333333333333,
             "#9c179e"
            ],
            [
             0.4444444444444444,
             "#bd3786"
            ],
            [
             0.5555555555555556,
             "#d8576b"
            ],
            [
             0.6666666666666666,
             "#ed7953"
            ],
            [
             0.7777777777777778,
             "#fb9f3a"
            ],
            [
             0.8888888888888888,
             "#fdca26"
            ],
            [
             1,
             "#f0f921"
            ]
           ],
           "sequentialminus": [
            [
             0,
             "#0d0887"
            ],
            [
             0.1111111111111111,
             "#46039f"
            ],
            [
             0.2222222222222222,
             "#7201a8"
            ],
            [
             0.3333333333333333,
             "#9c179e"
            ],
            [
             0.4444444444444444,
             "#bd3786"
            ],
            [
             0.5555555555555556,
             "#d8576b"
            ],
            [
             0.6666666666666666,
             "#ed7953"
            ],
            [
             0.7777777777777778,
             "#fb9f3a"
            ],
            [
             0.8888888888888888,
             "#fdca26"
            ],
            [
             1,
             "#f0f921"
            ]
           ]
          },
          "colorway": [
           "#636efa",
           "#EF553B",
           "#00cc96",
           "#ab63fa",
           "#FFA15A",
           "#19d3f3",
           "#FF6692",
           "#B6E880",
           "#FF97FF",
           "#FECB52"
          ],
          "font": {
           "color": "#2a3f5f"
          },
          "geo": {
           "bgcolor": "white",
           "lakecolor": "white",
           "landcolor": "#E5ECF6",
           "showlakes": true,
           "showland": true,
           "subunitcolor": "white"
          },
          "hoverlabel": {
           "align": "left"
          },
          "hovermode": "closest",
          "mapbox": {
           "style": "light"
          },
          "paper_bgcolor": "white",
          "plot_bgcolor": "#E5ECF6",
          "polar": {
           "angularaxis": {
            "gridcolor": "white",
            "linecolor": "white",
            "ticks": ""
           },
           "bgcolor": "#E5ECF6",
           "radialaxis": {
            "gridcolor": "white",
            "linecolor": "white",
            "ticks": ""
           }
          },
          "scene": {
           "xaxis": {
            "backgroundcolor": "#E5ECF6",
            "gridcolor": "white",
            "gridwidth": 2,
            "linecolor": "white",
            "showbackground": true,
            "ticks": "",
            "zerolinecolor": "white"
           },
           "yaxis": {
            "backgroundcolor": "#E5ECF6",
            "gridcolor": "white",
            "gridwidth": 2,
            "linecolor": "white",
            "showbackground": true,
            "ticks": "",
            "zerolinecolor": "white"
           },
           "zaxis": {
            "backgroundcolor": "#E5ECF6",
            "gridcolor": "white",
            "gridwidth": 2,
            "linecolor": "white",
            "showbackground": true,
            "ticks": "",
            "zerolinecolor": "white"
           }
          },
          "shapedefaults": {
           "line": {
            "color": "#2a3f5f"
           }
          },
          "ternary": {
           "aaxis": {
            "gridcolor": "white",
            "linecolor": "white",
            "ticks": ""
           },
           "baxis": {
            "gridcolor": "white",
            "linecolor": "white",
            "ticks": ""
           },
           "bgcolor": "#E5ECF6",
           "caxis": {
            "gridcolor": "white",
            "linecolor": "white",
            "ticks": ""
           }
          },
          "title": {
           "x": 0.05
          },
          "xaxis": {
           "automargin": true,
           "gridcolor": "white",
           "linecolor": "white",
           "ticks": "",
           "title": {
            "standoff": 15
           },
           "zerolinecolor": "white",
           "zerolinewidth": 2
          },
          "yaxis": {
           "automargin": true,
           "gridcolor": "white",
           "linecolor": "white",
           "ticks": "",
           "title": {
            "standoff": 15
           },
           "zerolinecolor": "white",
           "zerolinewidth": 2
          }
         }
        }
       }
      },
      "text/html": [
       "<div>                            <div id=\"8bad94bf-8665-4bee-8b24-ef095accbc82\" class=\"plotly-graph-div\" style=\"height:525px; width:100%;\"></div>            <script type=\"text/javascript\">                require([\"plotly\"], function(Plotly) {                    window.PLOTLYENV=window.PLOTLYENV || {};                                    if (document.getElementById(\"8bad94bf-8665-4bee-8b24-ef095accbc82\")) {                    Plotly.newPlot(                        \"8bad94bf-8665-4bee-8b24-ef095accbc82\",                        [{\"branchvalues\":\"total\",\"domain\":{\"x\":[0.0,1.0],\"y\":[0.0,1.0]},\"hovertemplate\":\"labels=%{label}<br>Spesa media=%{value}<br>parent=%{parent}<br>id=%{id}<extra></extra>\",\"ids\":[\"ALL/1/2/Acque minerali, bevande analcoliche, succhi di frutta e verdura\",\"ALL/7/3/Acquisto di altri servizi di trasporto\",\"ALL/4/1/Affitti reali per l\\\"'abitazione principale\",\"ALL/2/1/Alcolici\",\"ALL/12/6/Altre assicurazioni\",\"ALL/4/1/Altri affitti reali\",\"ALL/12/6/Altri apparecchi non elettrici, articoli e prodotti per la cura della persona\",\"ALL/3/1/Altri articoli d\\\"'abbigliamento e accessori per l\\\"'abbigliamento\",\"ALL/12/6/Altri effetti personali\",\"ALL/4/2/Altri fitti imputati\",\"ALL/6/1/Altri prodotti medicali\",\"ALL/12/6/Altri servizi n.a.c.\",\"ALL/4/4/Altri servizi per l\\\"'abitazione n.a.c.\",\"ALL/7/2/Altri servizi relativi ai mezzi di trasporto privati\",\"ALL/9/3/Animali domestici e relativi prodotti\",\"ALL/9/1/Apparecchi di ricezione, registrazione e riproduzione di suoni e immagini\",\"ALL/12/6/Apparecchi elettrici per la cura della persona\",\"ALL/9/1/Apparecchi fotografici e cinematografici e strumenti ottici\",\"ALL/9/1/Apparecchi per il trattamento dell\\\"'informazione\",\"ALL/9/5/Articoli di cartoleria e materiale da disegno\",\"ALL/9/3/Articoli per giardinaggio, piante e fiori\",\"ALL/9/3/Articoli sportivi, per campeggio e attivit\\u00e0 ricreative all\\\"'aperto\",\"ALL/12/6/Assicurazione connessa all\\\"'abitazione\",\"ALL/12/6/Assicurazione sulla vita\",\"ALL/12/6/Assicurazioni\",\"ALL/12/6/Assicurazioni sui mezzi di trasporto\",\"ALL/12/6/Assistenza sociale\",\"ALL/6/1/Attrezzature ed apparecchi terapeutici\",\"ALL/7/1/Automobili\",\"ALL/12/6/Beni e servizi per la cura della persona\",\"ALL/5/6/Beni non durevoli per la casa\",\"ALL/7/1/Biciclette\",\"ALL/2/1/Birra\",\"ALL/1/2/Caff\\u00e8, t\\u00e8 e cacao\",\"ALL/7/2/Carburanti e lubrificanti per mezzi di trasporto privati\",\"ALL/1/1/Carni\",\"ALL/4/5/Combustibili solidi\",\"ALL/10/6/Corsi d\\\"'istruzione e di formazione\",\"ALL/12/6/Effetti personali n.a.c.\",\"ALL/4/5/Energia elettrica\",\"ALL/4/5/Energia termica\",\"ALL/4/2/Fitti imputati proprietari\",\"ALL/4/4/Fornitura acqua\",\"ALL/1/1/Frutta\",\"ALL/4/5/Gas\",\"ALL/4/5/Gasolio per riscaldamento\",\"ALL/9/3/Giochi, giocattoli e hobby\",\"ALL/9/4/Giochi, lotterie e scommesse\",\"ALL/12/6/Gioielleria ed orologeria\",\"ALL/9/5/Giornali e periodici\",\"ALL/5/3/Grandi apparecchi domestici elettrici e non\",\"ALL/5/5/Grandi utensili ed attrezzature per la casa ed il giardino\",\"ALL/3/1/Indumenti\",\"ALL/10/6/Istruzione secondaria\",\"ALL/10/6/Istruzione universitaria\",\"ALL/1/1/Latte, formaggi e uova\",\"ALL/9/5/Libri\",\"ALL/7/2/Manutenzione e riparazione mezzi di trasporto privati\",\"ALL/9/5/Materiale stampato vario\",\"ALL/4/3/Materiali per la riparazione e la manutenzione della casa\",\"ALL/11/6/Mense\",\"ALL/5/1/Mobili e arredi\",\"ALL/7/1/Motocicli e ciclomotori\",\"ALL/1/1/Oli e grassi\",\"ALL/1/1/Pane e cereali\",\"ALL/1/1/Pesci e prodotti ittici\",\"ALL/7/2/Pezzi di ricambio e accessori per mezzi di trasporto privati\",\"ALL/5/3/Piccoli elettrodomestici\",\"ALL/5/5/Piccoli utensili ed accessori vari\",\"ALL/1/1/Prodotti alimentari n.a.c.\",\"ALL/6/1/Prodotti farmaceutici\",\"ALL/4/4/Raccolta acque di scarico\",\"ALL/4/4/Raccolta rifiuti\",\"ALL/9/1/Riparazione di apparecchi audiovisivi, fotografici e informatici\",\"ALL/5/3/Riparazione di apparecchi per la casa\",\"ALL/3/2/Riparazione e noleggio calzature\",\"ALL/11/6/Ristoranti, bar e simili\",\"ALL/3/2/Scarpe ed altre calzature\",\"ALL/12/6/Servizi assicurativi connessi alla salute\",\"ALL/9/4/Servizi culturali\",\"ALL/6/2/Servizi dentistici\",\"ALL/11/6/Servizi di alloggio\",\"ALL/3/1/Servizi di lavanderia, riparazione e noleggio abiti\",\"ALL/12/6/Servizi di parrucchiere e trattamenti  di bellezza\",\"ALL/11/6/Servizi di ristorazione\",\"ALL/12/6/Servizi finanziari n.a.c.\",\"ALL/6/2/Servizi medici\",\"ALL/6/2/Servizi paramedici\",\"ALL/5/6/Servizi per la pulizia e la manutenzione della casa\",\"ALL/4/3/Servizi per la riparazione e manutenzione della casa\",\"ALL/9/4/Servizi ricreativi e sportivi\",\"ALL/9/3/Servizi veterinari e altri servizi per animali domestici\",\"ALL/9/2/Strumenti musicali e beni durevoli per ricreazione al coperto\",\"ALL/9/1/Supporti di registrazione\",\"ALL/5/1/Tappeti e altri rivestimenti per pavimenti\",\"ALL/7/3/Trasporto aereo passeggeri\",\"ALL/7/3/Trasporto marittimo e per vie d\\\"'acqua interne\",\"ALL/7/3/Trasporto multimodale passeggeri\",\"ALL/7/3/Trasporto passeggeri su rotaia\",\"ALL/7/3/Trasporto passeggeri su strada\",\"ALL/1/1/Vegetali\",\"ALL/2/1/Vini\",\"ALL/1/1/Zucchero, confetture, miele, cioccolato e dolciumi\",\"ALL/1/1\",\"ALL/2/1\",\"ALL/3/1\",\"ALL/4/1\",\"ALL/5/1\",\"ALL/6/1\",\"ALL/7/1\",\"ALL/9/1\",\"ALL/1/2\",\"ALL/3/2\",\"ALL/4/2\",\"ALL/6/2\",\"ALL/7/2\",\"ALL/9/2\",\"ALL/4/3\",\"ALL/5/3\",\"ALL/7/3\",\"ALL/9/3\",\"ALL/4/4\",\"ALL/9/4\",\"ALL/4/5\",\"ALL/5/5\",\"ALL/9/5\",\"ALL/10/6\",\"ALL/11/6\",\"ALL/12/6\",\"ALL/5/6\",\"ALL/1\",\"ALL/10\",\"ALL/11\",\"ALL/12\",\"ALL/2\",\"ALL/3\",\"ALL/4\",\"ALL/5\",\"ALL/6\",\"ALL/7\",\"ALL/9\",\"ALL\"],\"labels\":[\"Acque minerali, bevande analcoliche, succhi di frutta e verdura\",\"Acquisto di altri servizi di trasporto\",\"Affitti reali per l\\\"'abitazione principale\",\"Alcolici\",\"Altre assicurazioni\",\"Altri affitti reali\",\"Altri apparecchi non elettrici, articoli e prodotti per la cura della persona\",\"Altri articoli d\\\"'abbigliamento e accessori per l\\\"'abbigliamento\",\"Altri effetti personali\",\"Altri fitti imputati\",\"Altri prodotti medicali\",\"Altri servizi n.a.c.\",\"Altri servizi per l\\\"'abitazione n.a.c.\",\"Altri servizi relativi ai mezzi di trasporto privati\",\"Animali domestici e relativi prodotti\",\"Apparecchi di ricezione, registrazione e riproduzione di suoni e immagini\",\"Apparecchi elettrici per la cura della persona\",\"Apparecchi fotografici e cinematografici e strumenti ottici\",\"Apparecchi per il trattamento dell\\\"'informazione\",\"Articoli di cartoleria e materiale da disegno\",\"Articoli per giardinaggio, piante e fiori\",\"Articoli sportivi, per campeggio e attivit\\u00e0 ricreative all\\\"'aperto\",\"Assicurazione connessa all\\\"'abitazione\",\"Assicurazione sulla vita\",\"Assicurazioni\",\"Assicurazioni sui mezzi di trasporto\",\"Assistenza sociale\",\"Attrezzature ed apparecchi terapeutici\",\"Automobili\",\"Beni e servizi per la cura della persona\",\"Beni non durevoli per la casa\",\"Biciclette\",\"Birra\",\"Caff\\u00e8, t\\u00e8 e cacao\",\"Carburanti e lubrificanti per mezzi di trasporto privati\",\"Carni\",\"Combustibili solidi\",\"Corsi d\\\"'istruzione e di formazione\",\"Effetti personali n.a.c.\",\"Energia elettrica\",\"Energia termica\",\"Fitti imputati proprietari\",\"Fornitura acqua\",\"Frutta\",\"Gas\",\"Gasolio per riscaldamento\",\"Giochi, giocattoli e hobby\",\"Giochi, lotterie e scommesse\",\"Gioielleria ed orologeria\",\"Giornali e periodici\",\"Grandi apparecchi domestici elettrici e non\",\"Grandi utensili ed attrezzature per la casa ed il giardino\",\"Indumenti\",\"Istruzione secondaria\",\"Istruzione universitaria\",\"Latte, formaggi e uova\",\"Libri\",\"Manutenzione e riparazione mezzi di trasporto privati\",\"Materiale stampato vario\",\"Materiali per la riparazione e la manutenzione della casa\",\"Mense\",\"Mobili e arredi\",\"Motocicli e ciclomotori\",\"Oli e grassi\",\"Pane e cereali\",\"Pesci e prodotti ittici\",\"Pezzi di ricambio e accessori per mezzi di trasporto privati\",\"Piccoli elettrodomestici\",\"Piccoli utensili ed accessori vari\",\"Prodotti alimentari n.a.c.\",\"Prodotti farmaceutici\",\"Raccolta acque di scarico\",\"Raccolta rifiuti\",\"Riparazione di apparecchi audiovisivi, fotografici e informatici\",\"Riparazione di apparecchi per la casa\",\"Riparazione e noleggio calzature\",\"Ristoranti, bar e simili\",\"Scarpe ed altre calzature\",\"Servizi assicurativi connessi alla salute\",\"Servizi culturali\",\"Servizi dentistici\",\"Servizi di alloggio\",\"Servizi di lavanderia, riparazione e noleggio abiti\",\"Servizi di parrucchiere e trattamenti  di bellezza\",\"Servizi di ristorazione\",\"Servizi finanziari n.a.c.\",\"Servizi medici\",\"Servizi paramedici\",\"Servizi per la pulizia e la manutenzione della casa\",\"Servizi per la riparazione e manutenzione della casa\",\"Servizi ricreativi e sportivi\",\"Servizi veterinari e altri servizi per animali domestici\",\"Strumenti musicali e beni durevoli per ricreazione al coperto\",\"Supporti di registrazione\",\"Tappeti e altri rivestimenti per pavimenti\",\"Trasporto aereo passeggeri\",\"Trasporto marittimo e per vie d\\\"'acqua interne\",\"Trasporto multimodale passeggeri\",\"Trasporto passeggeri su rotaia\",\"Trasporto passeggeri su strada\",\"Vegetali\",\"Vini\",\"Zucchero, confetture, miele, cioccolato e dolciumi\",\"1\",\"1\",\"1\",\"1\",\"1\",\"1\",\"1\",\"1\",\"2\",\"2\",\"2\",\"2\",\"2\",\"2\",\"3\",\"3\",\"3\",\"3\",\"4\",\"4\",\"5\",\"5\",\"5\",\"6\",\"6\",\"6\",\"6\",\"1\",\"10\",\"11\",\"12\",\"2\",\"3\",\"4\",\"5\",\"6\",\"7\",\"9\",\"ALL\"],\"name\":\"\",\"parents\":[\"ALL/1/2\",\"ALL/7/3\",\"ALL/4/1\",\"ALL/2/1\",\"ALL/12/6\",\"ALL/4/1\",\"ALL/12/6\",\"ALL/3/1\",\"ALL/12/6\",\"ALL/4/2\",\"ALL/6/1\",\"ALL/12/6\",\"ALL/4/4\",\"ALL/7/2\",\"ALL/9/3\",\"ALL/9/1\",\"ALL/12/6\",\"ALL/9/1\",\"ALL/9/1\",\"ALL/9/5\",\"ALL/9/3\",\"ALL/9/3\",\"ALL/12/6\",\"ALL/12/6\",\"ALL/12/6\",\"ALL/12/6\",\"ALL/12/6\",\"ALL/6/1\",\"ALL/7/1\",\"ALL/12/6\",\"ALL/5/6\",\"ALL/7/1\",\"ALL/2/1\",\"ALL/1/2\",\"ALL/7/2\",\"ALL/1/1\",\"ALL/4/5\",\"ALL/10/6\",\"ALL/12/6\",\"ALL/4/5\",\"ALL/4/5\",\"ALL/4/2\",\"ALL/4/4\",\"ALL/1/1\",\"ALL/4/5\",\"ALL/4/5\",\"ALL/9/3\",\"ALL/9/4\",\"ALL/12/6\",\"ALL/9/5\",\"ALL/5/3\",\"ALL/5/5\",\"ALL/3/1\",\"ALL/10/6\",\"ALL/10/6\",\"ALL/1/1\",\"ALL/9/5\",\"ALL/7/2\",\"ALL/9/5\",\"ALL/4/3\",\"ALL/11/6\",\"ALL/5/1\",\"ALL/7/1\",\"ALL/1/1\",\"ALL/1/1\",\"ALL/1/1\",\"ALL/7/2\",\"ALL/5/3\",\"ALL/5/5\",\"ALL/1/1\",\"ALL/6/1\",\"ALL/4/4\",\"ALL/4/4\",\"ALL/9/1\",\"ALL/5/3\",\"ALL/3/2\",\"ALL/11/6\",\"ALL/3/2\",\"ALL/12/6\",\"ALL/9/4\",\"ALL/6/2\",\"ALL/11/6\",\"ALL/3/1\",\"ALL/12/6\",\"ALL/11/6\",\"ALL/12/6\",\"ALL/6/2\",\"ALL/6/2\",\"ALL/5/6\",\"ALL/4/3\",\"ALL/9/4\",\"ALL/9/3\",\"ALL/9/2\",\"ALL/9/1\",\"ALL/5/1\",\"ALL/7/3\",\"ALL/7/3\",\"ALL/7/3\",\"ALL/7/3\",\"ALL/7/3\",\"ALL/1/1\",\"ALL/2/1\",\"ALL/1/1\",\"ALL/1\",\"ALL/2\",\"ALL/3\",\"ALL/4\",\"ALL/5\",\"ALL/6\",\"ALL/7\",\"ALL/9\",\"ALL/1\",\"ALL/3\",\"ALL/4\",\"ALL/6\",\"ALL/7\",\"ALL/9\",\"ALL/4\",\"ALL/5\",\"ALL/7\",\"ALL/9\",\"ALL/4\",\"ALL/9\",\"ALL/4\",\"ALL/5\",\"ALL/9\",\"ALL/10\",\"ALL/11\",\"ALL/12\",\"ALL/5\",\"ALL\",\"ALL\",\"ALL\",\"ALL\",\"ALL\",\"ALL\",\"ALL\",\"ALL\",\"ALL\",\"ALL\",\"ALL\",\"\"],\"values\":[13.83,0.41,78.99,1.92,1.19,2.26,18.2,1.78,2.89,99.14,4.25,22.16,47.2,8.01,7.48,1.62,0.52,0.18,2.05,1.76,6.06,2.05,4.04,3.93,37.16,25.76,2.74,6.65,36.29,39.4,20.0,0.8,3.88,9.39,50.06,60.29,3.54,1.09,5.01,39.09,1.11,437.5,10.38,30.06,42.31,1.14,2.95,1.64,2.12,3.76,7.08,0.27,29.66,0.17,1.75,39.95,4.62,9.4,0.2,0.8,0.6,12.64,1.59,10.11,47.45,24.7,8.13,2.8,4.9,7.62,35.19,0.16,13.57,0.05,0.17,0.42,48.42,10.41,2.23,7.01,15.65,5.47,2.93,20.68,49.02,0.94,9.87,5.85,26.97,7.23,6.6,2.14,0.18,0.57,0.41,1.96,0.16,0.89,2.92,1.85,44.01,10.62,10.98,275.17,16.419999999999998,34.37,81.25,13.05,46.089999999999996,38.68,4.47,23.22,10.83,536.64,31.369999999999997,75.60000000000001,0.18,8.030000000000001,10.05,8.19,20.68,71.31,15.25,87.19000000000001,5.17,10.34,3.01,103.51,188.97,46.97,298.39,3.01,103.51,188.97,16.419999999999998,45.2,784.42,75.24000000000001,77.46,122.47,50.92,1766.01],\"type\":\"treemap\"}],                        {\"template\":{\"data\":{\"histogram2dcontour\":[{\"type\":\"histogram2dcontour\",\"colorbar\":{\"outlinewidth\":0,\"ticks\":\"\"},\"colorscale\":[[0.0,\"#0d0887\"],[0.1111111111111111,\"#46039f\"],[0.2222222222222222,\"#7201a8\"],[0.3333333333333333,\"#9c179e\"],[0.4444444444444444,\"#bd3786\"],[0.5555555555555556,\"#d8576b\"],[0.6666666666666666,\"#ed7953\"],[0.7777777777777778,\"#fb9f3a\"],[0.8888888888888888,\"#fdca26\"],[1.0,\"#f0f921\"]]}],\"choropleth\":[{\"type\":\"choropleth\",\"colorbar\":{\"outlinewidth\":0,\"ticks\":\"\"}}],\"histogram2d\":[{\"type\":\"histogram2d\",\"colorbar\":{\"outlinewidth\":0,\"ticks\":\"\"},\"colorscale\":[[0.0,\"#0d0887\"],[0.1111111111111111,\"#46039f\"],[0.2222222222222222,\"#7201a8\"],[0.3333333333333333,\"#9c179e\"],[0.4444444444444444,\"#bd3786\"],[0.5555555555555556,\"#d8576b\"],[0.6666666666666666,\"#ed7953\"],[0.7777777777777778,\"#fb9f3a\"],[0.8888888888888888,\"#fdca26\"],[1.0,\"#f0f921\"]]}],\"heatmap\":[{\"type\":\"heatmap\",\"colorbar\":{\"outlinewidth\":0,\"ticks\":\"\"},\"colorscale\":[[0.0,\"#0d0887\"],[0.1111111111111111,\"#46039f\"],[0.2222222222222222,\"#7201a8\"],[0.3333333333333333,\"#9c179e\"],[0.4444444444444444,\"#bd3786\"],[0.5555555555555556,\"#d8576b\"],[0.6666666666666666,\"#ed7953\"],[0.7777777777777778,\"#fb9f3a\"],[0.8888888888888888,\"#fdca26\"],[1.0,\"#f0f921\"]]}],\"heatmapgl\":[{\"type\":\"heatmapgl\",\"colorbar\":{\"outlinewidth\":0,\"ticks\":\"\"},\"colorscale\":[[0.0,\"#0d0887\"],[0.1111111111111111,\"#46039f\"],[0.2222222222222222,\"#7201a8\"],[0.3333333333333333,\"#9c179e\"],[0.4444444444444444,\"#bd3786\"],[0.5555555555555556,\"#d8576b\"],[0.6666666666666666,\"#ed7953\"],[0.7777777777777778,\"#fb9f3a\"],[0.8888888888888888,\"#fdca26\"],[1.0,\"#f0f921\"]]}],\"contourcarpet\":[{\"type\":\"contourcarpet\",\"colorbar\":{\"outlinewidth\":0,\"ticks\":\"\"}}],\"contour\":[{\"type\":\"contour\",\"colorbar\":{\"outlinewidth\":0,\"ticks\":\"\"},\"colorscale\":[[0.0,\"#0d0887\"],[0.1111111111111111,\"#46039f\"],[0.2222222222222222,\"#7201a8\"],[0.3333333333333333,\"#9c179e\"],[0.4444444444444444,\"#bd3786\"],[0.5555555555555556,\"#d8576b\"],[0.6666666666666666,\"#ed7953\"],[0.7777777777777778,\"#fb9f3a\"],[0.8888888888888888,\"#fdca26\"],[1.0,\"#f0f921\"]]}],\"surface\":[{\"type\":\"surface\",\"colorbar\":{\"outlinewidth\":0,\"ticks\":\"\"},\"colorscale\":[[0.0,\"#0d0887\"],[0.1111111111111111,\"#46039f\"],[0.2222222222222222,\"#7201a8\"],[0.3333333333333333,\"#9c179e\"],[0.4444444444444444,\"#bd3786\"],[0.5555555555555556,\"#d8576b\"],[0.6666666666666666,\"#ed7953\"],[0.7777777777777778,\"#fb9f3a\"],[0.8888888888888888,\"#fdca26\"],[1.0,\"#f0f921\"]]}],\"mesh3d\":[{\"type\":\"mesh3d\",\"colorbar\":{\"outlinewidth\":0,\"ticks\":\"\"}}],\"scatter\":[{\"fillpattern\":{\"fillmode\":\"overlay\",\"size\":10,\"solidity\":0.2},\"type\":\"scatter\"}],\"parcoords\":[{\"type\":\"parcoords\",\"line\":{\"colorbar\":{\"outlinewidth\":0,\"ticks\":\"\"}}}],\"scatterpolargl\":[{\"type\":\"scatterpolargl\",\"marker\":{\"colorbar\":{\"outlinewidth\":0,\"ticks\":\"\"}}}],\"bar\":[{\"error_x\":{\"color\":\"#2a3f5f\"},\"error_y\":{\"color\":\"#2a3f5f\"},\"marker\":{\"line\":{\"color\":\"#E5ECF6\",\"width\":0.5},\"pattern\":{\"fillmode\":\"overlay\",\"size\":10,\"solidity\":0.2}},\"type\":\"bar\"}],\"scattergeo\":[{\"type\":\"scattergeo\",\"marker\":{\"colorbar\":{\"outlinewidth\":0,\"ticks\":\"\"}}}],\"scatterpolar\":[{\"type\":\"scatterpolar\",\"marker\":{\"colorbar\":{\"outlinewidth\":0,\"ticks\":\"\"}}}],\"histogram\":[{\"marker\":{\"pattern\":{\"fillmode\":\"overlay\",\"size\":10,\"solidity\":0.2}},\"type\":\"histogram\"}],\"scattergl\":[{\"type\":\"scattergl\",\"marker\":{\"colorbar\":{\"outlinewidth\":0,\"ticks\":\"\"}}}],\"scatter3d\":[{\"type\":\"scatter3d\",\"line\":{\"colorbar\":{\"outlinewidth\":0,\"ticks\":\"\"}},\"marker\":{\"colorbar\":{\"outlinewidth\":0,\"ticks\":\"\"}}}],\"scattermapbox\":[{\"type\":\"scattermapbox\",\"marker\":{\"colorbar\":{\"outlinewidth\":0,\"ticks\":\"\"}}}],\"scatterternary\":[{\"type\":\"scatterternary\",\"marker\":{\"colorbar\":{\"outlinewidth\":0,\"ticks\":\"\"}}}],\"scattercarpet\":[{\"type\":\"scattercarpet\",\"marker\":{\"colorbar\":{\"outlinewidth\":0,\"ticks\":\"\"}}}],\"carpet\":[{\"aaxis\":{\"endlinecolor\":\"#2a3f5f\",\"gridcolor\":\"white\",\"linecolor\":\"white\",\"minorgridcolor\":\"white\",\"startlinecolor\":\"#2a3f5f\"},\"baxis\":{\"endlinecolor\":\"#2a3f5f\",\"gridcolor\":\"white\",\"linecolor\":\"white\",\"minorgridcolor\":\"white\",\"startlinecolor\":\"#2a3f5f\"},\"type\":\"carpet\"}],\"table\":[{\"cells\":{\"fill\":{\"color\":\"#EBF0F8\"},\"line\":{\"color\":\"white\"}},\"header\":{\"fill\":{\"color\":\"#C8D4E3\"},\"line\":{\"color\":\"white\"}},\"type\":\"table\"}],\"barpolar\":[{\"marker\":{\"line\":{\"color\":\"#E5ECF6\",\"width\":0.5},\"pattern\":{\"fillmode\":\"overlay\",\"size\":10,\"solidity\":0.2}},\"type\":\"barpolar\"}],\"pie\":[{\"automargin\":true,\"type\":\"pie\"}]},\"layout\":{\"autotypenumbers\":\"strict\",\"colorway\":[\"#636efa\",\"#EF553B\",\"#00cc96\",\"#ab63fa\",\"#FFA15A\",\"#19d3f3\",\"#FF6692\",\"#B6E880\",\"#FF97FF\",\"#FECB52\"],\"font\":{\"color\":\"#2a3f5f\"},\"hovermode\":\"closest\",\"hoverlabel\":{\"align\":\"left\"},\"paper_bgcolor\":\"white\",\"plot_bgcolor\":\"#E5ECF6\",\"polar\":{\"bgcolor\":\"#E5ECF6\",\"angularaxis\":{\"gridcolor\":\"white\",\"linecolor\":\"white\",\"ticks\":\"\"},\"radialaxis\":{\"gridcolor\":\"white\",\"linecolor\":\"white\",\"ticks\":\"\"}},\"ternary\":{\"bgcolor\":\"#E5ECF6\",\"aaxis\":{\"gridcolor\":\"white\",\"linecolor\":\"white\",\"ticks\":\"\"},\"baxis\":{\"gridcolor\":\"white\",\"linecolor\":\"white\",\"ticks\":\"\"},\"caxis\":{\"gridcolor\":\"white\",\"linecolor\":\"white\",\"ticks\":\"\"}},\"coloraxis\":{\"colorbar\":{\"outlinewidth\":0,\"ticks\":\"\"}},\"colorscale\":{\"sequential\":[[0.0,\"#0d0887\"],[0.1111111111111111,\"#46039f\"],[0.2222222222222222,\"#7201a8\"],[0.3333333333333333,\"#9c179e\"],[0.4444444444444444,\"#bd3786\"],[0.5555555555555556,\"#d8576b\"],[0.6666666666666666,\"#ed7953\"],[0.7777777777777778,\"#fb9f3a\"],[0.8888888888888888,\"#fdca26\"],[1.0,\"#f0f921\"]],\"sequentialminus\":[[0.0,\"#0d0887\"],[0.1111111111111111,\"#46039f\"],[0.2222222222222222,\"#7201a8\"],[0.3333333333333333,\"#9c179e\"],[0.4444444444444444,\"#bd3786\"],[0.5555555555555556,\"#d8576b\"],[0.6666666666666666,\"#ed7953\"],[0.7777777777777778,\"#fb9f3a\"],[0.8888888888888888,\"#fdca26\"],[1.0,\"#f0f921\"]],\"diverging\":[[0,\"#8e0152\"],[0.1,\"#c51b7d\"],[0.2,\"#de77ae\"],[0.3,\"#f1b6da\"],[0.4,\"#fde0ef\"],[0.5,\"#f7f7f7\"],[0.6,\"#e6f5d0\"],[0.7,\"#b8e186\"],[0.8,\"#7fbc41\"],[0.9,\"#4d9221\"],[1,\"#276419\"]]},\"xaxis\":{\"gridcolor\":\"white\",\"linecolor\":\"white\",\"ticks\":\"\",\"title\":{\"standoff\":15},\"zerolinecolor\":\"white\",\"automargin\":true,\"zerolinewidth\":2},\"yaxis\":{\"gridcolor\":\"white\",\"linecolor\":\"white\",\"ticks\":\"\",\"title\":{\"standoff\":15},\"zerolinecolor\":\"white\",\"automargin\":true,\"zerolinewidth\":2},\"scene\":{\"xaxis\":{\"backgroundcolor\":\"#E5ECF6\",\"gridcolor\":\"white\",\"linecolor\":\"white\",\"showbackground\":true,\"ticks\":\"\",\"zerolinecolor\":\"white\",\"gridwidth\":2},\"yaxis\":{\"backgroundcolor\":\"#E5ECF6\",\"gridcolor\":\"white\",\"linecolor\":\"white\",\"showbackground\":true,\"ticks\":\"\",\"zerolinecolor\":\"white\",\"gridwidth\":2},\"zaxis\":{\"backgroundcolor\":\"#E5ECF6\",\"gridcolor\":\"white\",\"linecolor\":\"white\",\"showbackground\":true,\"ticks\":\"\",\"zerolinecolor\":\"white\",\"gridwidth\":2}},\"shapedefaults\":{\"line\":{\"color\":\"#2a3f5f\"}},\"annotationdefaults\":{\"arrowcolor\":\"#2a3f5f\",\"arrowhead\":0,\"arrowwidth\":1},\"geo\":{\"bgcolor\":\"white\",\"landcolor\":\"#E5ECF6\",\"subunitcolor\":\"white\",\"showland\":true,\"showlakes\":true,\"lakecolor\":\"white\"},\"title\":{\"x\":0.05},\"mapbox\":{\"style\":\"light\"}}},\"legend\":{\"tracegroupgap\":0},\"margin\":{\"t\":60}},                        {\"responsive\": true}                    ).then(function(){\n",
       "                            \n",
       "var gd = document.getElementById('8bad94bf-8665-4bee-8b24-ef095accbc82');\n",
       "var x = new MutationObserver(function (mutations, observer) {{\n",
       "        var display = window.getComputedStyle(gd).display;\n",
       "        if (!display || display === 'none') {{\n",
       "            console.log([gd, 'removed!']);\n",
       "            Plotly.purge(gd);\n",
       "            observer.disconnect();\n",
       "        }}\n",
       "}});\n",
       "\n",
       "// Listen for the removal of the full notebook cells\n",
       "var notebookContainer = gd.closest('#notebook-container');\n",
       "if (notebookContainer) {{\n",
       "    x.observe(notebookContainer, {childList: true});\n",
       "}}\n",
       "\n",
       "// Listen for the clearing of the current output cell\n",
       "var outputEl = gd.closest('.output');\n",
       "if (outputEl) {{\n",
       "    x.observe(outputEl, {childList: true});\n",
       "}}\n",
       "\n",
       "                        })                };                });            </script>        </div>"
      ]
     },
     "metadata": {},
     "output_type": "display_data"
    }
   ],
   "source": [
    "mask = df[(df['componenti'] == '1') & (df['Anno'] == 2020) & (df['Territorio']=='Italia')]\n",
    "dff = mask.groupby(by=[\"Root\", \"First_level\", \"Second_level\", \"Coicop (DESC)\"]).sum('Spesa media').reset_index()\n",
    "fig = px.treemap(\n",
    "    dff, path=[px.Constant(\"ALL\"), \"Root\", \"First_level\", \"Coicop (DESC)\"], \n",
    "    values='Spesa media', labels={\n",
    "            'ALL': 'All',\n",
    "            'Root': 'Coicop (DESC)',\n",
    "            'First_level': 'Coicop (DESC)',\n",
    "            'Second_level': 'Coicop (DESC)'\n",
    "        },\n",
    ")\n",
    "\n",
    "fig.show()"
   ]
  },
  {
   "cell_type": "code",
   "execution_count": 60,
   "metadata": {},
   "outputs": [],
   "source": [
    "df.loc[df['COICOP'] == 'NON_FOOD', 'Root'] = 'Non alimenti'\n",
    "df.loc[((df['COICOP'].str.len() <= 2) & (df['Coicop (DESC)'].str.startswith(\"--\"))) | (df['COICOP'] == 'ALL'), 'Root'] = df['Coicop (DESC)']\n",
    "\n",
    "##first level\n",
    "df.loc[((df['COICOP'].str.len() == 2) & (df['Root'].isna())) |\n",
    "    ((df['COICOP'].str.len() == 2) & (df['COICOP'].isin([111, 112])) \n",
    "     & (df['Coicop (DESC)'].isin(['Pane e cereali', 'Carni']))), 'First_level'] = df['Coicop (DESC)']#.apply(lambda x: x[-1])\n",
    "\n",
    "##second level\n",
    "df.loc[((df['COICOP'].str.len() == 3) & (df['First_level'].isna()) & (df['Root'].isna())) |\n",
    "       ((df['COICOP'].str.len() == 4)), 'Second_level'] = df['Coicop (DESC)']#.apply(lambda x: x[-1])\n",
    "\n",
    "#fill the gaps\n",
    "mask = df['Root'].isna()\n",
    "df['Root'] = df['Root'].fillna(method='ffill')\n",
    "df.loc[mask, 'First_level'] = df['First_level'].fillna(method='ffill')"
   ]
  },
  {
   "cell_type": "code",
   "execution_count": 63,
   "metadata": {},
   "outputs": [
    {
     "data": {
      "text/plain": [
       "array(['-- prodotti alimentari e bevande analcoliche', 'Non alimenti',\n",
       "       '-- bevande alcoliche e tabacchi', '-- abbigliamento e calzature',\n",
       "       '-- abitazione, acqua, elettricità, gas e altri combustibili',\n",
       "       '-- mobili, articoli e servizi per la casa',\n",
       "       '-- servizi sanitari e spese per la salute', '-- trasporti',\n",
       "       '-- comunicazioni', '-- ricreazione, spettacoli e cultura',\n",
       "       '-- istruzione', '-- servizi ricettivi e di ristorazione',\n",
       "       '-- altri beni e servizi', 'Totale'], dtype=object)"
      ]
     },
     "metadata": {},
     "output_type": "display_data"
    }
   ],
   "source": [
    "display(df['Root'].unique())"
   ]
  },
  {
   "cell_type": "code",
   "execution_count": 70,
   "metadata": {},
   "outputs": [
    {
     "data": {
      "application/vnd.plotly.v1+json": {
       "config": {
        "plotlyServerURL": "https://plot.ly"
       },
       "data": [
        {
         "branchvalues": "total",
         "domain": {
          "x": [
           0,
           1
          ],
          "y": [
           0,
           1
          ]
         },
         "hovertemplate": "labels=%{label}<br>Spesa media=%{value}<br>parent=%{parent}<br>Coicop (DESC)=%{id}<extra></extra>",
         "ids": [
          "ALL/-- prodotti alimentari e bevande analcoliche/Bevande analcoliche/Acque minerali, bevande analcoliche, succhi di frutta e verdura",
          "ALL/-- trasporti/Servizi di trasporto/Acquisto di altri servizi di trasporto",
          "ALL/-- abitazione, acqua, elettricità, gas e altri combustibili/Affitti reali per abitazione/Affitti reali per l\"'abitazione principale",
          "ALL/-- bevande alcoliche e tabacchi/Bevande alcoliche/Alcolici",
          "ALL/-- altri beni e servizi/Pacchetti vacanza/Altre assicurazioni",
          "ALL/-- abitazione, acqua, elettricità, gas e altri combustibili/Affitti reali per abitazione/Altri affitti reali",
          "ALL/-- altri beni e servizi/Pacchetti vacanza/Altri apparecchi non elettrici, articoli e prodotti per la cura della persona",
          "ALL/-- abbigliamento e calzature/Abbigliamento/Altri articoli d\"'abbigliamento e accessori per l\"'abbigliamento",
          "ALL/-- altri beni e servizi/Pacchetti vacanza/Altri effetti personali",
          "ALL/-- abitazione, acqua, elettricità, gas e altri combustibili/Fitti imputati per abitazione/Altri fitti imputati",
          "ALL/-- servizi sanitari e spese per la salute/Medicinali, prodotti farmaceutici, attrezzature e apparecchiature medicali/Altri prodotti medicali",
          "ALL/-- altri beni e servizi/Pacchetti vacanza/Altri servizi n.a.c.",
          "ALL/-- abitazione, acqua, elettricità, gas e altri combustibili/Fornitura acqua e servizi vari connessi all\"'abitazione/Altri servizi per l\"'abitazione n.a.c.",
          "ALL/-- trasporti/Spese di esercizio mezzi di trasporto/Altri servizi relativi ai mezzi di trasporto privati",
          "ALL/-- ricreazione, spettacoli e cultura/Altri articoli e attrezzature per attività ricreative, giardinaggio e animali/Animali domestici e relativi prodotti",
          "ALL/-- ricreazione, spettacoli e cultura/Apparecchi audiovisivi, fotografici e informatici/Apparecchi di ricezione, registrazione e riproduzione di suoni e immagini",
          "ALL/-- altri beni e servizi/Pacchetti vacanza/Apparecchi elettrici per la cura della persona",
          "ALL/-- ricreazione, spettacoli e cultura/Apparecchi audiovisivi, fotografici e informatici/Apparecchi fotografici e cinematografici e strumenti ottici",
          "ALL/-- ricreazione, spettacoli e cultura/Apparecchi audiovisivi, fotografici e informatici/Apparecchi per il trattamento dell\"'informazione",
          "ALL/-- ricreazione, spettacoli e cultura/Giornali, libri e articoli di cartoleria/Articoli di cartoleria e materiale da disegno",
          "ALL/-- ricreazione, spettacoli e cultura/Altri articoli e attrezzature per attività ricreative, giardinaggio e animali/Articoli per giardinaggio, piante e fiori",
          "ALL/-- ricreazione, spettacoli e cultura/Altri articoli e attrezzature per attività ricreative, giardinaggio e animali/Articoli sportivi, per campeggio e attività ricreative all\"'aperto",
          "ALL/-- altri beni e servizi/Pacchetti vacanza/Assicurazione connessa all\"'abitazione",
          "ALL/-- altri beni e servizi/Pacchetti vacanza/Assicurazione sulla vita",
          "ALL/-- altri beni e servizi/Pacchetti vacanza/Assicurazioni",
          "ALL/-- altri beni e servizi/Pacchetti vacanza/Assicurazioni sui mezzi di trasporto",
          "ALL/-- altri beni e servizi/Pacchetti vacanza/Assistenza sociale",
          "ALL/-- servizi sanitari e spese per la salute/Medicinali, prodotti farmaceutici, attrezzature e apparecchiature medicali/Attrezzature ed apparecchi terapeutici",
          "ALL/-- trasporti/Acquisto mezzi di trasporto/Automobili",
          "ALL/-- altri beni e servizi/Pacchetti vacanza/Beni e servizi per la cura della persona",
          "ALL/-- mobili, articoli e servizi per la casa/Beni e servizi per la manutenzione ordinaria della casa/Beni non durevoli per la casa",
          "ALL/-- trasporti/Acquisto mezzi di trasporto/Biciclette",
          "ALL/-- bevande alcoliche e tabacchi/Bevande alcoliche/Birra",
          "ALL/-- prodotti alimentari e bevande analcoliche/Bevande analcoliche/Caffè, tè e cacao",
          "ALL/-- trasporti/Spese di esercizio mezzi di trasporto/Carburanti e lubrificanti per mezzi di trasporto privati",
          "ALL/-- prodotti alimentari e bevande analcoliche/Prodotti alimentari/Carni",
          "ALL/-- abitazione, acqua, elettricità, gas e altri combustibili/Energia elettrica, gas e altri combustibili/Combustibili solidi",
          "ALL/-- istruzione/Pacchetti vacanza/Corsi d\"'istruzione e di formazione",
          "ALL/-- altri beni e servizi/Pacchetti vacanza/Effetti personali n.a.c.",
          "ALL/-- abitazione, acqua, elettricità, gas e altri combustibili/Energia elettrica, gas e altri combustibili/Energia elettrica",
          "ALL/-- abitazione, acqua, elettricità, gas e altri combustibili/Energia elettrica, gas e altri combustibili/Energia termica",
          "ALL/-- abitazione, acqua, elettricità, gas e altri combustibili/Fitti imputati per abitazione/Fitti imputati proprietari",
          "ALL/-- abitazione, acqua, elettricità, gas e altri combustibili/Fornitura acqua e servizi vari connessi all\"'abitazione/Fornitura acqua",
          "ALL/-- prodotti alimentari e bevande analcoliche/Prodotti alimentari/Frutta",
          "ALL/-- abitazione, acqua, elettricità, gas e altri combustibili/Energia elettrica, gas e altri combustibili/Gas",
          "ALL/-- abitazione, acqua, elettricità, gas e altri combustibili/Energia elettrica, gas e altri combustibili/Gasolio per riscaldamento",
          "ALL/-- ricreazione, spettacoli e cultura/Altri articoli e attrezzature per attività ricreative, giardinaggio e animali/Giochi, giocattoli e hobby",
          "ALL/-- ricreazione, spettacoli e cultura/Servizi ricreativi e culturali/Giochi, lotterie e scommesse",
          "ALL/-- altri beni e servizi/Pacchetti vacanza/Gioielleria ed orologeria",
          "ALL/-- ricreazione, spettacoli e cultura/Giornali, libri e articoli di cartoleria/Giornali e periodici",
          "ALL/-- mobili, articoli e servizi per la casa/Elettrodomestici e apparecchi per la casa/Grandi apparecchi domestici elettrici e non",
          "ALL/-- mobili, articoli e servizi per la casa/Utensili e attrezzature per la casa e il giardino/Grandi utensili ed attrezzature per la casa ed il giardino",
          "ALL/-- abbigliamento e calzature/Abbigliamento/Indumenti",
          "ALL/-- istruzione/Pacchetti vacanza/Istruzione secondaria",
          "ALL/-- istruzione/Pacchetti vacanza/Istruzione universitaria",
          "ALL/-- prodotti alimentari e bevande analcoliche/Prodotti alimentari/Latte, formaggi e uova",
          "ALL/-- ricreazione, spettacoli e cultura/Giornali, libri e articoli di cartoleria/Libri",
          "ALL/-- trasporti/Spese di esercizio mezzi di trasporto/Manutenzione e riparazione mezzi di trasporto privati",
          "ALL/-- ricreazione, spettacoli e cultura/Giornali, libri e articoli di cartoleria/Materiale stampato vario",
          "ALL/-- abitazione, acqua, elettricità, gas e altri combustibili/Riparazione e manutenzione della casa/Materiali per la riparazione e la manutenzione della casa",
          "ALL/-- servizi ricettivi e di ristorazione/Pacchetti vacanza/Mense",
          "ALL/-- mobili, articoli e servizi per la casa/Mobili e arredi, tappeti e altri rivestimenti per pavimenti/Mobili e arredi",
          "ALL/-- trasporti/Acquisto mezzi di trasporto/Motocicli e ciclomotori",
          "ALL/-- prodotti alimentari e bevande analcoliche/Prodotti alimentari/Oli e grassi",
          "ALL/-- prodotti alimentari e bevande analcoliche/Prodotti alimentari/Pane e cereali",
          "ALL/-- prodotti alimentari e bevande analcoliche/Prodotti alimentari/Pesci e prodotti ittici",
          "ALL/-- trasporti/Spese di esercizio mezzi di trasporto/Pezzi di ricambio e accessori per mezzi di trasporto privati",
          "ALL/-- mobili, articoli e servizi per la casa/Elettrodomestici e apparecchi per la casa/Piccoli elettrodomestici",
          "ALL/-- mobili, articoli e servizi per la casa/Utensili e attrezzature per la casa e il giardino/Piccoli utensili ed accessori vari",
          "ALL/-- prodotti alimentari e bevande analcoliche/Prodotti alimentari/Prodotti alimentari n.a.c.",
          "ALL/-- servizi sanitari e spese per la salute/Medicinali, prodotti farmaceutici, attrezzature e apparecchiature medicali/Prodotti farmaceutici",
          "ALL/-- abitazione, acqua, elettricità, gas e altri combustibili/Fornitura acqua e servizi vari connessi all\"'abitazione/Raccolta acque di scarico",
          "ALL/-- abitazione, acqua, elettricità, gas e altri combustibili/Fornitura acqua e servizi vari connessi all\"'abitazione/Raccolta rifiuti",
          "ALL/-- ricreazione, spettacoli e cultura/Apparecchi audiovisivi, fotografici e informatici/Riparazione di apparecchi audiovisivi, fotografici e informatici",
          "ALL/-- mobili, articoli e servizi per la casa/Elettrodomestici e apparecchi per la casa/Riparazione di apparecchi per la casa",
          "ALL/-- abbigliamento e calzature/Calzature/Riparazione e noleggio calzature",
          "ALL/-- servizi ricettivi e di ristorazione/Pacchetti vacanza/Ristoranti, bar e simili",
          "ALL/-- abbigliamento e calzature/Calzature/Scarpe ed altre calzature",
          "ALL/-- altri beni e servizi/Pacchetti vacanza/Servizi assicurativi connessi alla salute",
          "ALL/-- ricreazione, spettacoli e cultura/Servizi ricreativi e culturali/Servizi culturali",
          "ALL/-- servizi sanitari e spese per la salute/Servizi ambulatoriali/Servizi dentistici",
          "ALL/-- servizi ricettivi e di ristorazione/Pacchetti vacanza/Servizi di alloggio",
          "ALL/-- abbigliamento e calzature/Abbigliamento/Servizi di lavanderia, riparazione e noleggio abiti",
          "ALL/-- altri beni e servizi/Pacchetti vacanza/Servizi di parrucchiere e trattamenti  di bellezza",
          "ALL/-- servizi ricettivi e di ristorazione/Pacchetti vacanza/Servizi di ristorazione",
          "ALL/-- altri beni e servizi/Pacchetti vacanza/Servizi finanziari n.a.c.",
          "ALL/-- servizi sanitari e spese per la salute/Servizi ambulatoriali/Servizi medici",
          "ALL/-- servizi sanitari e spese per la salute/Servizi ambulatoriali/Servizi paramedici",
          "ALL/-- mobili, articoli e servizi per la casa/Beni e servizi per la manutenzione ordinaria della casa/Servizi per la pulizia e la manutenzione della casa",
          "ALL/-- abitazione, acqua, elettricità, gas e altri combustibili/Riparazione e manutenzione della casa/Servizi per la riparazione e manutenzione della casa",
          "ALL/-- ricreazione, spettacoli e cultura/Servizi ricreativi e culturali/Servizi ricreativi e sportivi",
          "ALL/-- ricreazione, spettacoli e cultura/Altri articoli e attrezzature per attività ricreative, giardinaggio e animali/Servizi veterinari e altri servizi per animali domestici",
          "ALL/-- ricreazione, spettacoli e cultura/Altri beni durevoli per ricreazione e cultura/Strumenti musicali e beni durevoli per ricreazione al coperto",
          "ALL/-- ricreazione, spettacoli e cultura/Apparecchi audiovisivi, fotografici e informatici/Supporti di registrazione",
          "ALL/-- mobili, articoli e servizi per la casa/Mobili e arredi, tappeti e altri rivestimenti per pavimenti/Tappeti e altri rivestimenti per pavimenti",
          "ALL/-- trasporti/Servizi di trasporto/Trasporto aereo passeggeri",
          "ALL/-- trasporti/Servizi di trasporto/Trasporto marittimo e per vie d\"'acqua interne",
          "ALL/-- trasporti/Servizi di trasporto/Trasporto multimodale passeggeri",
          "ALL/-- trasporti/Servizi di trasporto/Trasporto passeggeri su rotaia",
          "ALL/-- trasporti/Servizi di trasporto/Trasporto passeggeri su strada",
          "ALL/-- prodotti alimentari e bevande analcoliche/Prodotti alimentari/Vegetali",
          "ALL/-- bevande alcoliche e tabacchi/Bevande alcoliche/Vini",
          "ALL/-- prodotti alimentari e bevande analcoliche/Prodotti alimentari/Zucchero, confetture, miele, cioccolato e dolciumi",
          "ALL/-- abbigliamento e calzature/Abbigliamento",
          "ALL/-- trasporti/Acquisto mezzi di trasporto",
          "ALL/-- abitazione, acqua, elettricità, gas e altri combustibili/Affitti reali per abitazione",
          "ALL/-- ricreazione, spettacoli e cultura/Altri articoli e attrezzature per attività ricreative, giardinaggio e animali",
          "ALL/-- ricreazione, spettacoli e cultura/Altri beni durevoli per ricreazione e cultura",
          "ALL/-- ricreazione, spettacoli e cultura/Apparecchi audiovisivi, fotografici e informatici",
          "ALL/-- mobili, articoli e servizi per la casa/Beni e servizi per la manutenzione ordinaria della casa",
          "ALL/-- bevande alcoliche e tabacchi/Bevande alcoliche",
          "ALL/-- prodotti alimentari e bevande analcoliche/Bevande analcoliche",
          "ALL/-- abbigliamento e calzature/Calzature",
          "ALL/-- mobili, articoli e servizi per la casa/Elettrodomestici e apparecchi per la casa",
          "ALL/-- abitazione, acqua, elettricità, gas e altri combustibili/Energia elettrica, gas e altri combustibili",
          "ALL/-- abitazione, acqua, elettricità, gas e altri combustibili/Fitti imputati per abitazione",
          "ALL/-- abitazione, acqua, elettricità, gas e altri combustibili/Fornitura acqua e servizi vari connessi all\"'abitazione",
          "ALL/-- ricreazione, spettacoli e cultura/Giornali, libri e articoli di cartoleria",
          "ALL/-- servizi sanitari e spese per la salute/Medicinali, prodotti farmaceutici, attrezzature e apparecchiature medicali",
          "ALL/-- mobili, articoli e servizi per la casa/Mobili e arredi, tappeti e altri rivestimenti per pavimenti",
          "ALL/-- altri beni e servizi/Pacchetti vacanza",
          "ALL/-- istruzione/Pacchetti vacanza",
          "ALL/-- servizi ricettivi e di ristorazione/Pacchetti vacanza",
          "ALL/-- prodotti alimentari e bevande analcoliche/Prodotti alimentari",
          "ALL/-- abitazione, acqua, elettricità, gas e altri combustibili/Riparazione e manutenzione della casa",
          "ALL/-- servizi sanitari e spese per la salute/Servizi ambulatoriali",
          "ALL/-- trasporti/Servizi di trasporto",
          "ALL/-- ricreazione, spettacoli e cultura/Servizi ricreativi e culturali",
          "ALL/-- trasporti/Spese di esercizio mezzi di trasporto",
          "ALL/-- mobili, articoli e servizi per la casa/Utensili e attrezzature per la casa e il giardino",
          "ALL/-- abbigliamento e calzature",
          "ALL/-- abitazione, acqua, elettricità, gas e altri combustibili",
          "ALL/-- altri beni e servizi",
          "ALL/-- bevande alcoliche e tabacchi",
          "ALL/-- istruzione",
          "ALL/-- mobili, articoli e servizi per la casa",
          "ALL/-- prodotti alimentari e bevande analcoliche",
          "ALL/-- ricreazione, spettacoli e cultura",
          "ALL/-- servizi ricettivi e di ristorazione",
          "ALL/-- servizi sanitari e spese per la salute",
          "ALL/-- trasporti",
          "ALL"
         ],
         "labels": [
          "Acque minerali, bevande analcoliche, succhi di frutta e verdura",
          "Acquisto di altri servizi di trasporto",
          "Affitti reali per l\"'abitazione principale",
          "Alcolici",
          "Altre assicurazioni",
          "Altri affitti reali",
          "Altri apparecchi non elettrici, articoli e prodotti per la cura della persona",
          "Altri articoli d\"'abbigliamento e accessori per l\"'abbigliamento",
          "Altri effetti personali",
          "Altri fitti imputati",
          "Altri prodotti medicali",
          "Altri servizi n.a.c.",
          "Altri servizi per l\"'abitazione n.a.c.",
          "Altri servizi relativi ai mezzi di trasporto privati",
          "Animali domestici e relativi prodotti",
          "Apparecchi di ricezione, registrazione e riproduzione di suoni e immagini",
          "Apparecchi elettrici per la cura della persona",
          "Apparecchi fotografici e cinematografici e strumenti ottici",
          "Apparecchi per il trattamento dell\"'informazione",
          "Articoli di cartoleria e materiale da disegno",
          "Articoli per giardinaggio, piante e fiori",
          "Articoli sportivi, per campeggio e attività ricreative all\"'aperto",
          "Assicurazione connessa all\"'abitazione",
          "Assicurazione sulla vita",
          "Assicurazioni",
          "Assicurazioni sui mezzi di trasporto",
          "Assistenza sociale",
          "Attrezzature ed apparecchi terapeutici",
          "Automobili",
          "Beni e servizi per la cura della persona",
          "Beni non durevoli per la casa",
          "Biciclette",
          "Birra",
          "Caffè, tè e cacao",
          "Carburanti e lubrificanti per mezzi di trasporto privati",
          "Carni",
          "Combustibili solidi",
          "Corsi d\"'istruzione e di formazione",
          "Effetti personali n.a.c.",
          "Energia elettrica",
          "Energia termica",
          "Fitti imputati proprietari",
          "Fornitura acqua",
          "Frutta",
          "Gas",
          "Gasolio per riscaldamento",
          "Giochi, giocattoli e hobby",
          "Giochi, lotterie e scommesse",
          "Gioielleria ed orologeria",
          "Giornali e periodici",
          "Grandi apparecchi domestici elettrici e non",
          "Grandi utensili ed attrezzature per la casa ed il giardino",
          "Indumenti",
          "Istruzione secondaria",
          "Istruzione universitaria",
          "Latte, formaggi e uova",
          "Libri",
          "Manutenzione e riparazione mezzi di trasporto privati",
          "Materiale stampato vario",
          "Materiali per la riparazione e la manutenzione della casa",
          "Mense",
          "Mobili e arredi",
          "Motocicli e ciclomotori",
          "Oli e grassi",
          "Pane e cereali",
          "Pesci e prodotti ittici",
          "Pezzi di ricambio e accessori per mezzi di trasporto privati",
          "Piccoli elettrodomestici",
          "Piccoli utensili ed accessori vari",
          "Prodotti alimentari n.a.c.",
          "Prodotti farmaceutici",
          "Raccolta acque di scarico",
          "Raccolta rifiuti",
          "Riparazione di apparecchi audiovisivi, fotografici e informatici",
          "Riparazione di apparecchi per la casa",
          "Riparazione e noleggio calzature",
          "Ristoranti, bar e simili",
          "Scarpe ed altre calzature",
          "Servizi assicurativi connessi alla salute",
          "Servizi culturali",
          "Servizi dentistici",
          "Servizi di alloggio",
          "Servizi di lavanderia, riparazione e noleggio abiti",
          "Servizi di parrucchiere e trattamenti  di bellezza",
          "Servizi di ristorazione",
          "Servizi finanziari n.a.c.",
          "Servizi medici",
          "Servizi paramedici",
          "Servizi per la pulizia e la manutenzione della casa",
          "Servizi per la riparazione e manutenzione della casa",
          "Servizi ricreativi e sportivi",
          "Servizi veterinari e altri servizi per animali domestici",
          "Strumenti musicali e beni durevoli per ricreazione al coperto",
          "Supporti di registrazione",
          "Tappeti e altri rivestimenti per pavimenti",
          "Trasporto aereo passeggeri",
          "Trasporto marittimo e per vie d\"'acqua interne",
          "Trasporto multimodale passeggeri",
          "Trasporto passeggeri su rotaia",
          "Trasporto passeggeri su strada",
          "Vegetali",
          "Vini",
          "Zucchero, confetture, miele, cioccolato e dolciumi",
          "Abbigliamento",
          "Acquisto mezzi di trasporto",
          "Affitti reali per abitazione",
          "Altri articoli e attrezzature per attività ricreative, giardinaggio e animali",
          "Altri beni durevoli per ricreazione e cultura",
          "Apparecchi audiovisivi, fotografici e informatici",
          "Beni e servizi per la manutenzione ordinaria della casa",
          "Bevande alcoliche",
          "Bevande analcoliche",
          "Calzature",
          "Elettrodomestici e apparecchi per la casa",
          "Energia elettrica, gas e altri combustibili",
          "Fitti imputati per abitazione",
          "Fornitura acqua e servizi vari connessi all\"'abitazione",
          "Giornali, libri e articoli di cartoleria",
          "Medicinali, prodotti farmaceutici, attrezzature e apparecchiature medicali",
          "Mobili e arredi, tappeti e altri rivestimenti per pavimenti",
          "Pacchetti vacanza",
          "Pacchetti vacanza",
          "Pacchetti vacanza",
          "Prodotti alimentari",
          "Riparazione e manutenzione della casa",
          "Servizi ambulatoriali",
          "Servizi di trasporto",
          "Servizi ricreativi e culturali",
          "Spese di esercizio mezzi di trasporto",
          "Utensili e attrezzature per la casa e il giardino",
          "-- abbigliamento e calzature",
          "-- abitazione, acqua, elettricità, gas e altri combustibili",
          "-- altri beni e servizi",
          "-- bevande alcoliche e tabacchi",
          "-- istruzione",
          "-- mobili, articoli e servizi per la casa",
          "-- prodotti alimentari e bevande analcoliche",
          "-- ricreazione, spettacoli e cultura",
          "-- servizi ricettivi e di ristorazione",
          "-- servizi sanitari e spese per la salute",
          "-- trasporti",
          "ALL"
         ],
         "name": "",
         "parents": [
          "ALL/-- prodotti alimentari e bevande analcoliche/Bevande analcoliche",
          "ALL/-- trasporti/Servizi di trasporto",
          "ALL/-- abitazione, acqua, elettricità, gas e altri combustibili/Affitti reali per abitazione",
          "ALL/-- bevande alcoliche e tabacchi/Bevande alcoliche",
          "ALL/-- altri beni e servizi/Pacchetti vacanza",
          "ALL/-- abitazione, acqua, elettricità, gas e altri combustibili/Affitti reali per abitazione",
          "ALL/-- altri beni e servizi/Pacchetti vacanza",
          "ALL/-- abbigliamento e calzature/Abbigliamento",
          "ALL/-- altri beni e servizi/Pacchetti vacanza",
          "ALL/-- abitazione, acqua, elettricità, gas e altri combustibili/Fitti imputati per abitazione",
          "ALL/-- servizi sanitari e spese per la salute/Medicinali, prodotti farmaceutici, attrezzature e apparecchiature medicali",
          "ALL/-- altri beni e servizi/Pacchetti vacanza",
          "ALL/-- abitazione, acqua, elettricità, gas e altri combustibili/Fornitura acqua e servizi vari connessi all\"'abitazione",
          "ALL/-- trasporti/Spese di esercizio mezzi di trasporto",
          "ALL/-- ricreazione, spettacoli e cultura/Altri articoli e attrezzature per attività ricreative, giardinaggio e animali",
          "ALL/-- ricreazione, spettacoli e cultura/Apparecchi audiovisivi, fotografici e informatici",
          "ALL/-- altri beni e servizi/Pacchetti vacanza",
          "ALL/-- ricreazione, spettacoli e cultura/Apparecchi audiovisivi, fotografici e informatici",
          "ALL/-- ricreazione, spettacoli e cultura/Apparecchi audiovisivi, fotografici e informatici",
          "ALL/-- ricreazione, spettacoli e cultura/Giornali, libri e articoli di cartoleria",
          "ALL/-- ricreazione, spettacoli e cultura/Altri articoli e attrezzature per attività ricreative, giardinaggio e animali",
          "ALL/-- ricreazione, spettacoli e cultura/Altri articoli e attrezzature per attività ricreative, giardinaggio e animali",
          "ALL/-- altri beni e servizi/Pacchetti vacanza",
          "ALL/-- altri beni e servizi/Pacchetti vacanza",
          "ALL/-- altri beni e servizi/Pacchetti vacanza",
          "ALL/-- altri beni e servizi/Pacchetti vacanza",
          "ALL/-- altri beni e servizi/Pacchetti vacanza",
          "ALL/-- servizi sanitari e spese per la salute/Medicinali, prodotti farmaceutici, attrezzature e apparecchiature medicali",
          "ALL/-- trasporti/Acquisto mezzi di trasporto",
          "ALL/-- altri beni e servizi/Pacchetti vacanza",
          "ALL/-- mobili, articoli e servizi per la casa/Beni e servizi per la manutenzione ordinaria della casa",
          "ALL/-- trasporti/Acquisto mezzi di trasporto",
          "ALL/-- bevande alcoliche e tabacchi/Bevande alcoliche",
          "ALL/-- prodotti alimentari e bevande analcoliche/Bevande analcoliche",
          "ALL/-- trasporti/Spese di esercizio mezzi di trasporto",
          "ALL/-- prodotti alimentari e bevande analcoliche/Prodotti alimentari",
          "ALL/-- abitazione, acqua, elettricità, gas e altri combustibili/Energia elettrica, gas e altri combustibili",
          "ALL/-- istruzione/Pacchetti vacanza",
          "ALL/-- altri beni e servizi/Pacchetti vacanza",
          "ALL/-- abitazione, acqua, elettricità, gas e altri combustibili/Energia elettrica, gas e altri combustibili",
          "ALL/-- abitazione, acqua, elettricità, gas e altri combustibili/Energia elettrica, gas e altri combustibili",
          "ALL/-- abitazione, acqua, elettricità, gas e altri combustibili/Fitti imputati per abitazione",
          "ALL/-- abitazione, acqua, elettricità, gas e altri combustibili/Fornitura acqua e servizi vari connessi all\"'abitazione",
          "ALL/-- prodotti alimentari e bevande analcoliche/Prodotti alimentari",
          "ALL/-- abitazione, acqua, elettricità, gas e altri combustibili/Energia elettrica, gas e altri combustibili",
          "ALL/-- abitazione, acqua, elettricità, gas e altri combustibili/Energia elettrica, gas e altri combustibili",
          "ALL/-- ricreazione, spettacoli e cultura/Altri articoli e attrezzature per attività ricreative, giardinaggio e animali",
          "ALL/-- ricreazione, spettacoli e cultura/Servizi ricreativi e culturali",
          "ALL/-- altri beni e servizi/Pacchetti vacanza",
          "ALL/-- ricreazione, spettacoli e cultura/Giornali, libri e articoli di cartoleria",
          "ALL/-- mobili, articoli e servizi per la casa/Elettrodomestici e apparecchi per la casa",
          "ALL/-- mobili, articoli e servizi per la casa/Utensili e attrezzature per la casa e il giardino",
          "ALL/-- abbigliamento e calzature/Abbigliamento",
          "ALL/-- istruzione/Pacchetti vacanza",
          "ALL/-- istruzione/Pacchetti vacanza",
          "ALL/-- prodotti alimentari e bevande analcoliche/Prodotti alimentari",
          "ALL/-- ricreazione, spettacoli e cultura/Giornali, libri e articoli di cartoleria",
          "ALL/-- trasporti/Spese di esercizio mezzi di trasporto",
          "ALL/-- ricreazione, spettacoli e cultura/Giornali, libri e articoli di cartoleria",
          "ALL/-- abitazione, acqua, elettricità, gas e altri combustibili/Riparazione e manutenzione della casa",
          "ALL/-- servizi ricettivi e di ristorazione/Pacchetti vacanza",
          "ALL/-- mobili, articoli e servizi per la casa/Mobili e arredi, tappeti e altri rivestimenti per pavimenti",
          "ALL/-- trasporti/Acquisto mezzi di trasporto",
          "ALL/-- prodotti alimentari e bevande analcoliche/Prodotti alimentari",
          "ALL/-- prodotti alimentari e bevande analcoliche/Prodotti alimentari",
          "ALL/-- prodotti alimentari e bevande analcoliche/Prodotti alimentari",
          "ALL/-- trasporti/Spese di esercizio mezzi di trasporto",
          "ALL/-- mobili, articoli e servizi per la casa/Elettrodomestici e apparecchi per la casa",
          "ALL/-- mobili, articoli e servizi per la casa/Utensili e attrezzature per la casa e il giardino",
          "ALL/-- prodotti alimentari e bevande analcoliche/Prodotti alimentari",
          "ALL/-- servizi sanitari e spese per la salute/Medicinali, prodotti farmaceutici, attrezzature e apparecchiature medicali",
          "ALL/-- abitazione, acqua, elettricità, gas e altri combustibili/Fornitura acqua e servizi vari connessi all\"'abitazione",
          "ALL/-- abitazione, acqua, elettricità, gas e altri combustibili/Fornitura acqua e servizi vari connessi all\"'abitazione",
          "ALL/-- ricreazione, spettacoli e cultura/Apparecchi audiovisivi, fotografici e informatici",
          "ALL/-- mobili, articoli e servizi per la casa/Elettrodomestici e apparecchi per la casa",
          "ALL/-- abbigliamento e calzature/Calzature",
          "ALL/-- servizi ricettivi e di ristorazione/Pacchetti vacanza",
          "ALL/-- abbigliamento e calzature/Calzature",
          "ALL/-- altri beni e servizi/Pacchetti vacanza",
          "ALL/-- ricreazione, spettacoli e cultura/Servizi ricreativi e culturali",
          "ALL/-- servizi sanitari e spese per la salute/Servizi ambulatoriali",
          "ALL/-- servizi ricettivi e di ristorazione/Pacchetti vacanza",
          "ALL/-- abbigliamento e calzature/Abbigliamento",
          "ALL/-- altri beni e servizi/Pacchetti vacanza",
          "ALL/-- servizi ricettivi e di ristorazione/Pacchetti vacanza",
          "ALL/-- altri beni e servizi/Pacchetti vacanza",
          "ALL/-- servizi sanitari e spese per la salute/Servizi ambulatoriali",
          "ALL/-- servizi sanitari e spese per la salute/Servizi ambulatoriali",
          "ALL/-- mobili, articoli e servizi per la casa/Beni e servizi per la manutenzione ordinaria della casa",
          "ALL/-- abitazione, acqua, elettricità, gas e altri combustibili/Riparazione e manutenzione della casa",
          "ALL/-- ricreazione, spettacoli e cultura/Servizi ricreativi e culturali",
          "ALL/-- ricreazione, spettacoli e cultura/Altri articoli e attrezzature per attività ricreative, giardinaggio e animali",
          "ALL/-- ricreazione, spettacoli e cultura/Altri beni durevoli per ricreazione e cultura",
          "ALL/-- ricreazione, spettacoli e cultura/Apparecchi audiovisivi, fotografici e informatici",
          "ALL/-- mobili, articoli e servizi per la casa/Mobili e arredi, tappeti e altri rivestimenti per pavimenti",
          "ALL/-- trasporti/Servizi di trasporto",
          "ALL/-- trasporti/Servizi di trasporto",
          "ALL/-- trasporti/Servizi di trasporto",
          "ALL/-- trasporti/Servizi di trasporto",
          "ALL/-- trasporti/Servizi di trasporto",
          "ALL/-- prodotti alimentari e bevande analcoliche/Prodotti alimentari",
          "ALL/-- bevande alcoliche e tabacchi/Bevande alcoliche",
          "ALL/-- prodotti alimentari e bevande analcoliche/Prodotti alimentari",
          "ALL/-- abbigliamento e calzature",
          "ALL/-- trasporti",
          "ALL/-- abitazione, acqua, elettricità, gas e altri combustibili",
          "ALL/-- ricreazione, spettacoli e cultura",
          "ALL/-- ricreazione, spettacoli e cultura",
          "ALL/-- ricreazione, spettacoli e cultura",
          "ALL/-- mobili, articoli e servizi per la casa",
          "ALL/-- bevande alcoliche e tabacchi",
          "ALL/-- prodotti alimentari e bevande analcoliche",
          "ALL/-- abbigliamento e calzature",
          "ALL/-- mobili, articoli e servizi per la casa",
          "ALL/-- abitazione, acqua, elettricità, gas e altri combustibili",
          "ALL/-- abitazione, acqua, elettricità, gas e altri combustibili",
          "ALL/-- abitazione, acqua, elettricità, gas e altri combustibili",
          "ALL/-- ricreazione, spettacoli e cultura",
          "ALL/-- servizi sanitari e spese per la salute",
          "ALL/-- mobili, articoli e servizi per la casa",
          "ALL/-- altri beni e servizi",
          "ALL/-- istruzione",
          "ALL/-- servizi ricettivi e di ristorazione",
          "ALL/-- prodotti alimentari e bevande analcoliche",
          "ALL/-- abitazione, acqua, elettricità, gas e altri combustibili",
          "ALL/-- servizi sanitari e spese per la salute",
          "ALL/-- trasporti",
          "ALL/-- ricreazione, spettacoli e cultura",
          "ALL/-- trasporti",
          "ALL/-- mobili, articoli e servizi per la casa",
          "ALL",
          "ALL",
          "ALL",
          "ALL",
          "ALL",
          "ALL",
          "ALL",
          "ALL",
          "ALL",
          "ALL",
          "ALL",
          ""
         ],
         "textinfo": "label+text+value",
         "type": "treemap",
         "values": [
          13.83,
          0.41,
          78.99,
          1.92,
          1.19,
          2.26,
          18.2,
          1.78,
          2.89,
          99.14,
          4.25,
          22.16,
          47.2,
          8.01,
          7.48,
          1.62,
          0.52,
          0.18,
          2.05,
          1.76,
          6.06,
          2.05,
          4.04,
          3.93,
          37.16,
          25.76,
          2.74,
          6.65,
          36.29,
          39.4,
          20,
          0.8,
          3.88,
          9.39,
          50.06,
          60.29,
          3.54,
          1.09,
          5.01,
          39.09,
          1.11,
          437.5,
          10.38,
          30.06,
          42.31,
          1.14,
          2.95,
          1.64,
          2.12,
          3.76,
          7.08,
          0.27,
          29.66,
          0.17,
          1.75,
          39.95,
          4.62,
          9.4,
          0.2,
          0.8,
          0.6,
          12.64,
          1.59,
          10.11,
          47.45,
          24.7,
          8.13,
          2.8,
          4.9,
          7.62,
          35.19,
          0.16,
          13.57,
          0.05,
          0.17,
          0.42,
          48.42,
          10.41,
          2.23,
          7.01,
          15.65,
          5.47,
          2.93,
          20.68,
          49.02,
          0.94,
          9.87,
          5.85,
          26.97,
          7.23,
          6.6,
          2.14,
          0.18,
          0.57,
          0.41,
          1.96,
          0.16,
          0.89,
          2.92,
          1.85,
          44.01,
          10.62,
          10.98,
          34.370000000000005,
          38.68,
          81.25,
          20.68,
          0.18,
          4.47,
          46.97,
          16.419999999999998,
          23.22,
          10.83,
          10.05,
          87.19,
          536.64,
          71.31,
          10.34,
          46.089999999999996,
          13.05,
          188.97,
          3.01,
          103.51,
          275.17,
          8.030000000000001,
          31.369999999999997,
          8.19,
          15.25,
          75.6,
          5.17,
          45.2,
          784.42,
          188.97,
          16.419999999999998,
          3.01,
          75.24,
          298.39,
          50.92,
          103.51,
          77.46,
          122.47,
          1766.01
         ]
        }
       ],
       "layout": {
        "legend": {
         "tracegroupgap": 0
        },
        "margin": {
         "t": 60
        },
        "template": {
         "data": {
          "bar": [
           {
            "error_x": {
             "color": "#2a3f5f"
            },
            "error_y": {
             "color": "#2a3f5f"
            },
            "marker": {
             "line": {
              "color": "#E5ECF6",
              "width": 0.5
             },
             "pattern": {
              "fillmode": "overlay",
              "size": 10,
              "solidity": 0.2
             }
            },
            "type": "bar"
           }
          ],
          "barpolar": [
           {
            "marker": {
             "line": {
              "color": "#E5ECF6",
              "width": 0.5
             },
             "pattern": {
              "fillmode": "overlay",
              "size": 10,
              "solidity": 0.2
             }
            },
            "type": "barpolar"
           }
          ],
          "carpet": [
           {
            "aaxis": {
             "endlinecolor": "#2a3f5f",
             "gridcolor": "white",
             "linecolor": "white",
             "minorgridcolor": "white",
             "startlinecolor": "#2a3f5f"
            },
            "baxis": {
             "endlinecolor": "#2a3f5f",
             "gridcolor": "white",
             "linecolor": "white",
             "minorgridcolor": "white",
             "startlinecolor": "#2a3f5f"
            },
            "type": "carpet"
           }
          ],
          "choropleth": [
           {
            "colorbar": {
             "outlinewidth": 0,
             "ticks": ""
            },
            "type": "choropleth"
           }
          ],
          "contour": [
           {
            "colorbar": {
             "outlinewidth": 0,
             "ticks": ""
            },
            "colorscale": [
             [
              0,
              "#0d0887"
             ],
             [
              0.1111111111111111,
              "#46039f"
             ],
             [
              0.2222222222222222,
              "#7201a8"
             ],
             [
              0.3333333333333333,
              "#9c179e"
             ],
             [
              0.4444444444444444,
              "#bd3786"
             ],
             [
              0.5555555555555556,
              "#d8576b"
             ],
             [
              0.6666666666666666,
              "#ed7953"
             ],
             [
              0.7777777777777778,
              "#fb9f3a"
             ],
             [
              0.8888888888888888,
              "#fdca26"
             ],
             [
              1,
              "#f0f921"
             ]
            ],
            "type": "contour"
           }
          ],
          "contourcarpet": [
           {
            "colorbar": {
             "outlinewidth": 0,
             "ticks": ""
            },
            "type": "contourcarpet"
           }
          ],
          "heatmap": [
           {
            "colorbar": {
             "outlinewidth": 0,
             "ticks": ""
            },
            "colorscale": [
             [
              0,
              "#0d0887"
             ],
             [
              0.1111111111111111,
              "#46039f"
             ],
             [
              0.2222222222222222,
              "#7201a8"
             ],
             [
              0.3333333333333333,
              "#9c179e"
             ],
             [
              0.4444444444444444,
              "#bd3786"
             ],
             [
              0.5555555555555556,
              "#d8576b"
             ],
             [
              0.6666666666666666,
              "#ed7953"
             ],
             [
              0.7777777777777778,
              "#fb9f3a"
             ],
             [
              0.8888888888888888,
              "#fdca26"
             ],
             [
              1,
              "#f0f921"
             ]
            ],
            "type": "heatmap"
           }
          ],
          "heatmapgl": [
           {
            "colorbar": {
             "outlinewidth": 0,
             "ticks": ""
            },
            "colorscale": [
             [
              0,
              "#0d0887"
             ],
             [
              0.1111111111111111,
              "#46039f"
             ],
             [
              0.2222222222222222,
              "#7201a8"
             ],
             [
              0.3333333333333333,
              "#9c179e"
             ],
             [
              0.4444444444444444,
              "#bd3786"
             ],
             [
              0.5555555555555556,
              "#d8576b"
             ],
             [
              0.6666666666666666,
              "#ed7953"
             ],
             [
              0.7777777777777778,
              "#fb9f3a"
             ],
             [
              0.8888888888888888,
              "#fdca26"
             ],
             [
              1,
              "#f0f921"
             ]
            ],
            "type": "heatmapgl"
           }
          ],
          "histogram": [
           {
            "marker": {
             "pattern": {
              "fillmode": "overlay",
              "size": 10,
              "solidity": 0.2
             }
            },
            "type": "histogram"
           }
          ],
          "histogram2d": [
           {
            "colorbar": {
             "outlinewidth": 0,
             "ticks": ""
            },
            "colorscale": [
             [
              0,
              "#0d0887"
             ],
             [
              0.1111111111111111,
              "#46039f"
             ],
             [
              0.2222222222222222,
              "#7201a8"
             ],
             [
              0.3333333333333333,
              "#9c179e"
             ],
             [
              0.4444444444444444,
              "#bd3786"
             ],
             [
              0.5555555555555556,
              "#d8576b"
             ],
             [
              0.6666666666666666,
              "#ed7953"
             ],
             [
              0.7777777777777778,
              "#fb9f3a"
             ],
             [
              0.8888888888888888,
              "#fdca26"
             ],
             [
              1,
              "#f0f921"
             ]
            ],
            "type": "histogram2d"
           }
          ],
          "histogram2dcontour": [
           {
            "colorbar": {
             "outlinewidth": 0,
             "ticks": ""
            },
            "colorscale": [
             [
              0,
              "#0d0887"
             ],
             [
              0.1111111111111111,
              "#46039f"
             ],
             [
              0.2222222222222222,
              "#7201a8"
             ],
             [
              0.3333333333333333,
              "#9c179e"
             ],
             [
              0.4444444444444444,
              "#bd3786"
             ],
             [
              0.5555555555555556,
              "#d8576b"
             ],
             [
              0.6666666666666666,
              "#ed7953"
             ],
             [
              0.7777777777777778,
              "#fb9f3a"
             ],
             [
              0.8888888888888888,
              "#fdca26"
             ],
             [
              1,
              "#f0f921"
             ]
            ],
            "type": "histogram2dcontour"
           }
          ],
          "mesh3d": [
           {
            "colorbar": {
             "outlinewidth": 0,
             "ticks": ""
            },
            "type": "mesh3d"
           }
          ],
          "parcoords": [
           {
            "line": {
             "colorbar": {
              "outlinewidth": 0,
              "ticks": ""
             }
            },
            "type": "parcoords"
           }
          ],
          "pie": [
           {
            "automargin": true,
            "type": "pie"
           }
          ],
          "scatter": [
           {
            "fillpattern": {
             "fillmode": "overlay",
             "size": 10,
             "solidity": 0.2
            },
            "type": "scatter"
           }
          ],
          "scatter3d": [
           {
            "line": {
             "colorbar": {
              "outlinewidth": 0,
              "ticks": ""
             }
            },
            "marker": {
             "colorbar": {
              "outlinewidth": 0,
              "ticks": ""
             }
            },
            "type": "scatter3d"
           }
          ],
          "scattercarpet": [
           {
            "marker": {
             "colorbar": {
              "outlinewidth": 0,
              "ticks": ""
             }
            },
            "type": "scattercarpet"
           }
          ],
          "scattergeo": [
           {
            "marker": {
             "colorbar": {
              "outlinewidth": 0,
              "ticks": ""
             }
            },
            "type": "scattergeo"
           }
          ],
          "scattergl": [
           {
            "marker": {
             "colorbar": {
              "outlinewidth": 0,
              "ticks": ""
             }
            },
            "type": "scattergl"
           }
          ],
          "scattermapbox": [
           {
            "marker": {
             "colorbar": {
              "outlinewidth": 0,
              "ticks": ""
             }
            },
            "type": "scattermapbox"
           }
          ],
          "scatterpolar": [
           {
            "marker": {
             "colorbar": {
              "outlinewidth": 0,
              "ticks": ""
             }
            },
            "type": "scatterpolar"
           }
          ],
          "scatterpolargl": [
           {
            "marker": {
             "colorbar": {
              "outlinewidth": 0,
              "ticks": ""
             }
            },
            "type": "scatterpolargl"
           }
          ],
          "scatterternary": [
           {
            "marker": {
             "colorbar": {
              "outlinewidth": 0,
              "ticks": ""
             }
            },
            "type": "scatterternary"
           }
          ],
          "surface": [
           {
            "colorbar": {
             "outlinewidth": 0,
             "ticks": ""
            },
            "colorscale": [
             [
              0,
              "#0d0887"
             ],
             [
              0.1111111111111111,
              "#46039f"
             ],
             [
              0.2222222222222222,
              "#7201a8"
             ],
             [
              0.3333333333333333,
              "#9c179e"
             ],
             [
              0.4444444444444444,
              "#bd3786"
             ],
             [
              0.5555555555555556,
              "#d8576b"
             ],
             [
              0.6666666666666666,
              "#ed7953"
             ],
             [
              0.7777777777777778,
              "#fb9f3a"
             ],
             [
              0.8888888888888888,
              "#fdca26"
             ],
             [
              1,
              "#f0f921"
             ]
            ],
            "type": "surface"
           }
          ],
          "table": [
           {
            "cells": {
             "fill": {
              "color": "#EBF0F8"
             },
             "line": {
              "color": "white"
             }
            },
            "header": {
             "fill": {
              "color": "#C8D4E3"
             },
             "line": {
              "color": "white"
             }
            },
            "type": "table"
           }
          ]
         },
         "layout": {
          "annotationdefaults": {
           "arrowcolor": "#2a3f5f",
           "arrowhead": 0,
           "arrowwidth": 1
          },
          "autotypenumbers": "strict",
          "coloraxis": {
           "colorbar": {
            "outlinewidth": 0,
            "ticks": ""
           }
          },
          "colorscale": {
           "diverging": [
            [
             0,
             "#8e0152"
            ],
            [
             0.1,
             "#c51b7d"
            ],
            [
             0.2,
             "#de77ae"
            ],
            [
             0.3,
             "#f1b6da"
            ],
            [
             0.4,
             "#fde0ef"
            ],
            [
             0.5,
             "#f7f7f7"
            ],
            [
             0.6,
             "#e6f5d0"
            ],
            [
             0.7,
             "#b8e186"
            ],
            [
             0.8,
             "#7fbc41"
            ],
            [
             0.9,
             "#4d9221"
            ],
            [
             1,
             "#276419"
            ]
           ],
           "sequential": [
            [
             0,
             "#0d0887"
            ],
            [
             0.1111111111111111,
             "#46039f"
            ],
            [
             0.2222222222222222,
             "#7201a8"
            ],
            [
             0.3333333333333333,
             "#9c179e"
            ],
            [
             0.4444444444444444,
             "#bd3786"
            ],
            [
             0.5555555555555556,
             "#d8576b"
            ],
            [
             0.6666666666666666,
             "#ed7953"
            ],
            [
             0.7777777777777778,
             "#fb9f3a"
            ],
            [
             0.8888888888888888,
             "#fdca26"
            ],
            [
             1,
             "#f0f921"
            ]
           ],
           "sequentialminus": [
            [
             0,
             "#0d0887"
            ],
            [
             0.1111111111111111,
             "#46039f"
            ],
            [
             0.2222222222222222,
             "#7201a8"
            ],
            [
             0.3333333333333333,
             "#9c179e"
            ],
            [
             0.4444444444444444,
             "#bd3786"
            ],
            [
             0.5555555555555556,
             "#d8576b"
            ],
            [
             0.6666666666666666,
             "#ed7953"
            ],
            [
             0.7777777777777778,
             "#fb9f3a"
            ],
            [
             0.8888888888888888,
             "#fdca26"
            ],
            [
             1,
             "#f0f921"
            ]
           ]
          },
          "colorway": [
           "#636efa",
           "#EF553B",
           "#00cc96",
           "#ab63fa",
           "#FFA15A",
           "#19d3f3",
           "#FF6692",
           "#B6E880",
           "#FF97FF",
           "#FECB52"
          ],
          "font": {
           "color": "#2a3f5f"
          },
          "geo": {
           "bgcolor": "white",
           "lakecolor": "white",
           "landcolor": "#E5ECF6",
           "showlakes": true,
           "showland": true,
           "subunitcolor": "white"
          },
          "hoverlabel": {
           "align": "left"
          },
          "hovermode": "closest",
          "mapbox": {
           "style": "light"
          },
          "paper_bgcolor": "white",
          "plot_bgcolor": "#E5ECF6",
          "polar": {
           "angularaxis": {
            "gridcolor": "white",
            "linecolor": "white",
            "ticks": ""
           },
           "bgcolor": "#E5ECF6",
           "radialaxis": {
            "gridcolor": "white",
            "linecolor": "white",
            "ticks": ""
           }
          },
          "scene": {
           "xaxis": {
            "backgroundcolor": "#E5ECF6",
            "gridcolor": "white",
            "gridwidth": 2,
            "linecolor": "white",
            "showbackground": true,
            "ticks": "",
            "zerolinecolor": "white"
           },
           "yaxis": {
            "backgroundcolor": "#E5ECF6",
            "gridcolor": "white",
            "gridwidth": 2,
            "linecolor": "white",
            "showbackground": true,
            "ticks": "",
            "zerolinecolor": "white"
           },
           "zaxis": {
            "backgroundcolor": "#E5ECF6",
            "gridcolor": "white",
            "gridwidth": 2,
            "linecolor": "white",
            "showbackground": true,
            "ticks": "",
            "zerolinecolor": "white"
           }
          },
          "shapedefaults": {
           "line": {
            "color": "#2a3f5f"
           }
          },
          "ternary": {
           "aaxis": {
            "gridcolor": "white",
            "linecolor": "white",
            "ticks": ""
           },
           "baxis": {
            "gridcolor": "white",
            "linecolor": "white",
            "ticks": ""
           },
           "bgcolor": "#E5ECF6",
           "caxis": {
            "gridcolor": "white",
            "linecolor": "white",
            "ticks": ""
           }
          },
          "title": {
           "x": 0.05
          },
          "xaxis": {
           "automargin": true,
           "gridcolor": "white",
           "linecolor": "white",
           "ticks": "",
           "title": {
            "standoff": 15
           },
           "zerolinecolor": "white",
           "zerolinewidth": 2
          },
          "yaxis": {
           "automargin": true,
           "gridcolor": "white",
           "linecolor": "white",
           "ticks": "",
           "title": {
            "standoff": 15
           },
           "zerolinecolor": "white",
           "zerolinewidth": 2
          }
         }
        }
       }
      },
      "text/html": [
       "<div>                            <div id=\"0a5e5ca6-997b-4515-a780-881eb5769b54\" class=\"plotly-graph-div\" style=\"height:525px; width:100%;\"></div>            <script type=\"text/javascript\">                require([\"plotly\"], function(Plotly) {                    window.PLOTLYENV=window.PLOTLYENV || {};                                    if (document.getElementById(\"0a5e5ca6-997b-4515-a780-881eb5769b54\")) {                    Plotly.newPlot(                        \"0a5e5ca6-997b-4515-a780-881eb5769b54\",                        [{\"branchvalues\":\"total\",\"domain\":{\"x\":[0.0,1.0],\"y\":[0.0,1.0]},\"hovertemplate\":\"labels=%{label}<br>Spesa media=%{value}<br>parent=%{parent}<br>Coicop (DESC)=%{id}<extra></extra>\",\"ids\":[\"ALL/-- prodotti alimentari e bevande analcoliche/Bevande analcoliche/Acque minerali, bevande analcoliche, succhi di frutta e verdura\",\"ALL/-- trasporti/Servizi di trasporto/Acquisto di altri servizi di trasporto\",\"ALL/-- abitazione, acqua, elettricit\\u00e0, gas e altri combustibili/Affitti reali per abitazione/Affitti reali per l\\\"'abitazione principale\",\"ALL/-- bevande alcoliche e tabacchi/Bevande alcoliche/Alcolici\",\"ALL/-- altri beni e servizi/Pacchetti vacanza/Altre assicurazioni\",\"ALL/-- abitazione, acqua, elettricit\\u00e0, gas e altri combustibili/Affitti reali per abitazione/Altri affitti reali\",\"ALL/-- altri beni e servizi/Pacchetti vacanza/Altri apparecchi non elettrici, articoli e prodotti per la cura della persona\",\"ALL/-- abbigliamento e calzature/Abbigliamento/Altri articoli d\\\"'abbigliamento e accessori per l\\\"'abbigliamento\",\"ALL/-- altri beni e servizi/Pacchetti vacanza/Altri effetti personali\",\"ALL/-- abitazione, acqua, elettricit\\u00e0, gas e altri combustibili/Fitti imputati per abitazione/Altri fitti imputati\",\"ALL/-- servizi sanitari e spese per la salute/Medicinali, prodotti farmaceutici, attrezzature e apparecchiature medicali/Altri prodotti medicali\",\"ALL/-- altri beni e servizi/Pacchetti vacanza/Altri servizi n.a.c.\",\"ALL/-- abitazione, acqua, elettricit\\u00e0, gas e altri combustibili/Fornitura acqua e servizi vari connessi all\\\"'abitazione/Altri servizi per l\\\"'abitazione n.a.c.\",\"ALL/-- trasporti/Spese di esercizio mezzi di trasporto/Altri servizi relativi ai mezzi di trasporto privati\",\"ALL/-- ricreazione, spettacoli e cultura/Altri articoli e attrezzature per attivit\\u00e0 ricreative, giardinaggio e animali/Animali domestici e relativi prodotti\",\"ALL/-- ricreazione, spettacoli e cultura/Apparecchi audiovisivi, fotografici e informatici/Apparecchi di ricezione, registrazione e riproduzione di suoni e immagini\",\"ALL/-- altri beni e servizi/Pacchetti vacanza/Apparecchi elettrici per la cura della persona\",\"ALL/-- ricreazione, spettacoli e cultura/Apparecchi audiovisivi, fotografici e informatici/Apparecchi fotografici e cinematografici e strumenti ottici\",\"ALL/-- ricreazione, spettacoli e cultura/Apparecchi audiovisivi, fotografici e informatici/Apparecchi per il trattamento dell\\\"'informazione\",\"ALL/-- ricreazione, spettacoli e cultura/Giornali, libri e articoli di cartoleria/Articoli di cartoleria e materiale da disegno\",\"ALL/-- ricreazione, spettacoli e cultura/Altri articoli e attrezzature per attivit\\u00e0 ricreative, giardinaggio e animali/Articoli per giardinaggio, piante e fiori\",\"ALL/-- ricreazione, spettacoli e cultura/Altri articoli e attrezzature per attivit\\u00e0 ricreative, giardinaggio e animali/Articoli sportivi, per campeggio e attivit\\u00e0 ricreative all\\\"'aperto\",\"ALL/-- altri beni e servizi/Pacchetti vacanza/Assicurazione connessa all\\\"'abitazione\",\"ALL/-- altri beni e servizi/Pacchetti vacanza/Assicurazione sulla vita\",\"ALL/-- altri beni e servizi/Pacchetti vacanza/Assicurazioni\",\"ALL/-- altri beni e servizi/Pacchetti vacanza/Assicurazioni sui mezzi di trasporto\",\"ALL/-- altri beni e servizi/Pacchetti vacanza/Assistenza sociale\",\"ALL/-- servizi sanitari e spese per la salute/Medicinali, prodotti farmaceutici, attrezzature e apparecchiature medicali/Attrezzature ed apparecchi terapeutici\",\"ALL/-- trasporti/Acquisto mezzi di trasporto/Automobili\",\"ALL/-- altri beni e servizi/Pacchetti vacanza/Beni e servizi per la cura della persona\",\"ALL/-- mobili, articoli e servizi per la casa/Beni e servizi per la manutenzione ordinaria della casa/Beni non durevoli per la casa\",\"ALL/-- trasporti/Acquisto mezzi di trasporto/Biciclette\",\"ALL/-- bevande alcoliche e tabacchi/Bevande alcoliche/Birra\",\"ALL/-- prodotti alimentari e bevande analcoliche/Bevande analcoliche/Caff\\u00e8, t\\u00e8 e cacao\",\"ALL/-- trasporti/Spese di esercizio mezzi di trasporto/Carburanti e lubrificanti per mezzi di trasporto privati\",\"ALL/-- prodotti alimentari e bevande analcoliche/Prodotti alimentari/Carni\",\"ALL/-- abitazione, acqua, elettricit\\u00e0, gas e altri combustibili/Energia elettrica, gas e altri combustibili/Combustibili solidi\",\"ALL/-- istruzione/Pacchetti vacanza/Corsi d\\\"'istruzione e di formazione\",\"ALL/-- altri beni e servizi/Pacchetti vacanza/Effetti personali n.a.c.\",\"ALL/-- abitazione, acqua, elettricit\\u00e0, gas e altri combustibili/Energia elettrica, gas e altri combustibili/Energia elettrica\",\"ALL/-- abitazione, acqua, elettricit\\u00e0, gas e altri combustibili/Energia elettrica, gas e altri combustibili/Energia termica\",\"ALL/-- abitazione, acqua, elettricit\\u00e0, gas e altri combustibili/Fitti imputati per abitazione/Fitti imputati proprietari\",\"ALL/-- abitazione, acqua, elettricit\\u00e0, gas e altri combustibili/Fornitura acqua e servizi vari connessi all\\\"'abitazione/Fornitura acqua\",\"ALL/-- prodotti alimentari e bevande analcoliche/Prodotti alimentari/Frutta\",\"ALL/-- abitazione, acqua, elettricit\\u00e0, gas e altri combustibili/Energia elettrica, gas e altri combustibili/Gas\",\"ALL/-- abitazione, acqua, elettricit\\u00e0, gas e altri combustibili/Energia elettrica, gas e altri combustibili/Gasolio per riscaldamento\",\"ALL/-- ricreazione, spettacoli e cultura/Altri articoli e attrezzature per attivit\\u00e0 ricreative, giardinaggio e animali/Giochi, giocattoli e hobby\",\"ALL/-- ricreazione, spettacoli e cultura/Servizi ricreativi e culturali/Giochi, lotterie e scommesse\",\"ALL/-- altri beni e servizi/Pacchetti vacanza/Gioielleria ed orologeria\",\"ALL/-- ricreazione, spettacoli e cultura/Giornali, libri e articoli di cartoleria/Giornali e periodici\",\"ALL/-- mobili, articoli e servizi per la casa/Elettrodomestici e apparecchi per la casa/Grandi apparecchi domestici elettrici e non\",\"ALL/-- mobili, articoli e servizi per la casa/Utensili e attrezzature per la casa e il giardino/Grandi utensili ed attrezzature per la casa ed il giardino\",\"ALL/-- abbigliamento e calzature/Abbigliamento/Indumenti\",\"ALL/-- istruzione/Pacchetti vacanza/Istruzione secondaria\",\"ALL/-- istruzione/Pacchetti vacanza/Istruzione universitaria\",\"ALL/-- prodotti alimentari e bevande analcoliche/Prodotti alimentari/Latte, formaggi e uova\",\"ALL/-- ricreazione, spettacoli e cultura/Giornali, libri e articoli di cartoleria/Libri\",\"ALL/-- trasporti/Spese di esercizio mezzi di trasporto/Manutenzione e riparazione mezzi di trasporto privati\",\"ALL/-- ricreazione, spettacoli e cultura/Giornali, libri e articoli di cartoleria/Materiale stampato vario\",\"ALL/-- abitazione, acqua, elettricit\\u00e0, gas e altri combustibili/Riparazione e manutenzione della casa/Materiali per la riparazione e la manutenzione della casa\",\"ALL/-- servizi ricettivi e di ristorazione/Pacchetti vacanza/Mense\",\"ALL/-- mobili, articoli e servizi per la casa/Mobili e arredi, tappeti e altri rivestimenti per pavimenti/Mobili e arredi\",\"ALL/-- trasporti/Acquisto mezzi di trasporto/Motocicli e ciclomotori\",\"ALL/-- prodotti alimentari e bevande analcoliche/Prodotti alimentari/Oli e grassi\",\"ALL/-- prodotti alimentari e bevande analcoliche/Prodotti alimentari/Pane e cereali\",\"ALL/-- prodotti alimentari e bevande analcoliche/Prodotti alimentari/Pesci e prodotti ittici\",\"ALL/-- trasporti/Spese di esercizio mezzi di trasporto/Pezzi di ricambio e accessori per mezzi di trasporto privati\",\"ALL/-- mobili, articoli e servizi per la casa/Elettrodomestici e apparecchi per la casa/Piccoli elettrodomestici\",\"ALL/-- mobili, articoli e servizi per la casa/Utensili e attrezzature per la casa e il giardino/Piccoli utensili ed accessori vari\",\"ALL/-- prodotti alimentari e bevande analcoliche/Prodotti alimentari/Prodotti alimentari n.a.c.\",\"ALL/-- servizi sanitari e spese per la salute/Medicinali, prodotti farmaceutici, attrezzature e apparecchiature medicali/Prodotti farmaceutici\",\"ALL/-- abitazione, acqua, elettricit\\u00e0, gas e altri combustibili/Fornitura acqua e servizi vari connessi all\\\"'abitazione/Raccolta acque di scarico\",\"ALL/-- abitazione, acqua, elettricit\\u00e0, gas e altri combustibili/Fornitura acqua e servizi vari connessi all\\\"'abitazione/Raccolta rifiuti\",\"ALL/-- ricreazione, spettacoli e cultura/Apparecchi audiovisivi, fotografici e informatici/Riparazione di apparecchi audiovisivi, fotografici e informatici\",\"ALL/-- mobili, articoli e servizi per la casa/Elettrodomestici e apparecchi per la casa/Riparazione di apparecchi per la casa\",\"ALL/-- abbigliamento e calzature/Calzature/Riparazione e noleggio calzature\",\"ALL/-- servizi ricettivi e di ristorazione/Pacchetti vacanza/Ristoranti, bar e simili\",\"ALL/-- abbigliamento e calzature/Calzature/Scarpe ed altre calzature\",\"ALL/-- altri beni e servizi/Pacchetti vacanza/Servizi assicurativi connessi alla salute\",\"ALL/-- ricreazione, spettacoli e cultura/Servizi ricreativi e culturali/Servizi culturali\",\"ALL/-- servizi sanitari e spese per la salute/Servizi ambulatoriali/Servizi dentistici\",\"ALL/-- servizi ricettivi e di ristorazione/Pacchetti vacanza/Servizi di alloggio\",\"ALL/-- abbigliamento e calzature/Abbigliamento/Servizi di lavanderia, riparazione e noleggio abiti\",\"ALL/-- altri beni e servizi/Pacchetti vacanza/Servizi di parrucchiere e trattamenti  di bellezza\",\"ALL/-- servizi ricettivi e di ristorazione/Pacchetti vacanza/Servizi di ristorazione\",\"ALL/-- altri beni e servizi/Pacchetti vacanza/Servizi finanziari n.a.c.\",\"ALL/-- servizi sanitari e spese per la salute/Servizi ambulatoriali/Servizi medici\",\"ALL/-- servizi sanitari e spese per la salute/Servizi ambulatoriali/Servizi paramedici\",\"ALL/-- mobili, articoli e servizi per la casa/Beni e servizi per la manutenzione ordinaria della casa/Servizi per la pulizia e la manutenzione della casa\",\"ALL/-- abitazione, acqua, elettricit\\u00e0, gas e altri combustibili/Riparazione e manutenzione della casa/Servizi per la riparazione e manutenzione della casa\",\"ALL/-- ricreazione, spettacoli e cultura/Servizi ricreativi e culturali/Servizi ricreativi e sportivi\",\"ALL/-- ricreazione, spettacoli e cultura/Altri articoli e attrezzature per attivit\\u00e0 ricreative, giardinaggio e animali/Servizi veterinari e altri servizi per animali domestici\",\"ALL/-- ricreazione, spettacoli e cultura/Altri beni durevoli per ricreazione e cultura/Strumenti musicali e beni durevoli per ricreazione al coperto\",\"ALL/-- ricreazione, spettacoli e cultura/Apparecchi audiovisivi, fotografici e informatici/Supporti di registrazione\",\"ALL/-- mobili, articoli e servizi per la casa/Mobili e arredi, tappeti e altri rivestimenti per pavimenti/Tappeti e altri rivestimenti per pavimenti\",\"ALL/-- trasporti/Servizi di trasporto/Trasporto aereo passeggeri\",\"ALL/-- trasporti/Servizi di trasporto/Trasporto marittimo e per vie d\\\"'acqua interne\",\"ALL/-- trasporti/Servizi di trasporto/Trasporto multimodale passeggeri\",\"ALL/-- trasporti/Servizi di trasporto/Trasporto passeggeri su rotaia\",\"ALL/-- trasporti/Servizi di trasporto/Trasporto passeggeri su strada\",\"ALL/-- prodotti alimentari e bevande analcoliche/Prodotti alimentari/Vegetali\",\"ALL/-- bevande alcoliche e tabacchi/Bevande alcoliche/Vini\",\"ALL/-- prodotti alimentari e bevande analcoliche/Prodotti alimentari/Zucchero, confetture, miele, cioccolato e dolciumi\",\"ALL/-- abbigliamento e calzature/Abbigliamento\",\"ALL/-- trasporti/Acquisto mezzi di trasporto\",\"ALL/-- abitazione, acqua, elettricit\\u00e0, gas e altri combustibili/Affitti reali per abitazione\",\"ALL/-- ricreazione, spettacoli e cultura/Altri articoli e attrezzature per attivit\\u00e0 ricreative, giardinaggio e animali\",\"ALL/-- ricreazione, spettacoli e cultura/Altri beni durevoli per ricreazione e cultura\",\"ALL/-- ricreazione, spettacoli e cultura/Apparecchi audiovisivi, fotografici e informatici\",\"ALL/-- mobili, articoli e servizi per la casa/Beni e servizi per la manutenzione ordinaria della casa\",\"ALL/-- bevande alcoliche e tabacchi/Bevande alcoliche\",\"ALL/-- prodotti alimentari e bevande analcoliche/Bevande analcoliche\",\"ALL/-- abbigliamento e calzature/Calzature\",\"ALL/-- mobili, articoli e servizi per la casa/Elettrodomestici e apparecchi per la casa\",\"ALL/-- abitazione, acqua, elettricit\\u00e0, gas e altri combustibili/Energia elettrica, gas e altri combustibili\",\"ALL/-- abitazione, acqua, elettricit\\u00e0, gas e altri combustibili/Fitti imputati per abitazione\",\"ALL/-- abitazione, acqua, elettricit\\u00e0, gas e altri combustibili/Fornitura acqua e servizi vari connessi all\\\"'abitazione\",\"ALL/-- ricreazione, spettacoli e cultura/Giornali, libri e articoli di cartoleria\",\"ALL/-- servizi sanitari e spese per la salute/Medicinali, prodotti farmaceutici, attrezzature e apparecchiature medicali\",\"ALL/-- mobili, articoli e servizi per la casa/Mobili e arredi, tappeti e altri rivestimenti per pavimenti\",\"ALL/-- altri beni e servizi/Pacchetti vacanza\",\"ALL/-- istruzione/Pacchetti vacanza\",\"ALL/-- servizi ricettivi e di ristorazione/Pacchetti vacanza\",\"ALL/-- prodotti alimentari e bevande analcoliche/Prodotti alimentari\",\"ALL/-- abitazione, acqua, elettricit\\u00e0, gas e altri combustibili/Riparazione e manutenzione della casa\",\"ALL/-- servizi sanitari e spese per la salute/Servizi ambulatoriali\",\"ALL/-- trasporti/Servizi di trasporto\",\"ALL/-- ricreazione, spettacoli e cultura/Servizi ricreativi e culturali\",\"ALL/-- trasporti/Spese di esercizio mezzi di trasporto\",\"ALL/-- mobili, articoli e servizi per la casa/Utensili e attrezzature per la casa e il giardino\",\"ALL/-- abbigliamento e calzature\",\"ALL/-- abitazione, acqua, elettricit\\u00e0, gas e altri combustibili\",\"ALL/-- altri beni e servizi\",\"ALL/-- bevande alcoliche e tabacchi\",\"ALL/-- istruzione\",\"ALL/-- mobili, articoli e servizi per la casa\",\"ALL/-- prodotti alimentari e bevande analcoliche\",\"ALL/-- ricreazione, spettacoli e cultura\",\"ALL/-- servizi ricettivi e di ristorazione\",\"ALL/-- servizi sanitari e spese per la salute\",\"ALL/-- trasporti\",\"ALL\"],\"labels\":[\"Acque minerali, bevande analcoliche, succhi di frutta e verdura\",\"Acquisto di altri servizi di trasporto\",\"Affitti reali per l\\\"'abitazione principale\",\"Alcolici\",\"Altre assicurazioni\",\"Altri affitti reali\",\"Altri apparecchi non elettrici, articoli e prodotti per la cura della persona\",\"Altri articoli d\\\"'abbigliamento e accessori per l\\\"'abbigliamento\",\"Altri effetti personali\",\"Altri fitti imputati\",\"Altri prodotti medicali\",\"Altri servizi n.a.c.\",\"Altri servizi per l\\\"'abitazione n.a.c.\",\"Altri servizi relativi ai mezzi di trasporto privati\",\"Animali domestici e relativi prodotti\",\"Apparecchi di ricezione, registrazione e riproduzione di suoni e immagini\",\"Apparecchi elettrici per la cura della persona\",\"Apparecchi fotografici e cinematografici e strumenti ottici\",\"Apparecchi per il trattamento dell\\\"'informazione\",\"Articoli di cartoleria e materiale da disegno\",\"Articoli per giardinaggio, piante e fiori\",\"Articoli sportivi, per campeggio e attivit\\u00e0 ricreative all\\\"'aperto\",\"Assicurazione connessa all\\\"'abitazione\",\"Assicurazione sulla vita\",\"Assicurazioni\",\"Assicurazioni sui mezzi di trasporto\",\"Assistenza sociale\",\"Attrezzature ed apparecchi terapeutici\",\"Automobili\",\"Beni e servizi per la cura della persona\",\"Beni non durevoli per la casa\",\"Biciclette\",\"Birra\",\"Caff\\u00e8, t\\u00e8 e cacao\",\"Carburanti e lubrificanti per mezzi di trasporto privati\",\"Carni\",\"Combustibili solidi\",\"Corsi d\\\"'istruzione e di formazione\",\"Effetti personali n.a.c.\",\"Energia elettrica\",\"Energia termica\",\"Fitti imputati proprietari\",\"Fornitura acqua\",\"Frutta\",\"Gas\",\"Gasolio per riscaldamento\",\"Giochi, giocattoli e hobby\",\"Giochi, lotterie e scommesse\",\"Gioielleria ed orologeria\",\"Giornali e periodici\",\"Grandi apparecchi domestici elettrici e non\",\"Grandi utensili ed attrezzature per la casa ed il giardino\",\"Indumenti\",\"Istruzione secondaria\",\"Istruzione universitaria\",\"Latte, formaggi e uova\",\"Libri\",\"Manutenzione e riparazione mezzi di trasporto privati\",\"Materiale stampato vario\",\"Materiali per la riparazione e la manutenzione della casa\",\"Mense\",\"Mobili e arredi\",\"Motocicli e ciclomotori\",\"Oli e grassi\",\"Pane e cereali\",\"Pesci e prodotti ittici\",\"Pezzi di ricambio e accessori per mezzi di trasporto privati\",\"Piccoli elettrodomestici\",\"Piccoli utensili ed accessori vari\",\"Prodotti alimentari n.a.c.\",\"Prodotti farmaceutici\",\"Raccolta acque di scarico\",\"Raccolta rifiuti\",\"Riparazione di apparecchi audiovisivi, fotografici e informatici\",\"Riparazione di apparecchi per la casa\",\"Riparazione e noleggio calzature\",\"Ristoranti, bar e simili\",\"Scarpe ed altre calzature\",\"Servizi assicurativi connessi alla salute\",\"Servizi culturali\",\"Servizi dentistici\",\"Servizi di alloggio\",\"Servizi di lavanderia, riparazione e noleggio abiti\",\"Servizi di parrucchiere e trattamenti  di bellezza\",\"Servizi di ristorazione\",\"Servizi finanziari n.a.c.\",\"Servizi medici\",\"Servizi paramedici\",\"Servizi per la pulizia e la manutenzione della casa\",\"Servizi per la riparazione e manutenzione della casa\",\"Servizi ricreativi e sportivi\",\"Servizi veterinari e altri servizi per animali domestici\",\"Strumenti musicali e beni durevoli per ricreazione al coperto\",\"Supporti di registrazione\",\"Tappeti e altri rivestimenti per pavimenti\",\"Trasporto aereo passeggeri\",\"Trasporto marittimo e per vie d\\\"'acqua interne\",\"Trasporto multimodale passeggeri\",\"Trasporto passeggeri su rotaia\",\"Trasporto passeggeri su strada\",\"Vegetali\",\"Vini\",\"Zucchero, confetture, miele, cioccolato e dolciumi\",\"Abbigliamento\",\"Acquisto mezzi di trasporto\",\"Affitti reali per abitazione\",\"Altri articoli e attrezzature per attivit\\u00e0 ricreative, giardinaggio e animali\",\"Altri beni durevoli per ricreazione e cultura\",\"Apparecchi audiovisivi, fotografici e informatici\",\"Beni e servizi per la manutenzione ordinaria della casa\",\"Bevande alcoliche\",\"Bevande analcoliche\",\"Calzature\",\"Elettrodomestici e apparecchi per la casa\",\"Energia elettrica, gas e altri combustibili\",\"Fitti imputati per abitazione\",\"Fornitura acqua e servizi vari connessi all\\\"'abitazione\",\"Giornali, libri e articoli di cartoleria\",\"Medicinali, prodotti farmaceutici, attrezzature e apparecchiature medicali\",\"Mobili e arredi, tappeti e altri rivestimenti per pavimenti\",\"Pacchetti vacanza\",\"Pacchetti vacanza\",\"Pacchetti vacanza\",\"Prodotti alimentari\",\"Riparazione e manutenzione della casa\",\"Servizi ambulatoriali\",\"Servizi di trasporto\",\"Servizi ricreativi e culturali\",\"Spese di esercizio mezzi di trasporto\",\"Utensili e attrezzature per la casa e il giardino\",\"-- abbigliamento e calzature\",\"-- abitazione, acqua, elettricit\\u00e0, gas e altri combustibili\",\"-- altri beni e servizi\",\"-- bevande alcoliche e tabacchi\",\"-- istruzione\",\"-- mobili, articoli e servizi per la casa\",\"-- prodotti alimentari e bevande analcoliche\",\"-- ricreazione, spettacoli e cultura\",\"-- servizi ricettivi e di ristorazione\",\"-- servizi sanitari e spese per la salute\",\"-- trasporti\",\"ALL\"],\"name\":\"\",\"parents\":[\"ALL/-- prodotti alimentari e bevande analcoliche/Bevande analcoliche\",\"ALL/-- trasporti/Servizi di trasporto\",\"ALL/-- abitazione, acqua, elettricit\\u00e0, gas e altri combustibili/Affitti reali per abitazione\",\"ALL/-- bevande alcoliche e tabacchi/Bevande alcoliche\",\"ALL/-- altri beni e servizi/Pacchetti vacanza\",\"ALL/-- abitazione, acqua, elettricit\\u00e0, gas e altri combustibili/Affitti reali per abitazione\",\"ALL/-- altri beni e servizi/Pacchetti vacanza\",\"ALL/-- abbigliamento e calzature/Abbigliamento\",\"ALL/-- altri beni e servizi/Pacchetti vacanza\",\"ALL/-- abitazione, acqua, elettricit\\u00e0, gas e altri combustibili/Fitti imputati per abitazione\",\"ALL/-- servizi sanitari e spese per la salute/Medicinali, prodotti farmaceutici, attrezzature e apparecchiature medicali\",\"ALL/-- altri beni e servizi/Pacchetti vacanza\",\"ALL/-- abitazione, acqua, elettricit\\u00e0, gas e altri combustibili/Fornitura acqua e servizi vari connessi all\\\"'abitazione\",\"ALL/-- trasporti/Spese di esercizio mezzi di trasporto\",\"ALL/-- ricreazione, spettacoli e cultura/Altri articoli e attrezzature per attivit\\u00e0 ricreative, giardinaggio e animali\",\"ALL/-- ricreazione, spettacoli e cultura/Apparecchi audiovisivi, fotografici e informatici\",\"ALL/-- altri beni e servizi/Pacchetti vacanza\",\"ALL/-- ricreazione, spettacoli e cultura/Apparecchi audiovisivi, fotografici e informatici\",\"ALL/-- ricreazione, spettacoli e cultura/Apparecchi audiovisivi, fotografici e informatici\",\"ALL/-- ricreazione, spettacoli e cultura/Giornali, libri e articoli di cartoleria\",\"ALL/-- ricreazione, spettacoli e cultura/Altri articoli e attrezzature per attivit\\u00e0 ricreative, giardinaggio e animali\",\"ALL/-- ricreazione, spettacoli e cultura/Altri articoli e attrezzature per attivit\\u00e0 ricreative, giardinaggio e animali\",\"ALL/-- altri beni e servizi/Pacchetti vacanza\",\"ALL/-- altri beni e servizi/Pacchetti vacanza\",\"ALL/-- altri beni e servizi/Pacchetti vacanza\",\"ALL/-- altri beni e servizi/Pacchetti vacanza\",\"ALL/-- altri beni e servizi/Pacchetti vacanza\",\"ALL/-- servizi sanitari e spese per la salute/Medicinali, prodotti farmaceutici, attrezzature e apparecchiature medicali\",\"ALL/-- trasporti/Acquisto mezzi di trasporto\",\"ALL/-- altri beni e servizi/Pacchetti vacanza\",\"ALL/-- mobili, articoli e servizi per la casa/Beni e servizi per la manutenzione ordinaria della casa\",\"ALL/-- trasporti/Acquisto mezzi di trasporto\",\"ALL/-- bevande alcoliche e tabacchi/Bevande alcoliche\",\"ALL/-- prodotti alimentari e bevande analcoliche/Bevande analcoliche\",\"ALL/-- trasporti/Spese di esercizio mezzi di trasporto\",\"ALL/-- prodotti alimentari e bevande analcoliche/Prodotti alimentari\",\"ALL/-- abitazione, acqua, elettricit\\u00e0, gas e altri combustibili/Energia elettrica, gas e altri combustibili\",\"ALL/-- istruzione/Pacchetti vacanza\",\"ALL/-- altri beni e servizi/Pacchetti vacanza\",\"ALL/-- abitazione, acqua, elettricit\\u00e0, gas e altri combustibili/Energia elettrica, gas e altri combustibili\",\"ALL/-- abitazione, acqua, elettricit\\u00e0, gas e altri combustibili/Energia elettrica, gas e altri combustibili\",\"ALL/-- abitazione, acqua, elettricit\\u00e0, gas e altri combustibili/Fitti imputati per abitazione\",\"ALL/-- abitazione, acqua, elettricit\\u00e0, gas e altri combustibili/Fornitura acqua e servizi vari connessi all\\\"'abitazione\",\"ALL/-- prodotti alimentari e bevande analcoliche/Prodotti alimentari\",\"ALL/-- abitazione, acqua, elettricit\\u00e0, gas e altri combustibili/Energia elettrica, gas e altri combustibili\",\"ALL/-- abitazione, acqua, elettricit\\u00e0, gas e altri combustibili/Energia elettrica, gas e altri combustibili\",\"ALL/-- ricreazione, spettacoli e cultura/Altri articoli e attrezzature per attivit\\u00e0 ricreative, giardinaggio e animali\",\"ALL/-- ricreazione, spettacoli e cultura/Servizi ricreativi e culturali\",\"ALL/-- altri beni e servizi/Pacchetti vacanza\",\"ALL/-- ricreazione, spettacoli e cultura/Giornali, libri e articoli di cartoleria\",\"ALL/-- mobili, articoli e servizi per la casa/Elettrodomestici e apparecchi per la casa\",\"ALL/-- mobili, articoli e servizi per la casa/Utensili e attrezzature per la casa e il giardino\",\"ALL/-- abbigliamento e calzature/Abbigliamento\",\"ALL/-- istruzione/Pacchetti vacanza\",\"ALL/-- istruzione/Pacchetti vacanza\",\"ALL/-- prodotti alimentari e bevande analcoliche/Prodotti alimentari\",\"ALL/-- ricreazione, spettacoli e cultura/Giornali, libri e articoli di cartoleria\",\"ALL/-- trasporti/Spese di esercizio mezzi di trasporto\",\"ALL/-- ricreazione, spettacoli e cultura/Giornali, libri e articoli di cartoleria\",\"ALL/-- abitazione, acqua, elettricit\\u00e0, gas e altri combustibili/Riparazione e manutenzione della casa\",\"ALL/-- servizi ricettivi e di ristorazione/Pacchetti vacanza\",\"ALL/-- mobili, articoli e servizi per la casa/Mobili e arredi, tappeti e altri rivestimenti per pavimenti\",\"ALL/-- trasporti/Acquisto mezzi di trasporto\",\"ALL/-- prodotti alimentari e bevande analcoliche/Prodotti alimentari\",\"ALL/-- prodotti alimentari e bevande analcoliche/Prodotti alimentari\",\"ALL/-- prodotti alimentari e bevande analcoliche/Prodotti alimentari\",\"ALL/-- trasporti/Spese di esercizio mezzi di trasporto\",\"ALL/-- mobili, articoli e servizi per la casa/Elettrodomestici e apparecchi per la casa\",\"ALL/-- mobili, articoli e servizi per la casa/Utensili e attrezzature per la casa e il giardino\",\"ALL/-- prodotti alimentari e bevande analcoliche/Prodotti alimentari\",\"ALL/-- servizi sanitari e spese per la salute/Medicinali, prodotti farmaceutici, attrezzature e apparecchiature medicali\",\"ALL/-- abitazione, acqua, elettricit\\u00e0, gas e altri combustibili/Fornitura acqua e servizi vari connessi all\\\"'abitazione\",\"ALL/-- abitazione, acqua, elettricit\\u00e0, gas e altri combustibili/Fornitura acqua e servizi vari connessi all\\\"'abitazione\",\"ALL/-- ricreazione, spettacoli e cultura/Apparecchi audiovisivi, fotografici e informatici\",\"ALL/-- mobili, articoli e servizi per la casa/Elettrodomestici e apparecchi per la casa\",\"ALL/-- abbigliamento e calzature/Calzature\",\"ALL/-- servizi ricettivi e di ristorazione/Pacchetti vacanza\",\"ALL/-- abbigliamento e calzature/Calzature\",\"ALL/-- altri beni e servizi/Pacchetti vacanza\",\"ALL/-- ricreazione, spettacoli e cultura/Servizi ricreativi e culturali\",\"ALL/-- servizi sanitari e spese per la salute/Servizi ambulatoriali\",\"ALL/-- servizi ricettivi e di ristorazione/Pacchetti vacanza\",\"ALL/-- abbigliamento e calzature/Abbigliamento\",\"ALL/-- altri beni e servizi/Pacchetti vacanza\",\"ALL/-- servizi ricettivi e di ristorazione/Pacchetti vacanza\",\"ALL/-- altri beni e servizi/Pacchetti vacanza\",\"ALL/-- servizi sanitari e spese per la salute/Servizi ambulatoriali\",\"ALL/-- servizi sanitari e spese per la salute/Servizi ambulatoriali\",\"ALL/-- mobili, articoli e servizi per la casa/Beni e servizi per la manutenzione ordinaria della casa\",\"ALL/-- abitazione, acqua, elettricit\\u00e0, gas e altri combustibili/Riparazione e manutenzione della casa\",\"ALL/-- ricreazione, spettacoli e cultura/Servizi ricreativi e culturali\",\"ALL/-- ricreazione, spettacoli e cultura/Altri articoli e attrezzature per attivit\\u00e0 ricreative, giardinaggio e animali\",\"ALL/-- ricreazione, spettacoli e cultura/Altri beni durevoli per ricreazione e cultura\",\"ALL/-- ricreazione, spettacoli e cultura/Apparecchi audiovisivi, fotografici e informatici\",\"ALL/-- mobili, articoli e servizi per la casa/Mobili e arredi, tappeti e altri rivestimenti per pavimenti\",\"ALL/-- trasporti/Servizi di trasporto\",\"ALL/-- trasporti/Servizi di trasporto\",\"ALL/-- trasporti/Servizi di trasporto\",\"ALL/-- trasporti/Servizi di trasporto\",\"ALL/-- trasporti/Servizi di trasporto\",\"ALL/-- prodotti alimentari e bevande analcoliche/Prodotti alimentari\",\"ALL/-- bevande alcoliche e tabacchi/Bevande alcoliche\",\"ALL/-- prodotti alimentari e bevande analcoliche/Prodotti alimentari\",\"ALL/-- abbigliamento e calzature\",\"ALL/-- trasporti\",\"ALL/-- abitazione, acqua, elettricit\\u00e0, gas e altri combustibili\",\"ALL/-- ricreazione, spettacoli e cultura\",\"ALL/-- ricreazione, spettacoli e cultura\",\"ALL/-- ricreazione, spettacoli e cultura\",\"ALL/-- mobili, articoli e servizi per la casa\",\"ALL/-- bevande alcoliche e tabacchi\",\"ALL/-- prodotti alimentari e bevande analcoliche\",\"ALL/-- abbigliamento e calzature\",\"ALL/-- mobili, articoli e servizi per la casa\",\"ALL/-- abitazione, acqua, elettricit\\u00e0, gas e altri combustibili\",\"ALL/-- abitazione, acqua, elettricit\\u00e0, gas e altri combustibili\",\"ALL/-- abitazione, acqua, elettricit\\u00e0, gas e altri combustibili\",\"ALL/-- ricreazione, spettacoli e cultura\",\"ALL/-- servizi sanitari e spese per la salute\",\"ALL/-- mobili, articoli e servizi per la casa\",\"ALL/-- altri beni e servizi\",\"ALL/-- istruzione\",\"ALL/-- servizi ricettivi e di ristorazione\",\"ALL/-- prodotti alimentari e bevande analcoliche\",\"ALL/-- abitazione, acqua, elettricit\\u00e0, gas e altri combustibili\",\"ALL/-- servizi sanitari e spese per la salute\",\"ALL/-- trasporti\",\"ALL/-- ricreazione, spettacoli e cultura\",\"ALL/-- trasporti\",\"ALL/-- mobili, articoli e servizi per la casa\",\"ALL\",\"ALL\",\"ALL\",\"ALL\",\"ALL\",\"ALL\",\"ALL\",\"ALL\",\"ALL\",\"ALL\",\"ALL\",\"\"],\"values\":[13.83,0.41,78.99,1.92,1.19,2.26,18.2,1.78,2.89,99.14,4.25,22.16,47.2,8.01,7.48,1.62,0.52,0.18,2.05,1.76,6.06,2.05,4.04,3.93,37.16,25.76,2.74,6.65,36.29,39.4,20.0,0.8,3.88,9.39,50.06,60.29,3.54,1.09,5.01,39.09,1.11,437.5,10.38,30.06,42.31,1.14,2.95,1.64,2.12,3.76,7.08,0.27,29.66,0.17,1.75,39.95,4.62,9.4,0.2,0.8,0.6,12.64,1.59,10.11,47.45,24.7,8.13,2.8,4.9,7.62,35.19,0.16,13.57,0.05,0.17,0.42,48.42,10.41,2.23,7.01,15.65,5.47,2.93,20.68,49.02,0.94,9.87,5.85,26.97,7.23,6.6,2.14,0.18,0.57,0.41,1.96,0.16,0.89,2.92,1.85,44.01,10.62,10.98,34.370000000000005,38.68,81.25,20.68,0.18,4.47,46.97,16.419999999999998,23.22,10.83,10.05,87.19,536.64,71.31,10.34,46.089999999999996,13.05,188.97,3.01,103.51,275.17,8.030000000000001,31.369999999999997,8.19,15.25,75.6,5.17,45.2,784.42,188.97,16.419999999999998,3.01,75.24,298.39,50.92,103.51,77.46,122.47,1766.01],\"type\":\"treemap\",\"textinfo\":\"label+text+value\"}],                        {\"template\":{\"data\":{\"histogram2dcontour\":[{\"type\":\"histogram2dcontour\",\"colorbar\":{\"outlinewidth\":0,\"ticks\":\"\"},\"colorscale\":[[0.0,\"#0d0887\"],[0.1111111111111111,\"#46039f\"],[0.2222222222222222,\"#7201a8\"],[0.3333333333333333,\"#9c179e\"],[0.4444444444444444,\"#bd3786\"],[0.5555555555555556,\"#d8576b\"],[0.6666666666666666,\"#ed7953\"],[0.7777777777777778,\"#fb9f3a\"],[0.8888888888888888,\"#fdca26\"],[1.0,\"#f0f921\"]]}],\"choropleth\":[{\"type\":\"choropleth\",\"colorbar\":{\"outlinewidth\":0,\"ticks\":\"\"}}],\"histogram2d\":[{\"type\":\"histogram2d\",\"colorbar\":{\"outlinewidth\":0,\"ticks\":\"\"},\"colorscale\":[[0.0,\"#0d0887\"],[0.1111111111111111,\"#46039f\"],[0.2222222222222222,\"#7201a8\"],[0.3333333333333333,\"#9c179e\"],[0.4444444444444444,\"#bd3786\"],[0.5555555555555556,\"#d8576b\"],[0.6666666666666666,\"#ed7953\"],[0.7777777777777778,\"#fb9f3a\"],[0.8888888888888888,\"#fdca26\"],[1.0,\"#f0f921\"]]}],\"heatmap\":[{\"type\":\"heatmap\",\"colorbar\":{\"outlinewidth\":0,\"ticks\":\"\"},\"colorscale\":[[0.0,\"#0d0887\"],[0.1111111111111111,\"#46039f\"],[0.2222222222222222,\"#7201a8\"],[0.3333333333333333,\"#9c179e\"],[0.4444444444444444,\"#bd3786\"],[0.5555555555555556,\"#d8576b\"],[0.6666666666666666,\"#ed7953\"],[0.7777777777777778,\"#fb9f3a\"],[0.8888888888888888,\"#fdca26\"],[1.0,\"#f0f921\"]]}],\"heatmapgl\":[{\"type\":\"heatmapgl\",\"colorbar\":{\"outlinewidth\":0,\"ticks\":\"\"},\"colorscale\":[[0.0,\"#0d0887\"],[0.1111111111111111,\"#46039f\"],[0.2222222222222222,\"#7201a8\"],[0.3333333333333333,\"#9c179e\"],[0.4444444444444444,\"#bd3786\"],[0.5555555555555556,\"#d8576b\"],[0.6666666666666666,\"#ed7953\"],[0.7777777777777778,\"#fb9f3a\"],[0.8888888888888888,\"#fdca26\"],[1.0,\"#f0f921\"]]}],\"contourcarpet\":[{\"type\":\"contourcarpet\",\"colorbar\":{\"outlinewidth\":0,\"ticks\":\"\"}}],\"contour\":[{\"type\":\"contour\",\"colorbar\":{\"outlinewidth\":0,\"ticks\":\"\"},\"colorscale\":[[0.0,\"#0d0887\"],[0.1111111111111111,\"#46039f\"],[0.2222222222222222,\"#7201a8\"],[0.3333333333333333,\"#9c179e\"],[0.4444444444444444,\"#bd3786\"],[0.5555555555555556,\"#d8576b\"],[0.6666666666666666,\"#ed7953\"],[0.7777777777777778,\"#fb9f3a\"],[0.8888888888888888,\"#fdca26\"],[1.0,\"#f0f921\"]]}],\"surface\":[{\"type\":\"surface\",\"colorbar\":{\"outlinewidth\":0,\"ticks\":\"\"},\"colorscale\":[[0.0,\"#0d0887\"],[0.1111111111111111,\"#46039f\"],[0.2222222222222222,\"#7201a8\"],[0.3333333333333333,\"#9c179e\"],[0.4444444444444444,\"#bd3786\"],[0.5555555555555556,\"#d8576b\"],[0.6666666666666666,\"#ed7953\"],[0.7777777777777778,\"#fb9f3a\"],[0.8888888888888888,\"#fdca26\"],[1.0,\"#f0f921\"]]}],\"mesh3d\":[{\"type\":\"mesh3d\",\"colorbar\":{\"outlinewidth\":0,\"ticks\":\"\"}}],\"scatter\":[{\"fillpattern\":{\"fillmode\":\"overlay\",\"size\":10,\"solidity\":0.2},\"type\":\"scatter\"}],\"parcoords\":[{\"type\":\"parcoords\",\"line\":{\"colorbar\":{\"outlinewidth\":0,\"ticks\":\"\"}}}],\"scatterpolargl\":[{\"type\":\"scatterpolargl\",\"marker\":{\"colorbar\":{\"outlinewidth\":0,\"ticks\":\"\"}}}],\"bar\":[{\"error_x\":{\"color\":\"#2a3f5f\"},\"error_y\":{\"color\":\"#2a3f5f\"},\"marker\":{\"line\":{\"color\":\"#E5ECF6\",\"width\":0.5},\"pattern\":{\"fillmode\":\"overlay\",\"size\":10,\"solidity\":0.2}},\"type\":\"bar\"}],\"scattergeo\":[{\"type\":\"scattergeo\",\"marker\":{\"colorbar\":{\"outlinewidth\":0,\"ticks\":\"\"}}}],\"scatterpolar\":[{\"type\":\"scatterpolar\",\"marker\":{\"colorbar\":{\"outlinewidth\":0,\"ticks\":\"\"}}}],\"histogram\":[{\"marker\":{\"pattern\":{\"fillmode\":\"overlay\",\"size\":10,\"solidity\":0.2}},\"type\":\"histogram\"}],\"scattergl\":[{\"type\":\"scattergl\",\"marker\":{\"colorbar\":{\"outlinewidth\":0,\"ticks\":\"\"}}}],\"scatter3d\":[{\"type\":\"scatter3d\",\"line\":{\"colorbar\":{\"outlinewidth\":0,\"ticks\":\"\"}},\"marker\":{\"colorbar\":{\"outlinewidth\":0,\"ticks\":\"\"}}}],\"scattermapbox\":[{\"type\":\"scattermapbox\",\"marker\":{\"colorbar\":{\"outlinewidth\":0,\"ticks\":\"\"}}}],\"scatterternary\":[{\"type\":\"scatterternary\",\"marker\":{\"colorbar\":{\"outlinewidth\":0,\"ticks\":\"\"}}}],\"scattercarpet\":[{\"type\":\"scattercarpet\",\"marker\":{\"colorbar\":{\"outlinewidth\":0,\"ticks\":\"\"}}}],\"carpet\":[{\"aaxis\":{\"endlinecolor\":\"#2a3f5f\",\"gridcolor\":\"white\",\"linecolor\":\"white\",\"minorgridcolor\":\"white\",\"startlinecolor\":\"#2a3f5f\"},\"baxis\":{\"endlinecolor\":\"#2a3f5f\",\"gridcolor\":\"white\",\"linecolor\":\"white\",\"minorgridcolor\":\"white\",\"startlinecolor\":\"#2a3f5f\"},\"type\":\"carpet\"}],\"table\":[{\"cells\":{\"fill\":{\"color\":\"#EBF0F8\"},\"line\":{\"color\":\"white\"}},\"header\":{\"fill\":{\"color\":\"#C8D4E3\"},\"line\":{\"color\":\"white\"}},\"type\":\"table\"}],\"barpolar\":[{\"marker\":{\"line\":{\"color\":\"#E5ECF6\",\"width\":0.5},\"pattern\":{\"fillmode\":\"overlay\",\"size\":10,\"solidity\":0.2}},\"type\":\"barpolar\"}],\"pie\":[{\"automargin\":true,\"type\":\"pie\"}]},\"layout\":{\"autotypenumbers\":\"strict\",\"colorway\":[\"#636efa\",\"#EF553B\",\"#00cc96\",\"#ab63fa\",\"#FFA15A\",\"#19d3f3\",\"#FF6692\",\"#B6E880\",\"#FF97FF\",\"#FECB52\"],\"font\":{\"color\":\"#2a3f5f\"},\"hovermode\":\"closest\",\"hoverlabel\":{\"align\":\"left\"},\"paper_bgcolor\":\"white\",\"plot_bgcolor\":\"#E5ECF6\",\"polar\":{\"bgcolor\":\"#E5ECF6\",\"angularaxis\":{\"gridcolor\":\"white\",\"linecolor\":\"white\",\"ticks\":\"\"},\"radialaxis\":{\"gridcolor\":\"white\",\"linecolor\":\"white\",\"ticks\":\"\"}},\"ternary\":{\"bgcolor\":\"#E5ECF6\",\"aaxis\":{\"gridcolor\":\"white\",\"linecolor\":\"white\",\"ticks\":\"\"},\"baxis\":{\"gridcolor\":\"white\",\"linecolor\":\"white\",\"ticks\":\"\"},\"caxis\":{\"gridcolor\":\"white\",\"linecolor\":\"white\",\"ticks\":\"\"}},\"coloraxis\":{\"colorbar\":{\"outlinewidth\":0,\"ticks\":\"\"}},\"colorscale\":{\"sequential\":[[0.0,\"#0d0887\"],[0.1111111111111111,\"#46039f\"],[0.2222222222222222,\"#7201a8\"],[0.3333333333333333,\"#9c179e\"],[0.4444444444444444,\"#bd3786\"],[0.5555555555555556,\"#d8576b\"],[0.6666666666666666,\"#ed7953\"],[0.7777777777777778,\"#fb9f3a\"],[0.8888888888888888,\"#fdca26\"],[1.0,\"#f0f921\"]],\"sequentialminus\":[[0.0,\"#0d0887\"],[0.1111111111111111,\"#46039f\"],[0.2222222222222222,\"#7201a8\"],[0.3333333333333333,\"#9c179e\"],[0.4444444444444444,\"#bd3786\"],[0.5555555555555556,\"#d8576b\"],[0.6666666666666666,\"#ed7953\"],[0.7777777777777778,\"#fb9f3a\"],[0.8888888888888888,\"#fdca26\"],[1.0,\"#f0f921\"]],\"diverging\":[[0,\"#8e0152\"],[0.1,\"#c51b7d\"],[0.2,\"#de77ae\"],[0.3,\"#f1b6da\"],[0.4,\"#fde0ef\"],[0.5,\"#f7f7f7\"],[0.6,\"#e6f5d0\"],[0.7,\"#b8e186\"],[0.8,\"#7fbc41\"],[0.9,\"#4d9221\"],[1,\"#276419\"]]},\"xaxis\":{\"gridcolor\":\"white\",\"linecolor\":\"white\",\"ticks\":\"\",\"title\":{\"standoff\":15},\"zerolinecolor\":\"white\",\"automargin\":true,\"zerolinewidth\":2},\"yaxis\":{\"gridcolor\":\"white\",\"linecolor\":\"white\",\"ticks\":\"\",\"title\":{\"standoff\":15},\"zerolinecolor\":\"white\",\"automargin\":true,\"zerolinewidth\":2},\"scene\":{\"xaxis\":{\"backgroundcolor\":\"#E5ECF6\",\"gridcolor\":\"white\",\"linecolor\":\"white\",\"showbackground\":true,\"ticks\":\"\",\"zerolinecolor\":\"white\",\"gridwidth\":2},\"yaxis\":{\"backgroundcolor\":\"#E5ECF6\",\"gridcolor\":\"white\",\"linecolor\":\"white\",\"showbackground\":true,\"ticks\":\"\",\"zerolinecolor\":\"white\",\"gridwidth\":2},\"zaxis\":{\"backgroundcolor\":\"#E5ECF6\",\"gridcolor\":\"white\",\"linecolor\":\"white\",\"showbackground\":true,\"ticks\":\"\",\"zerolinecolor\":\"white\",\"gridwidth\":2}},\"shapedefaults\":{\"line\":{\"color\":\"#2a3f5f\"}},\"annotationdefaults\":{\"arrowcolor\":\"#2a3f5f\",\"arrowhead\":0,\"arrowwidth\":1},\"geo\":{\"bgcolor\":\"white\",\"landcolor\":\"#E5ECF6\",\"subunitcolor\":\"white\",\"showland\":true,\"showlakes\":true,\"lakecolor\":\"white\"},\"title\":{\"x\":0.05},\"mapbox\":{\"style\":\"light\"}}},\"legend\":{\"tracegroupgap\":0},\"margin\":{\"t\":60}},                        {\"responsive\": true}                    ).then(function(){\n",
       "                            \n",
       "var gd = document.getElementById('0a5e5ca6-997b-4515-a780-881eb5769b54');\n",
       "var x = new MutationObserver(function (mutations, observer) {{\n",
       "        var display = window.getComputedStyle(gd).display;\n",
       "        if (!display || display === 'none') {{\n",
       "            console.log([gd, 'removed!']);\n",
       "            Plotly.purge(gd);\n",
       "            observer.disconnect();\n",
       "        }}\n",
       "}});\n",
       "\n",
       "// Listen for the removal of the full notebook cells\n",
       "var notebookContainer = gd.closest('#notebook-container');\n",
       "if (notebookContainer) {{\n",
       "    x.observe(notebookContainer, {childList: true});\n",
       "}}\n",
       "\n",
       "// Listen for the clearing of the current output cell\n",
       "var outputEl = gd.closest('.output');\n",
       "if (outputEl) {{\n",
       "    x.observe(outputEl, {childList: true});\n",
       "}}\n",
       "\n",
       "                        })                };                });            </script>        </div>"
      ]
     },
     "metadata": {},
     "output_type": "display_data"
    }
   ],
   "source": [
    "mask = df[(df['componenti'] == '1') & (df['Anno'] == 2020) & (df['Territorio']=='Italia')]\n",
    "dff = mask.groupby(by=[\"Root\", \"First_level\", \"Second_level\"]).sum('Spesa media').reset_index()\n",
    "fig = px.treemap(\n",
    "    dff, path=[px.Constant(\"ALL\"), \"Root\", \"First_level\", \"Second_level\"], \n",
    "    values='Spesa media', labels={\n",
    "        'id': 'Coicop (DESC)'\n",
    "    }\n",
    ")\n",
    "fig.data[0].textinfo = 'label+text+value'\n",
    "fig.show()"
   ]
  },
  {
   "cell_type": "code",
   "execution_count": 75,
   "metadata": {},
   "outputs": [],
   "source": [
    "df = pd.read_csv(\"spese-2022.csv\", quotechar=\"'\")\n",
    "selected_columns = ['Territorio', 'COICOP', 'Coicop (DESC)', 'componenti', 'Anno', 'Spesa media']\n",
    "df = df[selected_columns]\n",
    "\n",
    "#spesa media\n",
    "df['Spesa media'] = pd.to_numeric(df['Spesa media'], errors='coerce')\n",
    "df['Spesa media'] = df['Spesa media'].replace(np.nan, -1, regex=True)\n",
    "df['Spesa media'] = df['Spesa media'].astype(float)\n",
    "df = df[df['Spesa media'] >= 0]\n",
    "\n",
    "#territorio\n",
    "df.replace(inplace=True, to_replace='Valle d\"\\'Aosta / Vallée d\"\\'Aoste', value='Valle d\\'Aosta/Vallée d\\'Aoste')\n",
    "df.replace(inplace=True, to_replace='Trentino Alto Adige / Südtirol', value='Trentino-Alto Adige/Südtirol')\n",
    "\n",
    "#categorie\n",
    "values_to_exclude = ['130', '220', '0461_MAJOR_REN', '540', '820', '980', '1010', '1020', '1030', '1040', '1050', '1120', '1330', '1390']\n",
    "\n",
    "df = df[~df['COICOP'].isin(values_to_exclude)]\n",
    "df.loc[df['COICOP'] == '046_MAJOR_REN', 'COICOP'] = '46'\n",
    "\n",
    "df.loc[df['COICOP'] == 'NON_FOOD', 'Root'] = 'Non alimenti'\n",
    "df.loc[((df['COICOP'].str.len() <= 2) & (df['Coicop (DESC)'].str.startswith(\"--\"))) | (df['COICOP'] == 'ALL'), 'Root'] = df['Coicop (DESC)']\n",
    "\n",
    "##first level\n",
    "df.loc[((df['COICOP'].str.len() == 2) & (df['Root'].isna())) |\n",
    "    ((df['COICOP'].str.len() == 2) & (df['COICOP'].isin([111, 112])) \n",
    "     & (df['Coicop (DESC)'].isin(['Pane e cereali', 'Carni']))), 'First_level'] = df['Coicop (DESC)']\n",
    "\n",
    "##second level\n",
    "df.loc[((df['COICOP'].str.len() == 3) & (df['First_level'].isna()) & (df['Root'].isna())) |\n",
    "       ((df['COICOP'].str.len() == 4)), 'Second_level'] = df['Coicop (DESC)']\n",
    "\n",
    "#fill the gaps\n",
    "mask = df['Root'].isna()\n",
    "df['Root'] = df['Root'].fillna(method='ffill')\n",
    "df.loc[mask, 'First_level'] = df['First_level'].fillna(method='ffill')"
   ]
  },
  {
   "cell_type": "code",
   "execution_count": 73,
   "metadata": {},
   "outputs": [
    {
     "data": {
      "text/plain": [
       "array(['Italia', 'Nord', 'Piemonte', \"Valle d'Aosta/Vallée d'Aoste\",\n",
       "       'Liguria', 'Lombardia', 'Trentino-Alto Adige/Südtirol',\n",
       "       'Provincia Autonoma Bolzano / Bozen', 'Provincia Autonoma Trento',\n",
       "       'Veneto', 'Friuli-Venezia Giulia', 'Emilia-Romagna', 'Centro',\n",
       "       'Toscana', 'Umbria', 'Marche', 'Lazio', 'Mezzogiorno', 'Abruzzo',\n",
       "       'Molise', 'Campania', 'Puglia', 'Basilicata', 'Calabria',\n",
       "       'Sicilia', 'Sardegna'], dtype=object)"
      ]
     },
     "execution_count": 73,
     "metadata": {},
     "output_type": "execute_result"
    }
   ],
   "source": [
    "df['Territorio'].unique()"
   ]
  }
 ],
 "metadata": {
  "kernelspec": {
   "display_name": "Python 3 (ipykernel)",
   "language": "python",
   "name": "python3"
  },
  "language_info": {
   "codemirror_mode": {
    "name": "ipython",
    "version": 3
   },
   "file_extension": ".py",
   "mimetype": "text/x-python",
   "name": "python",
   "nbconvert_exporter": "python",
   "pygments_lexer": "ipython3",
   "version": "3.11.5"
  }
 },
 "nbformat": 4,
 "nbformat_minor": 2
}
